{
 "cells": [
  {
   "cell_type": "markdown",
   "metadata": {},
   "source": [
    "# Pandas Series"
   ]
  },
  {
   "cell_type": "code",
   "execution_count": 1,
   "metadata": {},
   "outputs": [],
   "source": [
    "import pandas as pd"
   ]
  },
  {
   "cell_type": "code",
   "execution_count": 2,
   "metadata": {},
   "outputs": [
    {
     "data": {
      "text/plain": [
       "0    4\n",
       "1    3\n",
       "2    6\n",
       "3   -8\n",
       "4    6\n",
       "dtype: int64"
      ]
     },
     "execution_count": 2,
     "metadata": {},
     "output_type": "execute_result"
    }
   ],
   "source": [
    "a=pd.Series([4,3,6,-8,6])\n",
    "a"
   ]
  },
  {
   "cell_type": "code",
   "execution_count": 3,
   "metadata": {},
   "outputs": [
    {
     "name": "stdout",
     "output_type": "stream",
     "text": [
      "[ 4  3  6 -8  6]\n"
     ]
    }
   ],
   "source": [
    "print(a.values)"
   ]
  },
  {
   "cell_type": "code",
   "execution_count": 4,
   "metadata": {},
   "outputs": [
    {
     "name": "stdout",
     "output_type": "stream",
     "text": [
      "RangeIndex(start=0, stop=5, step=1)\n"
     ]
    }
   ],
   "source": [
    "print(a.index)"
   ]
  },
  {
   "cell_type": "code",
   "execution_count": 5,
   "metadata": {},
   "outputs": [
    {
     "name": "stdout",
     "output_type": "stream",
     "text": [
      "jan    34\n",
      "dec    25\n",
      "mar    65\n",
      "jun    43\n",
      "dtype: int64\n"
     ]
    },
    {
     "data": {
      "text/plain": [
       "a    34\n",
       "b    25\n",
       "c    65\n",
       "d    43\n",
       "dtype: int64"
      ]
     },
     "execution_count": 5,
     "metadata": {},
     "output_type": "execute_result"
    }
   ],
   "source": [
    "temp=pd.Series([34,25,65,43],index=['jan','dec','mar','jun'])\n",
    "print(temp)\n",
    "temp.index=['a','b','c','d']\n",
    "temp"
   ]
  },
  {
   "cell_type": "code",
   "execution_count": 6,
   "metadata": {},
   "outputs": [
    {
     "name": "stdout",
     "output_type": "stream",
     "text": [
      "Index(['a', 'b', 'c', 'd'], dtype='object')\n"
     ]
    }
   ],
   "source": [
    "print(temp.index)"
   ]
  },
  {
   "cell_type": "code",
   "execution_count": 7,
   "metadata": {},
   "outputs": [
    {
     "data": {
      "text/plain": [
       "mon    34\n",
       "tue    44\n",
       "wed    35\n",
       "thu    66\n",
       "fri    45\n",
       "sat    71\n",
       "sun    56\n",
       "dtype: int64"
      ]
     },
     "execution_count": 7,
     "metadata": {},
     "output_type": "execute_result"
    }
   ],
   "source": [
    "sandwich=pd.Series([34,44,35,66,45,71,56],index=[\"mon\",\"tue\",\"wed\",\"thu\",\"fri\",\"sat\",\"sun\"])\n",
    "sandwich"
   ]
  },
  {
   "cell_type": "code",
   "execution_count": 8,
   "metadata": {},
   "outputs": [
    {
     "data": {
      "text/plain": [
       "jan    34\n",
       "dec    25\n",
       "mar    65\n",
       "jun    43\n",
       "Name: 4 month temp, dtype: int64"
      ]
     },
     "execution_count": 8,
     "metadata": {},
     "output_type": "execute_result"
    }
   ],
   "source": [
    "temp=pd.Series([34,25,65,43],index=['jan','dec','mar','jun'],name=\"4 month temp\")\n",
    "temp"
   ]
  },
  {
   "cell_type": "code",
   "execution_count": 9,
   "metadata": {},
   "outputs": [
    {
     "name": "stdout",
     "output_type": "stream",
     "text": [
      "25\n"
     ]
    }
   ],
   "source": [
    "print(temp[1])"
   ]
  },
  {
   "cell_type": "code",
   "execution_count": 10,
   "metadata": {},
   "outputs": [
    {
     "name": "stdout",
     "output_type": "stream",
     "text": [
      "65\n"
     ]
    }
   ],
   "source": [
    "print(temp['mar'])"
   ]
  },
  {
   "cell_type": "code",
   "execution_count": 11,
   "metadata": {},
   "outputs": [
    {
     "name": "stdout",
     "output_type": "stream",
     "text": [
      "jun    43\n",
      "dec    25\n",
      "Name: 4 month temp, dtype: int64\n"
     ]
    }
   ],
   "source": [
    "print(temp[[3,1]])"
   ]
  },
  {
   "cell_type": "code",
   "execution_count": 12,
   "metadata": {},
   "outputs": [
    {
     "name": "stdout",
     "output_type": "stream",
     "text": [
      "mar    65\n",
      "dec    25\n",
      "Name: 4 month temp, dtype: int64\n"
     ]
    }
   ],
   "source": [
    "print(temp[['mar','dec']])"
   ]
  },
  {
   "cell_type": "code",
   "execution_count": 13,
   "metadata": {},
   "outputs": [
    {
     "name": "stdout",
     "output_type": "stream",
     "text": [
      "mar    65\n",
      "jun    43\n",
      "Name: 4 month temp, dtype: int64\n"
     ]
    }
   ],
   "source": [
    "print(temp[temp>34])"
   ]
  },
  {
   "cell_type": "code",
   "execution_count": 14,
   "metadata": {},
   "outputs": [
    {
     "data": {
      "text/plain": [
       "jan    34\n",
       "dec    25\n",
       "mar    65\n",
       "jun    43\n",
       "Name: 4 month temp, dtype: int64"
      ]
     },
     "execution_count": 14,
     "metadata": {},
     "output_type": "execute_result"
    }
   ],
   "source": [
    "temp"
   ]
  },
  {
   "cell_type": "code",
   "execution_count": 15,
   "metadata": {},
   "outputs": [
    {
     "name": "stdout",
     "output_type": "stream",
     "text": [
      "jan     68\n",
      "dec     50\n",
      "mar    130\n",
      "jun     86\n",
      "Name: 4 month temp, dtype: int64\n"
     ]
    }
   ],
   "source": [
    "temp=temp*2\n",
    "print(temp)"
   ]
  },
  {
   "cell_type": "code",
   "execution_count": 16,
   "metadata": {},
   "outputs": [
    {
     "name": "stdout",
     "output_type": "stream",
     "text": [
      "jan    34.0\n",
      "dec    25.0\n",
      "mar    65.0\n",
      "jun    43.0\n",
      "Name: 4 month temp, dtype: float64\n"
     ]
    }
   ],
   "source": [
    "temp=temp/2\n",
    "print(temp)"
   ]
  },
  {
   "cell_type": "code",
   "execution_count": 17,
   "metadata": {},
   "outputs": [
    {
     "data": {
      "text/plain": [
       "True"
      ]
     },
     "execution_count": 17,
     "metadata": {},
     "output_type": "execute_result"
    }
   ],
   "source": [
    "'mar' in temp"
   ]
  },
  {
   "cell_type": "code",
   "execution_count": 18,
   "metadata": {},
   "outputs": [
    {
     "data": {
      "text/plain": [
       "False"
      ]
     },
     "execution_count": 18,
     "metadata": {},
     "output_type": "execute_result"
    }
   ],
   "source": [
    "'jjj' in temp"
   ]
  },
  {
   "cell_type": "code",
   "execution_count": 19,
   "metadata": {},
   "outputs": [
    {
     "data": {
      "text/plain": [
       "eng          32\n",
       "maths        22\n",
       "urdu         32\n",
       "chemistry    33\n",
       "physics      43\n",
       "cs           48\n",
       "dtype: int32"
      ]
     },
     "execution_count": 19,
     "metadata": {},
     "output_type": "execute_result"
    }
   ],
   "source": [
    "import numpy as np\n",
    "ar1=np.array([32,22,32,33,43,48])\n",
    "ar2=np.array(['eng','maths','urdu','chemistry','physics','cs'])\n",
    "obj=pd.Series(ar1,index=ar2)\n",
    "obj"
   ]
  },
  {
   "cell_type": "code",
   "execution_count": 20,
   "metadata": {},
   "outputs": [
    {
     "name": "stdout",
     "output_type": "stream",
     "text": [
      "kp              500\n",
      "baluchistan     202\n",
      "sindh           900\n",
      "punjab         2080\n",
      "dtype: int64\n",
      "Index(['kp', 'baluchistan', 'sindh', 'punjab'], dtype='object')\n",
      "[ 500  202  900 2080]\n"
     ]
    }
   ],
   "source": [
    "corono={'kp':500,'baluchistan':202,'sindh':900,'punjab':2080}\n",
    "ps=pd.Series(corono)\n",
    "print(ps)\n",
    "print(ps.index)\n",
    "print(ps.values)"
   ]
  },
  {
   "cell_type": "code",
   "execution_count": 21,
   "metadata": {},
   "outputs": [
    {
     "name": "stdout",
     "output_type": "stream",
     "text": [
      "punjab         2080.0\n",
      "baluchistan     202.0\n",
      "sindh           900.0\n",
      "kp              500.0\n",
      "gb                NaN\n",
      "dtype: float64\n"
     ]
    }
   ],
   "source": [
    "corono={'kp':500,'baluchistan':202,'sindh':900,'punjab':2080}\n",
    "ps=pd.Series(corono,index=['punjab','baluchistan','sindh','kp','gb'])\n",
    "print(ps)"
   ]
  },
  {
   "cell_type": "code",
   "execution_count": 22,
   "metadata": {},
   "outputs": [
    {
     "name": "stdout",
     "output_type": "stream",
     "text": [
      "punjab         2080.0\n",
      "baluchistan     202.0\n",
      "sindh           900.0\n",
      "kp              500.0\n",
      "gb                NaN\n",
      "dtype: float64\n",
      "punjab         False\n",
      "baluchistan    False\n",
      "sindh          False\n",
      "kp             False\n",
      "gb              True\n",
      "dtype: bool\n"
     ]
    },
    {
     "data": {
      "text/plain": [
       "punjab         False\n",
       "baluchistan    False\n",
       "sindh          False\n",
       "kp             False\n",
       "gb              True\n",
       "dtype: bool"
      ]
     },
     "execution_count": 22,
     "metadata": {},
     "output_type": "execute_result"
    }
   ],
   "source": [
    "print(ps)\n",
    "print(pd.isnull(ps))\n",
    "ps.isnull()"
   ]
  },
  {
   "cell_type": "code",
   "execution_count": 23,
   "metadata": {},
   "outputs": [
    {
     "name": "stdout",
     "output_type": "stream",
     "text": [
      "a    23\n",
      "b    24\n",
      "c    43\n",
      "d    44\n",
      "e    19\n",
      "f    92\n",
      "dtype: int64\n"
     ]
    }
   ],
   "source": [
    "x=[23,24,43,44,19,92]\n",
    "v=['a','b','c','d','e','f']\n",
    "y=pd.Series(x,v)\n",
    "print(y)\n"
   ]
  },
  {
   "cell_type": "code",
   "execution_count": 24,
   "metadata": {},
   "outputs": [
    {
     "name": "stdout",
     "output_type": "stream",
     "text": [
      "provinces\n",
      "punjab         2080.0\n",
      "baluchistan     202.0\n",
      "sindh           900.0\n",
      "kp              500.0\n",
      "gb                NaN\n",
      "Name: patients, dtype: float64\n",
      "Index(['punjab', 'baluchistan', 'sindh', 'kp', 'gb'], dtype='object', name='provinces')\n"
     ]
    }
   ],
   "source": [
    "ps.name=\"patients\"\n",
    "ps.index.name=\"provinces\"\n",
    "print(ps)\n",
    "print(ps.index)"
   ]
  },
  {
   "cell_type": "markdown",
   "metadata": {},
   "source": [
    "# Pandas DataFrame"
   ]
  },
  {
   "cell_type": "code",
   "execution_count": 25,
   "metadata": {},
   "outputs": [
    {
     "name": "stdout",
     "output_type": "stream",
     "text": [
      "0     500\n",
      "1    2076\n",
      "2     209\n",
      "3     902\n",
      "dtype: int64 0    17\n",
      "1    15\n",
      "2     4\n",
      "3     9\n",
      "dtype: int64\n",
      "   patients  dieds\n",
      "0       500     17\n",
      "1      2076     15\n",
      "2       209      4\n",
      "3       902      9\n"
     ]
    }
   ],
   "source": [
    "patients=pd.Series([500,2076,209,902])\n",
    "dieds=pd.Series([17,15,4,9])\n",
    "print(patients,dieds)\n",
    "data={\"patients\":patients,\"dieds\":dieds}\n",
    "df=pd.DataFrame(data)\n",
    "print(df)"
   ]
  },
  {
   "cell_type": "code",
   "execution_count": 26,
   "metadata": {},
   "outputs": [
    {
     "name": "stdout",
     "output_type": "stream",
     "text": [
      "      state  Year  pop\n",
      "1st    Ohio  2000  1.5\n",
      "2nd    Ohio  2001  1.7\n",
      "3rd    Ohio  2002  3.6\n",
      "4th  Nevada  2001  2.4\n",
      "5th  Nevada  2002  2.9\n",
      "6ht  Nevada  2003  3.2\n"
     ]
    }
   ],
   "source": [
    "state=['Ohio','Ohio','Ohio','Nevada','Nevada','Nevada']\n",
    "data={\"state\":state,\n",
    "     \"Year\":[2000,2001,2002,2001,2002,2003],\n",
    "     \"pop\":[1.5,1.7,3.6,2.4,2.9,3.2]}\n",
    "frame=pd.DataFrame(data,index=['1st','2nd','3rd','4th','5th','6ht',])\n",
    "print(frame)"
   ]
  },
  {
   "cell_type": "code",
   "execution_count": 27,
   "metadata": {},
   "outputs": [
    {
     "data": {
      "text/html": [
       "<div>\n",
       "<style scoped>\n",
       "    .dataframe tbody tr th:only-of-type {\n",
       "        vertical-align: middle;\n",
       "    }\n",
       "\n",
       "    .dataframe tbody tr th {\n",
       "        vertical-align: top;\n",
       "    }\n",
       "\n",
       "    .dataframe thead th {\n",
       "        text-align: right;\n",
       "    }\n",
       "</style>\n",
       "<table border=\"1\" class=\"dataframe\">\n",
       "  <thead>\n",
       "    <tr style=\"text-align: right;\">\n",
       "      <th></th>\n",
       "      <th>pop</th>\n",
       "      <th>state</th>\n",
       "      <th>year</th>\n",
       "    </tr>\n",
       "  </thead>\n",
       "  <tbody>\n",
       "    <tr>\n",
       "      <th>0</th>\n",
       "      <td>1.5</td>\n",
       "      <td>Ohio</td>\n",
       "      <td>NaN</td>\n",
       "    </tr>\n",
       "    <tr>\n",
       "      <th>1</th>\n",
       "      <td>1.7</td>\n",
       "      <td>Ohio</td>\n",
       "      <td>NaN</td>\n",
       "    </tr>\n",
       "    <tr>\n",
       "      <th>2</th>\n",
       "      <td>3.6</td>\n",
       "      <td>Ohio</td>\n",
       "      <td>NaN</td>\n",
       "    </tr>\n",
       "    <tr>\n",
       "      <th>3</th>\n",
       "      <td>2.4</td>\n",
       "      <td>Nevada</td>\n",
       "      <td>NaN</td>\n",
       "    </tr>\n",
       "    <tr>\n",
       "      <th>4</th>\n",
       "      <td>2.9</td>\n",
       "      <td>Nevada</td>\n",
       "      <td>NaN</td>\n",
       "    </tr>\n",
       "  </tbody>\n",
       "</table>\n",
       "</div>"
      ],
      "text/plain": [
       "   pop   state year\n",
       "0  1.5    Ohio  NaN\n",
       "1  1.7    Ohio  NaN\n",
       "2  3.6    Ohio  NaN\n",
       "3  2.4  Nevada  NaN\n",
       "4  2.9  Nevada  NaN"
      ]
     },
     "execution_count": 27,
     "metadata": {},
     "output_type": "execute_result"
    }
   ],
   "source": [
    "state_df=pd.DataFrame(data,columns=['pop','state','year'])\n",
    "state_df.head()"
   ]
  },
  {
   "cell_type": "code",
   "execution_count": 28,
   "metadata": {},
   "outputs": [
    {
     "data": {
      "text/html": [
       "<div>\n",
       "<style scoped>\n",
       "    .dataframe tbody tr th:only-of-type {\n",
       "        vertical-align: middle;\n",
       "    }\n",
       "\n",
       "    .dataframe tbody tr th {\n",
       "        vertical-align: top;\n",
       "    }\n",
       "\n",
       "    .dataframe thead th {\n",
       "        text-align: right;\n",
       "    }\n",
       "</style>\n",
       "<table border=\"1\" class=\"dataframe\">\n",
       "  <thead>\n",
       "    <tr style=\"text-align: right;\">\n",
       "      <th></th>\n",
       "      <th>pop</th>\n",
       "      <th>state</th>\n",
       "      <th>Year</th>\n",
       "      <th>debt</th>\n",
       "    </tr>\n",
       "  </thead>\n",
       "  <tbody>\n",
       "    <tr>\n",
       "      <th>1st</th>\n",
       "      <td>1.5</td>\n",
       "      <td>Ohio</td>\n",
       "      <td>2000</td>\n",
       "      <td>NaN</td>\n",
       "    </tr>\n",
       "    <tr>\n",
       "      <th>2nd</th>\n",
       "      <td>1.7</td>\n",
       "      <td>Ohio</td>\n",
       "      <td>2001</td>\n",
       "      <td>NaN</td>\n",
       "    </tr>\n",
       "    <tr>\n",
       "      <th>3rd</th>\n",
       "      <td>3.6</td>\n",
       "      <td>Ohio</td>\n",
       "      <td>2002</td>\n",
       "      <td>NaN</td>\n",
       "    </tr>\n",
       "    <tr>\n",
       "      <th>4th</th>\n",
       "      <td>2.4</td>\n",
       "      <td>Nevada</td>\n",
       "      <td>2001</td>\n",
       "      <td>NaN</td>\n",
       "    </tr>\n",
       "    <tr>\n",
       "      <th>5th</th>\n",
       "      <td>2.9</td>\n",
       "      <td>Nevada</td>\n",
       "      <td>2002</td>\n",
       "      <td>NaN</td>\n",
       "    </tr>\n",
       "    <tr>\n",
       "      <th>6th</th>\n",
       "      <td>3.2</td>\n",
       "      <td>Nevada</td>\n",
       "      <td>2003</td>\n",
       "      <td>NaN</td>\n",
       "    </tr>\n",
       "  </tbody>\n",
       "</table>\n",
       "</div>"
      ],
      "text/plain": [
       "     pop   state  Year debt\n",
       "1st  1.5    Ohio  2000  NaN\n",
       "2nd  1.7    Ohio  2001  NaN\n",
       "3rd  3.6    Ohio  2002  NaN\n",
       "4th  2.4  Nevada  2001  NaN\n",
       "5th  2.9  Nevada  2002  NaN\n",
       "6th  3.2  Nevada  2003  NaN"
      ]
     },
     "execution_count": 28,
     "metadata": {},
     "output_type": "execute_result"
    }
   ],
   "source": [
    "state_df=pd.DataFrame(data,columns=['pop','state','Year','debt'],index=['1st','2nd','3rd','4th','5th','6th'])\n",
    "state_df"
   ]
  },
  {
   "cell_type": "code",
   "execution_count": 29,
   "metadata": {},
   "outputs": [
    {
     "data": {
      "text/html": [
       "<div>\n",
       "<style scoped>\n",
       "    .dataframe tbody tr th:only-of-type {\n",
       "        vertical-align: middle;\n",
       "    }\n",
       "\n",
       "    .dataframe tbody tr th {\n",
       "        vertical-align: top;\n",
       "    }\n",
       "\n",
       "    .dataframe thead th {\n",
       "        text-align: right;\n",
       "    }\n",
       "</style>\n",
       "<table border=\"1\" class=\"dataframe\">\n",
       "  <thead>\n",
       "    <tr style=\"text-align: right;\">\n",
       "      <th></th>\n",
       "      <th>pop</th>\n",
       "      <th>state</th>\n",
       "      <th>Year</th>\n",
       "      <th>debt</th>\n",
       "    </tr>\n",
       "  </thead>\n",
       "  <tbody>\n",
       "    <tr>\n",
       "      <th>1st</th>\n",
       "      <td>1.5</td>\n",
       "      <td>Ohio</td>\n",
       "      <td>2000</td>\n",
       "      <td>NaN</td>\n",
       "    </tr>\n",
       "    <tr>\n",
       "      <th>2nd</th>\n",
       "      <td>1.7</td>\n",
       "      <td>Ohio</td>\n",
       "      <td>2001</td>\n",
       "      <td>NaN</td>\n",
       "    </tr>\n",
       "    <tr>\n",
       "      <th>3rd</th>\n",
       "      <td>3.6</td>\n",
       "      <td>Ohio</td>\n",
       "      <td>2002</td>\n",
       "      <td>NaN</td>\n",
       "    </tr>\n",
       "    <tr>\n",
       "      <th>4th</th>\n",
       "      <td>2.4</td>\n",
       "      <td>Nevada</td>\n",
       "      <td>2001</td>\n",
       "      <td>NaN</td>\n",
       "    </tr>\n",
       "    <tr>\n",
       "      <th>5th</th>\n",
       "      <td>2.9</td>\n",
       "      <td>Nevada</td>\n",
       "      <td>2002</td>\n",
       "      <td>NaN</td>\n",
       "    </tr>\n",
       "  </tbody>\n",
       "</table>\n",
       "</div>"
      ],
      "text/plain": [
       "     pop   state  Year debt\n",
       "1st  1.5    Ohio  2000  NaN\n",
       "2nd  1.7    Ohio  2001  NaN\n",
       "3rd  3.6    Ohio  2002  NaN\n",
       "4th  2.4  Nevada  2001  NaN\n",
       "5th  2.9  Nevada  2002  NaN"
      ]
     },
     "execution_count": 29,
     "metadata": {},
     "output_type": "execute_result"
    }
   ],
   "source": [
    "state_df.head()"
   ]
  },
  {
   "cell_type": "code",
   "execution_count": 30,
   "metadata": {},
   "outputs": [
    {
     "name": "stdout",
     "output_type": "stream",
     "text": [
      "Index(['pop', 'state', 'Year', 'debt'], dtype='object')\n",
      "Index(['1st', '2nd', '3rd', '4th', '5th', '6th'], dtype='object')\n"
     ]
    }
   ],
   "source": [
    "print(state_df.columns)\n",
    "print(state_df.index)"
   ]
  },
  {
   "cell_type": "code",
   "execution_count": 31,
   "metadata": {},
   "outputs": [
    {
     "name": "stdout",
     "output_type": "stream",
     "text": [
      "1st      Ohio\n",
      "2nd      Ohio\n",
      "3rd      Ohio\n",
      "4th    Nevada\n",
      "5th    Nevada\n",
      "6th    Nevada\n",
      "Name: state, dtype: object\n"
     ]
    }
   ],
   "source": [
    "#print(data)\n",
    "#print(data['state'])\n",
    "#print(data['pop'])\n",
    "print(state_df['state'])"
   ]
  },
  {
   "cell_type": "code",
   "execution_count": 32,
   "metadata": {},
   "outputs": [
    {
     "data": {
      "text/plain": [
       "1st      Ohio\n",
       "2nd      Ohio\n",
       "3rd      Ohio\n",
       "4th    Nevada\n",
       "5th    Nevada\n",
       "6th    Nevada\n",
       "Name: state, dtype: object"
      ]
     },
     "execution_count": 32,
     "metadata": {},
     "output_type": "execute_result"
    }
   ],
   "source": [
    "state_df.state"
   ]
  },
  {
   "cell_type": "code",
   "execution_count": 33,
   "metadata": {},
   "outputs": [
    {
     "data": {
      "text/plain": [
       "pop         2.4\n",
       "state    Nevada\n",
       "Year       2001\n",
       "debt        NaN\n",
       "Name: 4th, dtype: object"
      ]
     },
     "execution_count": 33,
     "metadata": {},
     "output_type": "execute_result"
    }
   ],
   "source": [
    "state_df.loc['4th']"
   ]
  },
  {
   "cell_type": "code",
   "execution_count": 34,
   "metadata": {},
   "outputs": [
    {
     "name": "stdout",
     "output_type": "stream",
     "text": [
      "[0 1 2 3 4 5]\n",
      "     pop   state  Year  debt\n",
      "1st  1.5    Ohio  2000     0\n",
      "2nd  1.7    Ohio  2001     1\n",
      "3rd  3.6    Ohio  2002     2\n",
      "4th  2.4  Nevada  2001     3\n",
      "5th  2.9  Nevada  2002     4\n",
      "6th  3.2  Nevada  2003     5\n"
     ]
    }
   ],
   "source": [
    "ln=len(state_df)\n",
    "rng=np.arange(ln)\n",
    "print(rng)\n",
    "state_df['debt']=rng\n",
    "#state_df['debt']=16\n",
    "print(state_df)"
   ]
  },
  {
   "cell_type": "code",
   "execution_count": 35,
   "metadata": {},
   "outputs": [
    {
     "data": {
      "text/html": [
       "<div>\n",
       "<style scoped>\n",
       "    .dataframe tbody tr th:only-of-type {\n",
       "        vertical-align: middle;\n",
       "    }\n",
       "\n",
       "    .dataframe tbody tr th {\n",
       "        vertical-align: top;\n",
       "    }\n",
       "\n",
       "    .dataframe thead th {\n",
       "        text-align: right;\n",
       "    }\n",
       "</style>\n",
       "<table border=\"1\" class=\"dataframe\">\n",
       "  <thead>\n",
       "    <tr style=\"text-align: right;\">\n",
       "      <th></th>\n",
       "      <th>pop</th>\n",
       "      <th>state</th>\n",
       "      <th>Year</th>\n",
       "      <th>debt</th>\n",
       "    </tr>\n",
       "  </thead>\n",
       "  <tbody>\n",
       "    <tr>\n",
       "      <th>1st</th>\n",
       "      <td>1.5</td>\n",
       "      <td>Ohio</td>\n",
       "      <td>2000</td>\n",
       "      <td>12</td>\n",
       "    </tr>\n",
       "    <tr>\n",
       "      <th>2nd</th>\n",
       "      <td>1.7</td>\n",
       "      <td>Ohio</td>\n",
       "      <td>2001</td>\n",
       "      <td>31</td>\n",
       "    </tr>\n",
       "    <tr>\n",
       "      <th>3rd</th>\n",
       "      <td>3.6</td>\n",
       "      <td>Ohio</td>\n",
       "      <td>2002</td>\n",
       "      <td>14</td>\n",
       "    </tr>\n",
       "    <tr>\n",
       "      <th>4th</th>\n",
       "      <td>2.4</td>\n",
       "      <td>Nevada</td>\n",
       "      <td>2001</td>\n",
       "      <td>32</td>\n",
       "    </tr>\n",
       "    <tr>\n",
       "      <th>5th</th>\n",
       "      <td>2.9</td>\n",
       "      <td>Nevada</td>\n",
       "      <td>2002</td>\n",
       "      <td>19</td>\n",
       "    </tr>\n",
       "    <tr>\n",
       "      <th>6th</th>\n",
       "      <td>3.2</td>\n",
       "      <td>Nevada</td>\n",
       "      <td>2003</td>\n",
       "      <td>21</td>\n",
       "    </tr>\n",
       "  </tbody>\n",
       "</table>\n",
       "</div>"
      ],
      "text/plain": [
       "     pop   state  Year debt\n",
       "1st  1.5    Ohio  2000   12\n",
       "2nd  1.7    Ohio  2001   31\n",
       "3rd  3.6    Ohio  2002   14\n",
       "4th  2.4  Nevada  2001   32\n",
       "5th  2.9  Nevada  2002   19\n",
       "6th  3.2  Nevada  2003   21"
      ]
     },
     "execution_count": 35,
     "metadata": {},
     "output_type": "execute_result"
    }
   ],
   "source": [
    "d=pd.Series(['12','14','19','32','31','21'],index=['1st','3rd','5th','4th','2nd','6th'])\n",
    "state_df['debt']=d\n",
    "state_df"
   ]
  }
 ],
 "metadata": {
  "kernelspec": {
   "display_name": "Python 3",
   "language": "python",
   "name": "python3"
  },
  "language_info": {
   "codemirror_mode": {
    "name": "ipython",
    "version": 3
   },
   "file_extension": ".py",
   "mimetype": "text/x-python",
   "name": "python",
   "nbconvert_exporter": "python",
   "pygments_lexer": "ipython3",
   "version": "3.7.3"
  }
 },
 "nbformat": 4,
 "nbformat_minor": 2
}
