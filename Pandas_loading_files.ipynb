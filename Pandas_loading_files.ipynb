{
 "cells": [
  {
   "cell_type": "markdown",
   "metadata": {},
   "source": [
    "# Loading CSV file"
   ]
  },
  {
   "cell_type": "code",
   "execution_count": 1,
   "metadata": {},
   "outputs": [
    {
     "name": "stdout",
     "output_type": "stream",
     "text": [
      "  studentid         name   chimestry   physics   english   math\n",
      "0       A01     arif ali          20        30        40     50\n",
      "1       A02  kamran khan          30        40        50     60\n",
      "2       A03   imran ali           40        50        60     70\n",
      "3       A04  kashif khan          50        60        70     80\n",
      "    id         name  ch  ph  en  ma\n",
      "0  A01     arif ali  20  30  40  50\n",
      "1  A02  kamran khan  30  40  50  60\n",
      "2  A03   imran ali   40  50  60  70\n",
      "3  A04  kashif khan  50  60  70  80\n"
     ]
    }
   ],
   "source": [
    "import pandas as pd\n",
    "df=pd.read_csv(\"examples/sample.csv\")\n",
    "print(df)\n",
    "#print(\"\\n\")\n",
    "df1=pd.read_csv(\"examples/sample.csv\",skiprows=1,names=['id','name','ch','ph','en','ma'])\n",
    "print(df1)"
   ]
  },
  {
   "cell_type": "markdown",
   "metadata": {},
   "source": [
    "# Hierarical Index"
   ]
  },
  {
   "cell_type": "code",
   "execution_count": 2,
   "metadata": {},
   "outputs": [
    {
     "data": {
      "text/html": [
       "<div>\n",
       "<style scoped>\n",
       "    .dataframe tbody tr th:only-of-type {\n",
       "        vertical-align: middle;\n",
       "    }\n",
       "\n",
       "    .dataframe tbody tr th {\n",
       "        vertical-align: top;\n",
       "    }\n",
       "\n",
       "    .dataframe thead th {\n",
       "        text-align: right;\n",
       "    }\n",
       "</style>\n",
       "<table border=\"1\" class=\"dataframe\">\n",
       "  <thead>\n",
       "    <tr style=\"text-align: right;\">\n",
       "      <th></th>\n",
       "      <th>a</th>\n",
       "      <th>b</th>\n",
       "      <th>c</th>\n",
       "      <th>d</th>\n",
       "      <th>message</th>\n",
       "    </tr>\n",
       "  </thead>\n",
       "  <tbody>\n",
       "    <tr>\n",
       "      <th>0</th>\n",
       "      <td>1</td>\n",
       "      <td>2</td>\n",
       "      <td>3</td>\n",
       "      <td>4</td>\n",
       "      <td>hello</td>\n",
       "    </tr>\n",
       "    <tr>\n",
       "      <th>1</th>\n",
       "      <td>5</td>\n",
       "      <td>6</td>\n",
       "      <td>7</td>\n",
       "      <td>8</td>\n",
       "      <td>world</td>\n",
       "    </tr>\n",
       "    <tr>\n",
       "      <th>2</th>\n",
       "      <td>9</td>\n",
       "      <td>10</td>\n",
       "      <td>11</td>\n",
       "      <td>12</td>\n",
       "      <td>foo</td>\n",
       "    </tr>\n",
       "  </tbody>\n",
       "</table>\n",
       "</div>"
      ],
      "text/plain": [
       "   a   b   c   d message\n",
       "0  1   2   3   4   hello\n",
       "1  5   6   7   8   world\n",
       "2  9  10  11  12     foo"
      ]
     },
     "execution_count": 2,
     "metadata": {},
     "output_type": "execute_result"
    }
   ],
   "source": [
    "df=pd.read_csv(\"examples/ex1.csv\")\n",
    "df"
   ]
  },
  {
   "cell_type": "code",
   "execution_count": 3,
   "metadata": {},
   "outputs": [
    {
     "data": {
      "text/html": [
       "<div>\n",
       "<style scoped>\n",
       "    .dataframe tbody tr th:only-of-type {\n",
       "        vertical-align: middle;\n",
       "    }\n",
       "\n",
       "    .dataframe tbody tr th {\n",
       "        vertical-align: top;\n",
       "    }\n",
       "\n",
       "    .dataframe thead th {\n",
       "        text-align: right;\n",
       "    }\n",
       "</style>\n",
       "<table border=\"1\" class=\"dataframe\">\n",
       "  <thead>\n",
       "    <tr style=\"text-align: right;\">\n",
       "      <th></th>\n",
       "      <th></th>\n",
       "      <th>value1</th>\n",
       "      <th>value2</th>\n",
       "    </tr>\n",
       "    <tr>\n",
       "      <th>key1</th>\n",
       "      <th>key2</th>\n",
       "      <th></th>\n",
       "      <th></th>\n",
       "    </tr>\n",
       "  </thead>\n",
       "  <tbody>\n",
       "    <tr>\n",
       "      <th rowspan=\"4\" valign=\"top\">one</th>\n",
       "      <th>a</th>\n",
       "      <td>1</td>\n",
       "      <td>2</td>\n",
       "    </tr>\n",
       "    <tr>\n",
       "      <th>b</th>\n",
       "      <td>3</td>\n",
       "      <td>4</td>\n",
       "    </tr>\n",
       "    <tr>\n",
       "      <th>c</th>\n",
       "      <td>5</td>\n",
       "      <td>6</td>\n",
       "    </tr>\n",
       "    <tr>\n",
       "      <th>d</th>\n",
       "      <td>7</td>\n",
       "      <td>8</td>\n",
       "    </tr>\n",
       "    <tr>\n",
       "      <th rowspan=\"4\" valign=\"top\">two</th>\n",
       "      <th>a</th>\n",
       "      <td>9</td>\n",
       "      <td>10</td>\n",
       "    </tr>\n",
       "    <tr>\n",
       "      <th>b</th>\n",
       "      <td>11</td>\n",
       "      <td>12</td>\n",
       "    </tr>\n",
       "    <tr>\n",
       "      <th>c</th>\n",
       "      <td>13</td>\n",
       "      <td>14</td>\n",
       "    </tr>\n",
       "    <tr>\n",
       "      <th>d</th>\n",
       "      <td>15</td>\n",
       "      <td>16</td>\n",
       "    </tr>\n",
       "  </tbody>\n",
       "</table>\n",
       "</div>"
      ],
      "text/plain": [
       "           value1  value2\n",
       "key1 key2                \n",
       "one  a          1       2\n",
       "     b          3       4\n",
       "     c          5       6\n",
       "     d          7       8\n",
       "two  a          9      10\n",
       "     b         11      12\n",
       "     c         13      14\n",
       "     d         15      16"
      ]
     },
     "execution_count": 3,
     "metadata": {},
     "output_type": "execute_result"
    }
   ],
   "source": [
    "df=pd.read_csv(\"examples/sample2.csv\",index_col=['key1','key2'])\n",
    "df"
   ]
  },
  {
   "cell_type": "markdown",
   "metadata": {},
   "source": [
    "# Handling missing values"
   ]
  },
  {
   "cell_type": "code",
   "execution_count": 4,
   "metadata": {},
   "outputs": [
    {
     "data": {
      "text/html": [
       "<div>\n",
       "<style scoped>\n",
       "    .dataframe tbody tr th:only-of-type {\n",
       "        vertical-align: middle;\n",
       "    }\n",
       "\n",
       "    .dataframe tbody tr th {\n",
       "        vertical-align: top;\n",
       "    }\n",
       "\n",
       "    .dataframe thead th {\n",
       "        text-align: right;\n",
       "    }\n",
       "</style>\n",
       "<table border=\"1\" class=\"dataframe\">\n",
       "  <thead>\n",
       "    <tr style=\"text-align: right;\">\n",
       "      <th></th>\n",
       "      <th>something</th>\n",
       "      <th>a</th>\n",
       "      <th>b</th>\n",
       "      <th>c</th>\n",
       "      <th>d</th>\n",
       "      <th>message</th>\n",
       "    </tr>\n",
       "  </thead>\n",
       "  <tbody>\n",
       "    <tr>\n",
       "      <th>0</th>\n",
       "      <td>one</td>\n",
       "      <td>1</td>\n",
       "      <td>2</td>\n",
       "      <td>3.0</td>\n",
       "      <td>4</td>\n",
       "      <td>NaN</td>\n",
       "    </tr>\n",
       "    <tr>\n",
       "      <th>1</th>\n",
       "      <td>two</td>\n",
       "      <td>5</td>\n",
       "      <td>6</td>\n",
       "      <td>NaN</td>\n",
       "      <td>8</td>\n",
       "      <td>world</td>\n",
       "    </tr>\n",
       "    <tr>\n",
       "      <th>2</th>\n",
       "      <td>three</td>\n",
       "      <td>9</td>\n",
       "      <td>10</td>\n",
       "      <td>11.0</td>\n",
       "      <td>12</td>\n",
       "      <td>NaN</td>\n",
       "    </tr>\n",
       "  </tbody>\n",
       "</table>\n",
       "</div>"
      ],
      "text/plain": [
       "  something  a   b     c   d message\n",
       "0       one  1   2   3.0   4     NaN\n",
       "1       two  5   6   NaN   8   world\n",
       "2     three  9  10  11.0  12     NaN"
      ]
     },
     "execution_count": 4,
     "metadata": {},
     "output_type": "execute_result"
    }
   ],
   "source": [
    "df=pd.read_csv(\"examples/sample3.csv\")\n",
    "sentinal={'message':['foo','NA']}\n",
    "pd.read_csv('examples/sample3.csv',na_values=sentinal)"
   ]
  },
  {
   "cell_type": "markdown",
   "metadata": {},
   "source": [
    "# Read data in chunks"
   ]
  },
  {
   "cell_type": "code",
   "execution_count": null,
   "metadata": {},
   "outputs": [],
   "source": [
    "df=pd.read_csv(\"datasets/train.csv\",nrows=100)"
   ]
  },
  {
   "cell_type": "code",
   "execution_count": 13,
   "metadata": {},
   "outputs": [
    {
     "name": "stdout",
     "output_type": "stream",
     "text": [
      "<pandas.io.parsers.TextFileReader object at 0x00FB9550>\n",
      "<class 'pandas.io.parsers.TextFileReader'> None\n",
      "     battery_power  blue  clock_speed  dual_sim  fc  four_g  int_memory  \\\n",
      "200           1703     1          0.5         0   0       1          22   \n",
      "201           1445     1          2.4         1   7       1          20   \n",
      "202           1087     0          1.3         0   0       1          16   \n",
      "203            671     0          0.9         1  10       0          30   \n",
      "204           1472     1          2.3         0   6       0          61   \n",
      "..             ...   ...          ...       ...  ..     ...         ...   \n",
      "395           1896     0          0.5         1   8       1           7   \n",
      "396            788     0          2.5         1   4       1          57   \n",
      "397            880     1          1.7         1   0       0          33   \n",
      "398           1323     1          2.5         1  10       1          28   \n",
      "399           1868     0          2.0         1   0       1          42   \n",
      "\n",
      "     m_dep  mobile_wt  n_cores  ...  px_height  px_width   ram  sc_h  sc_w  \\\n",
      "200    0.6        192        1  ...        286      1235  1046     5     4   \n",
      "201    0.4        173        7  ...       1273      1345  1441     7     4   \n",
      "202    0.3        166        3  ...        295       589   690    14     6   \n",
      "203    0.7        105        7  ...        852      1182  2504     6     4   \n",
      "204    0.1        168        6  ...        710      1052  2677    19    15   \n",
      "..     ...        ...      ...  ...        ...       ...   ...   ...   ...   \n",
      "395    0.4        141        2  ...        447       794  3684     9     7   \n",
      "396    0.9         91        8  ...         42      1161  3969    12     8   \n",
      "397    0.7        173        2  ...         30      1350  1414    12     1   \n",
      "398    0.2        131        4  ...        162       619  1892    10     0   \n",
      "399    0.2        169        1  ...        347       660  3131     8     3   \n",
      "\n",
      "     talk_time  three_g  touch_screen  wifi  price_range  \n",
      "200         13        1             0     1            0  \n",
      "201         13        1             1     1            1  \n",
      "202          6        1             0     1            0  \n",
      "203         15        1             0     0            2  \n",
      "204          8        1             0     0            2  \n",
      "..         ...      ...           ...   ...          ...  \n",
      "395         18        1             0     0            3  \n",
      "396          6        1             1     1            3  \n",
      "397          7        1             1     0            0  \n",
      "398         15        1             1     1            1  \n",
      "399          7        1             1     1            3  \n",
      "\n",
      "[200 rows x 21 columns]\n"
     ]
    }
   ],
   "source": [
    "df1=pd.read_csv(\"datasets/train.csv\",chunksize=200)\n",
    "print(type(df1),print(df1))\n",
    "chunklist=[]\n",
    "for x in df1:\n",
    "    #print(type(x),len(x))\n",
    "    #print(x.head())\n",
    "    chunklist.append(x)\n",
    "print(chunklist[1])"
   ]
  },
  {
   "cell_type": "markdown",
   "metadata": {},
   "source": [
    "# Read data from textfile"
   ]
  },
  {
   "cell_type": "code",
   "execution_count": 19,
   "metadata": {},
   "outputs": [
    {
     "data": {
      "text/plain": [
       "['            A         B         C\\n',\n",
       " 'aaa -0.264438 -1.026059 -0.619500\\n',\n",
       " 'bbb  0.927272  0.302904 -0.032399\\n',\n",
       " 'ccc -0.264273 -0.386314 -0.217601\\n',\n",
       " 'ddd -0.871858 -0.348382  1.100491\\n']"
      ]
     },
     "execution_count": 19,
     "metadata": {},
     "output_type": "execute_result"
    }
   ],
   "source": [
    "d1=list(open(\"examples/ex3.txt\"))\n",
    "d1"
   ]
  },
  {
   "cell_type": "code",
   "execution_count": 22,
   "metadata": {},
   "outputs": [
    {
     "data": {
      "text/html": [
       "<div>\n",
       "<style scoped>\n",
       "    .dataframe tbody tr th:only-of-type {\n",
       "        vertical-align: middle;\n",
       "    }\n",
       "\n",
       "    .dataframe tbody tr th {\n",
       "        vertical-align: top;\n",
       "    }\n",
       "\n",
       "    .dataframe thead th {\n",
       "        text-align: right;\n",
       "    }\n",
       "</style>\n",
       "<table border=\"1\" class=\"dataframe\">\n",
       "  <thead>\n",
       "    <tr style=\"text-align: right;\">\n",
       "      <th></th>\n",
       "      <th>A</th>\n",
       "      <th>B</th>\n",
       "      <th>C</th>\n",
       "    </tr>\n",
       "  </thead>\n",
       "  <tbody>\n",
       "    <tr>\n",
       "      <th>aaa</th>\n",
       "      <td>-0.264438</td>\n",
       "      <td>-1.026059</td>\n",
       "      <td>-0.619500</td>\n",
       "    </tr>\n",
       "    <tr>\n",
       "      <th>bbb</th>\n",
       "      <td>0.927272</td>\n",
       "      <td>0.302904</td>\n",
       "      <td>-0.032399</td>\n",
       "    </tr>\n",
       "    <tr>\n",
       "      <th>ccc</th>\n",
       "      <td>-0.264273</td>\n",
       "      <td>-0.386314</td>\n",
       "      <td>-0.217601</td>\n",
       "    </tr>\n",
       "    <tr>\n",
       "      <th>ddd</th>\n",
       "      <td>-0.871858</td>\n",
       "      <td>-0.348382</td>\n",
       "      <td>1.100491</td>\n",
       "    </tr>\n",
       "  </tbody>\n",
       "</table>\n",
       "</div>"
      ],
      "text/plain": [
       "            A         B         C\n",
       "aaa -0.264438 -1.026059 -0.619500\n",
       "bbb  0.927272  0.302904 -0.032399\n",
       "ccc -0.264273 -0.386314 -0.217601\n",
       "ddd -0.871858 -0.348382  1.100491"
      ]
     },
     "execution_count": 22,
     "metadata": {},
     "output_type": "execute_result"
    }
   ],
   "source": [
    "result=pd.read_csv(\"examples/ex3.txt\",sep=\"\\s+\")\n",
    "result"
   ]
  },
  {
   "cell_type": "code",
   "execution_count": 25,
   "metadata": {},
   "outputs": [
    {
     "data": {
      "text/html": [
       "<div>\n",
       "<style scoped>\n",
       "    .dataframe tbody tr th:only-of-type {\n",
       "        vertical-align: middle;\n",
       "    }\n",
       "\n",
       "    .dataframe tbody tr th {\n",
       "        vertical-align: top;\n",
       "    }\n",
       "\n",
       "    .dataframe thead th {\n",
       "        text-align: right;\n",
       "    }\n",
       "</style>\n",
       "<table border=\"1\" class=\"dataframe\">\n",
       "  <thead>\n",
       "    <tr style=\"text-align: right;\">\n",
       "      <th></th>\n",
       "      <th>a</th>\n",
       "      <th>b</th>\n",
       "      <th>c</th>\n",
       "      <th>d</th>\n",
       "      <th>message</th>\n",
       "    </tr>\n",
       "  </thead>\n",
       "  <tbody>\n",
       "    <tr>\n",
       "      <th>0</th>\n",
       "      <td>1</td>\n",
       "      <td>2</td>\n",
       "      <td>3</td>\n",
       "      <td>4</td>\n",
       "      <td>hello</td>\n",
       "    </tr>\n",
       "    <tr>\n",
       "      <th>1</th>\n",
       "      <td>5</td>\n",
       "      <td>6</td>\n",
       "      <td>7</td>\n",
       "      <td>8</td>\n",
       "      <td>world</td>\n",
       "    </tr>\n",
       "    <tr>\n",
       "      <th>2</th>\n",
       "      <td>9</td>\n",
       "      <td>10</td>\n",
       "      <td>11</td>\n",
       "      <td>12</td>\n",
       "      <td>foo</td>\n",
       "    </tr>\n",
       "  </tbody>\n",
       "</table>\n",
       "</div>"
      ],
      "text/plain": [
       "   a   b   c   d message\n",
       "0  1   2   3   4   hello\n",
       "1  5   6   7   8   world\n",
       "2  9  10  11  12     foo"
      ]
     },
     "execution_count": 25,
     "metadata": {},
     "output_type": "execute_result"
    }
   ],
   "source": [
    "result1=pd.read_csv(\"examples/ex4.csv\",skiprows=[0,2,3])\n",
    "result1"
   ]
  },
  {
   "cell_type": "markdown",
   "metadata": {},
   "source": [
    "# write data to text format"
   ]
  },
  {
   "cell_type": "code",
   "execution_count": 26,
   "metadata": {},
   "outputs": [],
   "source": [
    "result1=pd.read_csv(\"examples/ex4.csv\",skiprows=[0,2,3])\n",
    "#result1.to_csv(\"location\")"
   ]
  },
  {
   "cell_type": "code",
   "execution_count": 31,
   "metadata": {},
   "outputs": [],
   "source": [
    "import numpy as np\n",
    "df=pd.date_range('1/1/2012',periods=10)\n",
    "ts=pd.Series(np.arange(10),index=df)\n",
    "#ts.to_csv(\"\")"
   ]
  },
  {
   "cell_type": "markdown",
   "metadata": {},
   "source": [
    "# delimited formats"
   ]
  },
  {
   "cell_type": "code",
   "execution_count": 34,
   "metadata": {},
   "outputs": [
    {
     "name": "stdout",
     "output_type": "stream",
     "text": [
      "['a', 'b', 'c']\n",
      "['1', '2', '3']\n",
      "['1', '2', '3']\n"
     ]
    }
   ],
   "source": [
    "import csv\n",
    "x=open(\"examples/ex7.csv\")\n",
    "reader=csv.reader(x)\n",
    "for i in reader:\n",
    "    print (i)"
   ]
  },
  {
   "cell_type": "markdown",
   "metadata": {},
   "source": [
    "# Read JSON data"
   ]
  },
  {
   "cell_type": "code",
   "execution_count": 35,
   "metadata": {},
   "outputs": [
    {
     "data": {
      "text/html": [
       "<div>\n",
       "<style scoped>\n",
       "    .dataframe tbody tr th:only-of-type {\n",
       "        vertical-align: middle;\n",
       "    }\n",
       "\n",
       "    .dataframe tbody tr th {\n",
       "        vertical-align: top;\n",
       "    }\n",
       "\n",
       "    .dataframe thead th {\n",
       "        text-align: right;\n",
       "    }\n",
       "</style>\n",
       "<table border=\"1\" class=\"dataframe\">\n",
       "  <thead>\n",
       "    <tr style=\"text-align: right;\">\n",
       "      <th></th>\n",
       "      <th>a</th>\n",
       "      <th>b</th>\n",
       "      <th>c</th>\n",
       "    </tr>\n",
       "  </thead>\n",
       "  <tbody>\n",
       "    <tr>\n",
       "      <th>0</th>\n",
       "      <td>1</td>\n",
       "      <td>2</td>\n",
       "      <td>3</td>\n",
       "    </tr>\n",
       "    <tr>\n",
       "      <th>1</th>\n",
       "      <td>4</td>\n",
       "      <td>5</td>\n",
       "      <td>6</td>\n",
       "    </tr>\n",
       "    <tr>\n",
       "      <th>2</th>\n",
       "      <td>7</td>\n",
       "      <td>8</td>\n",
       "      <td>9</td>\n",
       "    </tr>\n",
       "  </tbody>\n",
       "</table>\n",
       "</div>"
      ],
      "text/plain": [
       "   a  b  c\n",
       "0  1  2  3\n",
       "1  4  5  6\n",
       "2  7  8  9"
      ]
     },
     "execution_count": 35,
     "metadata": {},
     "output_type": "execute_result"
    }
   ],
   "source": [
    "d=pd.read_json(\"examples/example.json\")\n",
    "d"
   ]
  },
  {
   "cell_type": "markdown",
   "metadata": {},
   "source": [
    "# Loading HTML data into pandas dataframe"
   ]
  },
  {
   "cell_type": "code",
   "execution_count": 48,
   "metadata": {},
   "outputs": [
    {
     "name": "stdout",
     "output_type": "stream",
     "text": [
      "<class 'list'>\n",
      "1\n",
      "<class 'pandas.core.frame.DataFrame'>\n",
      "547\n",
      "(547, 7)\n",
      "Index(['Bank Name', 'City', 'ST', 'CERT', 'Acquiring Institution',\n",
      "       'Closing Date', 'Updated Date'],\n",
      "      dtype='object')\n",
      "0           Mulberry\n",
      "1           Woodbury\n",
      "2    King of Prussia\n",
      "3            Memphis\n",
      "4          Milwaukee\n",
      "Name: City, dtype: object\n",
      "0                     Allied Bank\n",
      "1    The Woodbury Banking Company\n",
      "2          First CornerStone Bank\n",
      "3              Trust Company Bank\n",
      "4      North Milwaukee State Bank\n",
      "Name: Bank Name, dtype: object\n",
      "                      Bank Name             City  ST   CERT  \\\n",
      "0                   Allied Bank         Mulberry  AR     91   \n",
      "1  The Woodbury Banking Company         Woodbury  GA  11297   \n",
      "2        First CornerStone Bank  King of Prussia  PA  35312   \n",
      "3            Trust Company Bank          Memphis  TN   9956   \n",
      "4    North Milwaukee State Bank        Milwaukee  WI  20364   \n",
      "\n",
      "                 Acquiring Institution        Closing Date       Updated Date  \n",
      "0                         Today's Bank  September 23, 2016  November 17, 2016  \n",
      "1                          United Bank     August 19, 2016  November 17, 2016  \n",
      "2  First-Citizens Bank & Trust Company         May 6, 2016  September 6, 2016  \n",
      "3           The Bank of Fayette County      April 29, 2016  September 6, 2016  \n",
      "4  First-Citizens Bank & Trust Company      March 11, 2016      June 16, 2016  \n"
     ]
    }
   ],
   "source": [
    "df_html=pd.read_html(\"examples/fdic_failed_bank_list.html\")\n",
    "print(type(df_html))\n",
    "print(len(df_html))\n",
    "f_df=(df_html[0])\n",
    "print(type(f_df))\n",
    "print(len(f_df))\n",
    "print(f_df.shape)\n",
    "print(f_df.columns)\n",
    "print(f_df['City'].head())\n",
    "print(f_df['Bank Name'].head())\n",
    "print(f_df.head())"
   ]
  },
  {
   "cell_type": "code",
   "execution_count": 50,
   "metadata": {},
   "outputs": [
    {
     "name": "stdout",
     "output_type": "stream",
     "text": [
      "<class 'pandas.core.series.Series'> 0     2016-09-23\n",
      "1     2016-08-19\n",
      "2     2016-05-06\n",
      "3     2016-04-29\n",
      "4     2016-03-11\n",
      "         ...    \n",
      "542   2001-07-27\n",
      "543   2001-05-03\n",
      "544   2001-02-02\n",
      "545   2000-12-14\n",
      "546   2000-10-13\n",
      "Name: Closing Date, Length: 547, dtype: datetime64[ns]\n"
     ]
    }
   ],
   "source": [
    "d_datetime=pd.to_datetime(f_df['Closing Date'])\n",
    "print(type(d_datetime),d_datetime)"
   ]
  },
  {
   "cell_type": "markdown",
   "metadata": {},
   "source": [
    "# Binary data"
   ]
  },
  {
   "cell_type": "code",
   "execution_count": 56,
   "metadata": {},
   "outputs": [],
   "source": [
    "f=pd.read_csv(\"examples/ex6.csv\")\n",
    "f.to_pickle(\"examples/ex6_pickle\")\n",
    "#ff=pd.read_pickle(\"examples/ef_pickle\")\n",
    "#print(ff)"
   ]
  },
  {
   "cell_type": "markdown",
   "metadata": {},
   "source": [
    "# Hierarchical data format "
   ]
  },
  {
   "cell_type": "code",
   "execution_count": 80,
   "metadata": {},
   "outputs": [
    {
     "name": "stdout",
     "output_type": "stream",
     "text": [
      "0      0\n",
      "1      1\n",
      "2      2\n",
      "3      3\n",
      "4      4\n",
      "      ..\n",
      "95    95\n",
      "96    96\n",
      "97    97\n",
      "98    98\n",
      "99    99\n",
      "Name: a, Length: 100, dtype: int32\n"
     ]
    }
   ],
   "source": [
    "frame=pd.DataFrame({'a':np.arange(100)})\n",
    "store=pd.HDFStore('mydata.h5')\n",
    "store['obj1']=frame\n",
    "store['obj1_col']=frame['a']\n",
    "#print(store)\n",
    "x=store.obj1\n",
    "#print(type(x))\n",
    "#print(x.head())\n",
    "store.put('obj2',frame,format='table')\n",
    "store.select('obj2',where=['index >=10 and index <=15'])\n",
    "print(store.obj2['a'])\n",
    "store.close()\n",
    "frame.to_hdf('mydata1.h5','obj3',format='table')"
   ]
  },
  {
   "cell_type": "code",
   "execution_count": 72,
   "metadata": {},
   "outputs": [
    {
     "data": {
      "text/html": [
       "<div>\n",
       "<style scoped>\n",
       "    .dataframe tbody tr th:only-of-type {\n",
       "        vertical-align: middle;\n",
       "    }\n",
       "\n",
       "    .dataframe tbody tr th {\n",
       "        vertical-align: top;\n",
       "    }\n",
       "\n",
       "    .dataframe thead th {\n",
       "        text-align: right;\n",
       "    }\n",
       "</style>\n",
       "<table border=\"1\" class=\"dataframe\">\n",
       "  <thead>\n",
       "    <tr style=\"text-align: right;\">\n",
       "      <th></th>\n",
       "      <th>a</th>\n",
       "    </tr>\n",
       "  </thead>\n",
       "  <tbody>\n",
       "    <tr>\n",
       "      <th>0</th>\n",
       "      <td>0</td>\n",
       "    </tr>\n",
       "    <tr>\n",
       "      <th>1</th>\n",
       "      <td>1</td>\n",
       "    </tr>\n",
       "    <tr>\n",
       "      <th>2</th>\n",
       "      <td>2</td>\n",
       "    </tr>\n",
       "    <tr>\n",
       "      <th>3</th>\n",
       "      <td>3</td>\n",
       "    </tr>\n",
       "    <tr>\n",
       "      <th>4</th>\n",
       "      <td>4</td>\n",
       "    </tr>\n",
       "    <tr>\n",
       "      <th>5</th>\n",
       "      <td>5</td>\n",
       "    </tr>\n",
       "    <tr>\n",
       "      <th>6</th>\n",
       "      <td>6</td>\n",
       "    </tr>\n",
       "    <tr>\n",
       "      <th>7</th>\n",
       "      <td>7</td>\n",
       "    </tr>\n",
       "    <tr>\n",
       "      <th>8</th>\n",
       "      <td>8</td>\n",
       "    </tr>\n",
       "    <tr>\n",
       "      <th>9</th>\n",
       "      <td>9</td>\n",
       "    </tr>\n",
       "  </tbody>\n",
       "</table>\n",
       "</div>"
      ],
      "text/plain": [
       "   a\n",
       "0  0\n",
       "1  1\n",
       "2  2\n",
       "3  3\n",
       "4  4\n",
       "5  5\n",
       "6  6\n",
       "7  7\n",
       "8  8\n",
       "9  9"
      ]
     },
     "execution_count": 72,
     "metadata": {},
     "output_type": "execute_result"
    }
   ],
   "source": [
    "x=pd.read_hdf('mydata1.h5','obj3',where=['index <10 '])\n",
    "x"
   ]
  },
  {
   "cell_type": "markdown",
   "metadata": {},
   "source": [
    "# Read Excel data"
   ]
  },
  {
   "cell_type": "code",
   "execution_count": 89,
   "metadata": {},
   "outputs": [],
   "source": [
    "#xl=pd.ExcelFile(\"examples/ex1.xlsx\")\n",
    "p_xl=pd.read_excel(\"examples/ex1.xlsx\",'Sheet1')\n",
    "p_xl\n",
    "writer=pd.ExcelWriter('examples/ex2.xlsx')\n",
    "p_xl.to_excel(writer,'Sheet1')\n",
    "writer.save()\n",
    "p_xl.to_excel('examples/ex2.xlsx')"
   ]
  },
  {
   "cell_type": "markdown",
   "metadata": {},
   "source": [
    "# working with web apis"
   ]
  },
  {
   "cell_type": "code",
   "execution_count": 95,
   "metadata": {},
   "outputs": [
    {
     "name": "stdout",
     "output_type": "stream",
     "text": [
      "<Response [200]>\n",
      "<class 'list'>\n",
      "[{'url': 'https://api.github.com/repos/pandas-dev/pandas/issues/33415', 'repository_url': 'https://api.github.com/repos/pandas-dev/pandas', 'labels_url': 'https://api.github.com/repos/pandas-dev/pandas/issues/33415/labels{/name}', 'comments_url': 'https://api.github.com/repos/pandas-dev/pandas/issues/33415/comments', 'events_url': 'https://api.github.com/repos/pandas-dev/pandas/issues/33415/events', 'html_url': 'https://github.com/pandas-dev/pandas/pull/33415', 'id': 596986419, 'node_id': 'MDExOlB1bGxSZXF1ZXN0NDAxMTgwMzc1', 'number': 33415, 'title': 'WIP: Timestamp/DTA match stdlib tzawareness-compat behavior', 'user': {'login': 'jbrockmendel', 'id': 8078968, 'node_id': 'MDQ6VXNlcjgwNzg5Njg=', 'avatar_url': 'https://avatars1.githubusercontent.com/u/8078968?v=4', 'gravatar_id': '', 'url': 'https://api.github.com/users/jbrockmendel', 'html_url': 'https://github.com/jbrockmendel', 'followers_url': 'https://api.github.com/users/jbrockmendel/followers', 'following_url': 'https://api.github.com/users/jbrockmendel/following{/other_user}', 'gists_url': 'https://api.github.com/users/jbrockmendel/gists{/gist_id}', 'starred_url': 'https://api.github.com/users/jbrockmendel/starred{/owner}{/repo}', 'subscriptions_url': 'https://api.github.com/users/jbrockmendel/subscriptions', 'organizations_url': 'https://api.github.com/users/jbrockmendel/orgs', 'repos_url': 'https://api.github.com/users/jbrockmendel/repos', 'events_url': 'https://api.github.com/users/jbrockmendel/events{/privacy}', 'received_events_url': 'https://api.github.com/users/jbrockmendel/received_events', 'type': 'User', 'site_admin': False}, 'labels': [], 'state': 'open', 'locked': False, 'assignee': None, 'assignees': [], 'milestone': None, 'comments': 0, 'created_at': '2020-04-09T03:01:58Z', 'updated_at': '2020-04-09T03:12:41Z', 'closed_at': None, 'author_association': 'MEMBER', 'pull_request': {'url': 'https://api.github.com/repos/pandas-dev/pandas/pulls/33415', 'html_url': 'https://github.com/pandas-dev/pandas/pull/33415', 'diff_url': 'https://github.com/pandas-dev/pandas/pull/33415.diff', 'patch_url': 'https://github.com/pandas-dev/pandas/pull/33415.patch'}, 'body': '- [x] closes #28507\\r\\n- [x] tests added / passed\\r\\n- [x] passes `black pandas`\\r\\n- [x] passes `git diff upstream/master -u -- \"*.py\" | flake8 --diff`\\r\\n- [ ] whatsnew entry\\r\\n\\r\\nI\\'m not super-happy with the implementation adding `op` kwarg to check_compatible_with and assert_tzawareness_compat, looking for something cleaner.'}, {'url': 'https://api.github.com/repos/pandas-dev/pandas/issues/33414', 'repository_url': 'https://api.github.com/repos/pandas-dev/pandas', 'labels_url': 'https://api.github.com/repos/pandas-dev/pandas/issues/33414/labels{/name}', 'comments_url': 'https://api.github.com/repos/pandas-dev/pandas/issues/33414/comments', 'events_url': 'https://api.github.com/repos/pandas-dev/pandas/issues/33414/events', 'html_url': 'https://github.com/pandas-dev/pandas/issues/33414', 'id': 596980869, 'node_id': 'MDU6SXNzdWU1OTY5ODA4Njk=', 'number': 33414, 'title': 'ENH: Optionally pass dtypes as a dict into json_normalize', 'user': {'login': 'jcezarms', 'id': 25608481, 'node_id': 'MDQ6VXNlcjI1NjA4NDgx', 'avatar_url': 'https://avatars1.githubusercontent.com/u/25608481?v=4', 'gravatar_id': '', 'url': 'https://api.github.com/users/jcezarms', 'html_url': 'https://github.com/jcezarms', 'followers_url': 'https://api.github.com/users/jcezarms/followers', 'following_url': 'https://api.github.com/users/jcezarms/following{/other_user}', 'gists_url': 'https://api.github.com/users/jcezarms/gists{/gist_id}', 'starred_url': 'https://api.github.com/users/jcezarms/starred{/owner}{/repo}', 'subscriptions_url': 'https://api.github.com/users/jcezarms/subscriptions', 'organizations_url': 'https://api.github.com/users/jcezarms/orgs', 'repos_url': 'https://api.github.com/users/jcezarms/repos', 'events_url': 'https://api.github.com/users/jcezarms/events{/privacy}', 'received_events_url': 'https://api.github.com/users/jcezarms/received_events', 'type': 'User', 'site_admin': False}, 'labels': [{'id': 76812, 'node_id': 'MDU6TGFiZWw3NjgxMg==', 'url': 'https://api.github.com/repos/pandas-dev/pandas/labels/Enhancement', 'name': 'Enhancement', 'color': '4E9A06', 'default': False, 'description': None}, {'id': 1954720290, 'node_id': 'MDU6TGFiZWwxOTU0NzIwMjkw', 'url': 'https://api.github.com/repos/pandas-dev/pandas/labels/Needs%20Triage', 'name': 'Needs Triage', 'color': '0052cc', 'default': False, 'description': 'Issue that has not been reviewed by a pandas team member'}], 'state': 'open', 'locked': False, 'assignee': None, 'assignees': [], 'milestone': None, 'comments': 0, 'created_at': '2020-04-09T02:42:32Z', 'updated_at': '2020-04-09T02:42:32Z', 'closed_at': None, 'author_association': 'NONE', 'body': '#### Is your feature request related to a problem?\\r\\n\\r\\nIn some of my projects, the data I need to load as DataFrame comes in a json list.\\r\\n\\r\\nWe switched to `json_normalize` for its ease of use, but some memory/performance issues came as the default typing within this method outputs mostly `object`, `int64` and `float64` column dtypes for us - all of which are the most memory-demanding of their categories.\\r\\n\\r\\n#### Describe the solution you\\'d like\\r\\n\\r\\nDepends on #4464.\\r\\nI envision passing `dtype` as a dict, so for a format like\\r\\n```json\\r\\njson  = [{\\r\\n    \"nest\": {\\r\\n            \"int\": 10,\\r\\n            \"float\": 2.5,\\r\\n            \"str\": \"category_one\"\\r\\n    }\\r\\n}]\\r\\n```\\r\\nNormalizing would look like\\r\\n```python\\r\\ndtype = {\\'nest.int\\': np.int8, \\'nest.float\\': np.float32, \\'next.str\\': \\'category\\'}\\r\\ndf = pd.json_normalize(json, dtype=dtype)\\r\\n```\\r\\n\\r\\nFollowing the conclusion of #4464, the `dtype` arg would be passed to [the DataFrame constructor within `json_normalize`](https://github.com/pandas-dev/pandas/blob/983fae65fbadb83a064dfec53031d875d8e13928/pandas/io/json/_normalize.py#L338).\\r\\n\\r\\n#### API breaking implications\\r\\n\\r\\nAs of now, [the code itself mentions a problem](https://github.com/pandas-dev/pandas/blob/983fae65fbadb83a064dfec53031d875d8e13928/pandas/io/json/_normalize.py#L343-L352) regarding metadata field typing.\\r\\n\\r\\nI didn\\'t dive in enough to determine how to deal with this. I see no breaking change coming from this feature, but if I understand correctly that will always override metadata field types with `object`.\\r\\n\\r\\nIf so the condition could be changed to\\r\\n```python\\r\\nif k in result and k not in dtype.keys(): \\r\\n``` \\r\\n\\r\\n#### Describe alternatives you\\'ve considered\\r\\n\\r\\nI\\'ve made a separate module which runs `json_normalize` and then overrides the resulting DataFrame\\'s dtypes dynamically through `as_type` and `apply`.\\r\\n'}, {'url': 'https://api.github.com/repos/pandas-dev/pandas/issues/33412', 'repository_url': 'https://api.github.com/repos/pandas-dev/pandas', 'labels_url': 'https://api.github.com/repos/pandas-dev/pandas/issues/33412/labels{/name}', 'comments_url': 'https://api.github.com/repos/pandas-dev/pandas/issues/33412/comments', 'events_url': 'https://api.github.com/repos/pandas-dev/pandas/issues/33412/events', 'html_url': 'https://github.com/pandas-dev/pandas/issues/33412', 'id': 596940306, 'node_id': 'MDU6SXNzdWU1OTY5NDAzMDY=', 'number': 33412, 'title': 'ENH: More permissable conversion to StringDtype', 'user': {'login': 'topper-123', 'id': 26364415, 'node_id': 'MDQ6VXNlcjI2MzY0NDE1', 'avatar_url': 'https://avatars1.githubusercontent.com/u/26364415?v=4', 'gravatar_id': '', 'url': 'https://api.github.com/users/topper-123', 'html_url': 'https://github.com/topper-123', 'followers_url': 'https://api.github.com/users/topper-123/followers', 'following_url': 'https://api.github.com/users/topper-123/following{/other_user}', 'gists_url': 'https://api.github.com/users/topper-123/gists{/gist_id}', 'starred_url': 'https://api.github.com/users/topper-123/starred{/owner}{/repo}', 'subscriptions_url': 'https://api.github.com/users/topper-123/subscriptions', 'organizations_url': 'https://api.github.com/users/topper-123/orgs', 'repos_url': 'https://api.github.com/users/topper-123/repos', 'events_url': 'https://api.github.com/users/topper-123/events{/privacy}', 'received_events_url': 'https://api.github.com/users/topper-123/received_events', 'type': 'User', 'site_admin': False}, 'labels': [{'id': 35818298, 'node_id': 'MDU6TGFiZWwzNTgxODI5OA==', 'url': 'https://api.github.com/repos/pandas-dev/pandas/labels/API%20Design', 'name': 'API Design', 'color': 'AD7FA8', 'default': False, 'description': None}, {'id': 76812, 'node_id': 'MDU6TGFiZWw3NjgxMg==', 'url': 'https://api.github.com/repos/pandas-dev/pandas/labels/Enhancement', 'name': 'Enhancement', 'color': '4E9A06', 'default': False, 'description': None}], 'state': 'open', 'locked': False, 'assignee': None, 'assignees': [], 'milestone': None, 'comments': 0, 'created_at': '2020-04-09T00:24:37Z', 'updated_at': '2020-04-09T00:25:19Z', 'closed_at': None, 'author_association': 'CONTRIBUTOR', 'body': 'Currently, converting directly to StringDtype is not really safe unless you know you\\'ve got a ``str`` type:\\r\\n\\r\\n```python\\r\\n>>> pd.Series([1,2, np.nan], dtype=str)[0]\\r\\n\\'1\\'  # string, works\\r\\n>>> pd.Series([1,2, np.nan], dtype=\"string\")\\r\\nValueError  # does not work\\r\\n>>> pd.Series([1,2, np.nan], dtype=str).astype(\"string\")\\r\\n# works\\r\\n>>> pd.Series([1,2, np.nan]).astype(\"string\")\\r\\nValueError  # does not work\\r\\n>>> pd.Series([1,2, np.nan]).astype(str).astype(\"string\")\\r\\n# works\\r\\n```\\r\\nThe net result is that we have to wrap conversions, so in general will have to do  ``x.astype(str).astype(\"string\")``, which seems unnecessary.\\r\\n\\r\\nThis extends to other conversions to StringDtype, e.g. for ``read_excel`` we have to do:\\r\\n\\r\\n```python\\r\\n>>> df = pd.read_excel(..., dtype={\"col_x\": str}).astype({\"col_x\": \"string\"})\\r\\n```\\r\\nwhere directly setting ``dtype={\"col_x\": \"string\"}`` would seem more natural.\\r\\n\\r\\n I think we should be able to convert directly to StringDtype by internally converting first to ``str``, if needed. I might be missing some nuance why this is not allowed, though.\\r\\n\\r\\nAny comment on loosening up here?'}, {'url': 'https://api.github.com/repos/pandas-dev/pandas/issues/33411', 'repository_url': 'https://api.github.com/repos/pandas-dev/pandas', 'labels_url': 'https://api.github.com/repos/pandas-dev/pandas/issues/33411/labels{/name}', 'comments_url': 'https://api.github.com/repos/pandas-dev/pandas/issues/33411/comments', 'events_url': 'https://api.github.com/repos/pandas-dev/pandas/issues/33411/events', 'html_url': 'https://github.com/pandas-dev/pandas/pull/33411', 'id': 596938182, 'node_id': 'MDExOlB1bGxSZXF1ZXN0NDAxMTQyODEw', 'number': 33411, 'title': 'To numeric', 'user': {'login': 'yixinxiao7', 'id': 32621777, 'node_id': 'MDQ6VXNlcjMyNjIxNzc3', 'avatar_url': 'https://avatars0.githubusercontent.com/u/32621777?v=4', 'gravatar_id': '', 'url': 'https://api.github.com/users/yixinxiao7', 'html_url': 'https://github.com/yixinxiao7', 'followers_url': 'https://api.github.com/users/yixinxiao7/followers', 'following_url': 'https://api.github.com/users/yixinxiao7/following{/other_user}', 'gists_url': 'https://api.github.com/users/yixinxiao7/gists{/gist_id}', 'starred_url': 'https://api.github.com/users/yixinxiao7/starred{/owner}{/repo}', 'subscriptions_url': 'https://api.github.com/users/yixinxiao7/subscriptions', 'organizations_url': 'https://api.github.com/users/yixinxiao7/orgs', 'repos_url': 'https://api.github.com/users/yixinxiao7/repos', 'events_url': 'https://api.github.com/users/yixinxiao7/events{/privacy}', 'received_events_url': 'https://api.github.com/users/yixinxiao7/received_events', 'type': 'User', 'site_admin': False}, 'labels': [], 'state': 'open', 'locked': False, 'assignee': None, 'assignees': [], 'milestone': None, 'comments': 0, 'created_at': '2020-04-09T00:18:02Z', 'updated_at': '2020-04-09T00:18:02Z', 'closed_at': None, 'author_association': 'NONE', 'pull_request': {'url': 'https://api.github.com/repos/pandas-dev/pandas/pulls/33411', 'html_url': 'https://github.com/pandas-dev/pandas/pull/33411', 'diff_url': 'https://github.com/pandas-dev/pandas/pull/33411.diff', 'patch_url': 'https://github.com/pandas-dev/pandas/pull/33411.patch'}, 'body': '- [ ] closes #xxxx\\r\\n- [x] tests added / passed\\r\\n- [x] passes `black pandas`\\r\\n- [x] passes `git diff upstream/master -u -- \"*.py\" | flake8 --diff`\\r\\n- [x] whatsnew entry\\r\\n\\r\\nAddressing GH #33013. Supports downcasting of nullable dtypes by transferring elements in extension array to ndarray to avoid TypeError thrown by np.allclose. Enhancement documented on v1.1.0 in the \"other enhancements\" section. Unit test written in test_to_numeric. \\r\\n'}, {'url': 'https://api.github.com/repos/pandas-dev/pandas/issues/33410', 'repository_url': 'https://api.github.com/repos/pandas-dev/pandas', 'labels_url': 'https://api.github.com/repos/pandas-dev/pandas/issues/33410/labels{/name}', 'comments_url': 'https://api.github.com/repos/pandas-dev/pandas/issues/33410/comments', 'events_url': 'https://api.github.com/repos/pandas-dev/pandas/issues/33410/events', 'html_url': 'https://github.com/pandas-dev/pandas/issues/33410', 'id': 596915403, 'node_id': 'MDU6SXNzdWU1OTY5MTU0MDM=', 'number': 33410, 'title': 'BUG: ValueError: buffer source array is read-only during groupby', 'user': {'login': 'erik-hasse', 'id': 37126755, 'node_id': 'MDQ6VXNlcjM3MTI2NzU1', 'avatar_url': 'https://avatars1.githubusercontent.com/u/37126755?v=4', 'gravatar_id': '', 'url': 'https://api.github.com/users/erik-hasse', 'html_url': 'https://github.com/erik-hasse', 'followers_url': 'https://api.github.com/users/erik-hasse/followers', 'following_url': 'https://api.github.com/users/erik-hasse/following{/other_user}', 'gists_url': 'https://api.github.com/users/erik-hasse/gists{/gist_id}', 'starred_url': 'https://api.github.com/users/erik-hasse/starred{/owner}{/repo}', 'subscriptions_url': 'https://api.github.com/users/erik-hasse/subscriptions', 'organizations_url': 'https://api.github.com/users/erik-hasse/orgs', 'repos_url': 'https://api.github.com/users/erik-hasse/repos', 'events_url': 'https://api.github.com/users/erik-hasse/events{/privacy}', 'received_events_url': 'https://api.github.com/users/erik-hasse/received_events', 'type': 'User', 'site_admin': False}, 'labels': [{'id': 76811, 'node_id': 'MDU6TGFiZWw3NjgxMQ==', 'url': 'https://api.github.com/repos/pandas-dev/pandas/labels/Bug', 'name': 'Bug', 'color': 'e10c02', 'default': False, 'description': None}, {'id': 1954720290, 'node_id': 'MDU6TGFiZWwxOTU0NzIwMjkw', 'url': 'https://api.github.com/repos/pandas-dev/pandas/labels/Needs%20Triage', 'name': 'Needs Triage', 'color': '0052cc', 'default': False, 'description': 'Issue that has not been reviewed by a pandas team member'}], 'state': 'open', 'locked': False, 'assignee': None, 'assignees': [], 'milestone': None, 'comments': 0, 'created_at': '2020-04-08T23:08:24Z', 'updated_at': '2020-04-08T23:08:24Z', 'closed_at': None, 'author_association': 'NONE', 'body': '- [x] I have checked that this issue has not already been reported.\\r\\n\\r\\n- [x] I have confirmed this bug exists on the latest version of pandas.\\r\\n\\r\\n- [ ] (optional) I have confirmed this bug exists on the master branch of pandas.\\r\\n\\r\\n---\\r\\n\\r\\n**Note**: Please read [this guide](https://matthewrocklin.com/blog/work/2018/02/28/minimal-bug-reports) detailing how to provide the necessary information for us to reproduce your bug.\\r\\n\\r\\n#### Code Sample, a copy-pastable example\\r\\n\\r\\n```python\\r\\nimport pandas as pd\\r\\ndf = pd.DataFrame(data={\\'x\\': [1], \\'y\\': [2]})\\r\\ndf.to_parquet(\\'pq_df\\', partition_cols=\\'x\\')\\r\\ndf = pd.read_parquet(\\'pq_df\\')\\r\\ndf.groupby(\\'x\\', sort=False)\\r\\n\\r\\n```\\r\\n\\r\\n#### Problem description\\r\\n\\r\\nThe above code raises an exception:\\r\\n\\r\\n```\\r\\nTraceback (most recent call last):\\r\\n  File \"mve.py\", line 5, in <module>\\r\\n    df.groupby(\\'x\\', sort=False)\\r\\n  File \"/Users/ehasse/.local/lib/python3.8/site-packages/pandas/core/frame.py\", line 5798, in groupby\\r\\n    return groupby_generic.DataFrameGroupBy(\\r\\n  File \"/Users/ehasse/.local/lib/python3.8/site-packages/pandas/core/groupby/groupby.py\", line 402, in __init__\\r\\n    grouper, exclusions, obj = get_grouper(\\r\\n  File \"/Users/ehasse/.local/lib/python3.8/site-packages/pandas/core/groupby/grouper.py\", line 615, in get_grouper\\r\\n    Grouping(\\r\\n  File \"/Users/ehasse/.local/lib/python3.8/site-packages/pandas/core/groupby/grouper.py\", line 312, in __init__\\r\\n    self.grouper, self.all_grouper = recode_for_groupby(\\r\\n  File \"/Users/ehasse/.local/lib/python3.8/site-packages/pandas/core/groupby/categorical.py\", line 72, in recode_for_groupby\\r\\n    cat = cat.add_categories(c.categories[~c.categories.isin(cat.categories)])\\r\\n  File \"/Users/ehasse/.local/lib/python3.8/site-packages/pandas/core/indexes/base.py\", line 4667, in isin\\r\\n    return algos.isin(self, values)\\r\\n  File \"/Users/ehasse/.local/lib/python3.8/site-packages/pandas/core/algorithms.py\", line 447, in isin\\r\\n    return f(comps, values)\\r\\n  File \"pandas/_libs/hashtable_func_helper.pxi\", line 555, in pandas._libs.hashtable.ismember_int64\\r\\n  File \"stringsource\", line 658, in View.MemoryView.memoryview_cwrapper\\r\\n  File \"stringsource\", line 349, in View.MemoryView.memoryview.__cinit__\\r\\nValueError: buffer source array is read-only\\r\\n```\\r\\n\\r\\nThis specifically requires the following:\\r\\n* The dataframe is loaded from a parquet file.\\r\\n* The column being grouped by was used to partition the file.\\r\\n* sort=False is passed.\\r\\n\\r\\nIn addtion, passing observed=True stops the error from occurring.\\r\\n\\r\\nI believe this is related to #31710, but they were unable to provide an example for groupby, and the issue remains on 1.0.3.\\r\\n\\r\\n#### Expected Output\\r\\n\\r\\nA DataFrameGroupBy object.\\r\\n\\r\\n#### Output of ``pd.show_versions()``\\r\\n\\r\\n<details>\\r\\n\\r\\nINSTALLED VERSIONS\\r\\n------------------\\r\\ncommit           : None\\r\\npython           : 3.8.1.final.0\\r\\npython-bits      : 64\\r\\nOS               : Darwin\\r\\nOS-release       : 18.7.0\\r\\nmachine          : x86_64\\r\\nprocessor        : i386\\r\\nbyteorder        : little\\r\\nLC_ALL           : None\\r\\nLANG             : en_US.UTF-8\\r\\nLOCALE           : en_US.UTF-8\\r\\n\\r\\npandas           : 1.0.3\\r\\nnumpy            : 1.18.1\\r\\npytz             : 2019.3\\r\\ndateutil         : 2.8.1\\r\\npip              : 20.0.2\\r\\nsetuptools       : 46.0.0.post20200309\\r\\nCython           : None\\r\\npytest           : 5.4.1\\r\\nhypothesis       : None\\r\\nsphinx           : None\\r\\nblosc            : None\\r\\nfeather          : None\\r\\nxlsxwriter       : None\\r\\nlxml.etree       : None\\r\\nhtml5lib         : None\\r\\npymysql          : None\\r\\npsycopg2         : None\\r\\njinja2           : 2.11.1\\r\\nIPython          : 7.13.0\\r\\npandas_datareader: None\\r\\nbs4              : None\\r\\nbottleneck       : None\\r\\nfastparquet      : None\\r\\ngcsfs            : None\\r\\nlxml.etree       : None\\r\\nmatplotlib       : 3.2.1\\r\\nnumexpr          : None\\r\\nodfpy            : None\\r\\nopenpyxl         : None\\r\\npandas_gbq       : None\\r\\npyarrow          : 0.16.0\\r\\npytables         : None\\r\\npytest           : 5.4.1\\r\\npyxlsb           : None\\r\\ns3fs             : None\\r\\nscipy            : 1.4.1\\r\\nsqlalchemy       : None\\r\\ntables           : None\\r\\ntabulate         : None\\r\\nxarray           : None\\r\\nxlrd             : None\\r\\nxlwt             : None\\r\\nxlsxwriter       : None\\r\\nnumba            : 0.47.0\\r\\n\\r\\n</details>\\r\\n'}, {'url': 'https://api.github.com/repos/pandas-dev/pandas/issues/33407', 'repository_url': 'https://api.github.com/repos/pandas-dev/pandas', 'labels_url': 'https://api.github.com/repos/pandas-dev/pandas/issues/33407/labels{/name}', 'comments_url': 'https://api.github.com/repos/pandas-dev/pandas/issues/33407/comments', 'events_url': 'https://api.github.com/repos/pandas-dev/pandas/issues/33407/events', 'html_url': 'https://github.com/pandas-dev/pandas/pull/33407', 'id': 596859445, 'node_id': 'MDExOlB1bGxSZXF1ZXN0NDAxMDc3ODcz', 'number': 33407, 'title': 'REF: call pandas_dtype up-front in Index.__new__', 'user': {'login': 'jbrockmendel', 'id': 8078968, 'node_id': 'MDQ6VXNlcjgwNzg5Njg=', 'avatar_url': 'https://avatars1.githubusercontent.com/u/8078968?v=4', 'gravatar_id': '', 'url': 'https://api.github.com/users/jbrockmendel', 'html_url': 'https://github.com/jbrockmendel', 'followers_url': 'https://api.github.com/users/jbrockmendel/followers', 'following_url': 'https://api.github.com/users/jbrockmendel/following{/other_user}', 'gists_url': 'https://api.github.com/users/jbrockmendel/gists{/gist_id}', 'starred_url': 'https://api.github.com/users/jbrockmendel/starred{/owner}{/repo}', 'subscriptions_url': 'https://api.github.com/users/jbrockmendel/subscriptions', 'organizations_url': 'https://api.github.com/users/jbrockmendel/orgs', 'repos_url': 'https://api.github.com/users/jbrockmendel/repos', 'events_url': 'https://api.github.com/users/jbrockmendel/events{/privacy}', 'received_events_url': 'https://api.github.com/users/jbrockmendel/received_events', 'type': 'User', 'site_admin': False}, 'labels': [{'id': 211029535, 'node_id': 'MDU6TGFiZWwyMTEwMjk1MzU=', 'url': 'https://api.github.com/repos/pandas-dev/pandas/labels/Clean', 'name': 'Clean', 'color': '207de5', 'default': False, 'description': None}, {'id': 31404521, 'node_id': 'MDU6TGFiZWwzMTQwNDUyMQ==', 'url': 'https://api.github.com/repos/pandas-dev/pandas/labels/Dtypes', 'name': 'Dtypes', 'color': 'e102d8', 'default': False, 'description': None}], 'state': 'open', 'locked': False, 'assignee': None, 'assignees': [], 'milestone': {'url': 'https://api.github.com/repos/pandas-dev/pandas/milestones/68', 'html_url': 'https://github.com/pandas-dev/pandas/milestone/68', 'labels_url': 'https://api.github.com/repos/pandas-dev/pandas/milestones/68/labels', 'id': 4894670, 'node_id': 'MDk6TWlsZXN0b25lNDg5NDY3MA==', 'number': 68, 'title': '1.1', 'description': 'after 1.0', 'creator': {'login': 'jreback', 'id': 953992, 'node_id': 'MDQ6VXNlcjk1Mzk5Mg==', 'avatar_url': 'https://avatars2.githubusercontent.com/u/953992?v=4', 'gravatar_id': '', 'url': 'https://api.github.com/users/jreback', 'html_url': 'https://github.com/jreback', 'followers_url': 'https://api.github.com/users/jreback/followers', 'following_url': 'https://api.github.com/users/jreback/following{/other_user}', 'gists_url': 'https://api.github.com/users/jreback/gists{/gist_id}', 'starred_url': 'https://api.github.com/users/jreback/starred{/owner}{/repo}', 'subscriptions_url': 'https://api.github.com/users/jreback/subscriptions', 'organizations_url': 'https://api.github.com/users/jreback/orgs', 'repos_url': 'https://api.github.com/users/jreback/repos', 'events_url': 'https://api.github.com/users/jreback/events{/privacy}', 'received_events_url': 'https://api.github.com/users/jreback/received_events', 'type': 'User', 'site_admin': False}, 'open_issues': 97, 'closed_issues': 1148, 'state': 'open', 'created_at': '2019-12-02T12:52:48Z', 'updated_at': '2020-04-09T02:50:10Z', 'due_on': '2020-08-01T07:00:00Z', 'closed_at': None}, 'comments': 2, 'created_at': '2020-04-08T20:59:44Z', 'updated_at': '2020-04-09T00:47:55Z', 'closed_at': None, 'author_association': 'MEMBER', 'pull_request': {'url': 'https://api.github.com/repos/pandas-dev/pandas/pulls/33407', 'html_url': 'https://github.com/pandas-dev/pandas/pull/33407', 'diff_url': 'https://github.com/pandas-dev/pandas/pull/33407.diff', 'patch_url': 'https://github.com/pandas-dev/pandas/pull/33407.patch'}, 'body': 'This leaves us in position to drop in dtype-only is_foo_dtype checks'}, {'url': 'https://api.github.com/repos/pandas-dev/pandas/issues/33406', 'repository_url': 'https://api.github.com/repos/pandas-dev/pandas', 'labels_url': 'https://api.github.com/repos/pandas-dev/pandas/issues/33406/labels{/name}', 'comments_url': 'https://api.github.com/repos/pandas-dev/pandas/issues/33406/comments', 'events_url': 'https://api.github.com/repos/pandas-dev/pandas/issues/33406/events', 'html_url': 'https://github.com/pandas-dev/pandas/pull/33406', 'id': 596823112, 'node_id': 'MDExOlB1bGxSZXF1ZXN0NDAxMDQ5MDA5', 'number': 33406, 'title': 'BUG: to_period() freq was not infered', 'user': {'login': 'MomIsBestFriend', 'id': 50263213, 'node_id': 'MDQ6VXNlcjUwMjYzMjEz', 'avatar_url': 'https://avatars0.githubusercontent.com/u/50263213?v=4', 'gravatar_id': '', 'url': 'https://api.github.com/users/MomIsBestFriend', 'html_url': 'https://github.com/MomIsBestFriend', 'followers_url': 'https://api.github.com/users/MomIsBestFriend/followers', 'following_url': 'https://api.github.com/users/MomIsBestFriend/following{/other_user}', 'gists_url': 'https://api.github.com/users/MomIsBestFriend/gists{/gist_id}', 'starred_url': 'https://api.github.com/users/MomIsBestFriend/starred{/owner}{/repo}', 'subscriptions_url': 'https://api.github.com/users/MomIsBestFriend/subscriptions', 'organizations_url': 'https://api.github.com/users/MomIsBestFriend/orgs', 'repos_url': 'https://api.github.com/users/MomIsBestFriend/repos', 'events_url': 'https://api.github.com/users/MomIsBestFriend/events{/privacy}', 'received_events_url': 'https://api.github.com/users/MomIsBestFriend/received_events', 'type': 'User', 'site_admin': False}, 'labels': [], 'state': 'open', 'locked': False, 'assignee': None, 'assignees': [], 'milestone': None, 'comments': 1, 'created_at': '2020-04-08T19:56:23Z', 'updated_at': '2020-04-08T21:42:35Z', 'closed_at': None, 'author_association': 'CONTRIBUTOR', 'pull_request': {'url': 'https://api.github.com/repos/pandas-dev/pandas/pulls/33406', 'html_url': 'https://github.com/pandas-dev/pandas/pull/33406', 'diff_url': 'https://github.com/pandas-dev/pandas/pull/33406.diff', 'patch_url': 'https://github.com/pandas-dev/pandas/pull/33406.patch'}, 'body': '- [x] closes #33358\\r\\n- [x] tests added / passed\\r\\n- [x] passes `black pandas`\\r\\n- [x] passes `git diff upstream/master -u -- \"*.py\" | flake8 --diff`\\r\\n- [ ] whatsnew entry\\r\\n\\r\\n---\\r\\n\\r\\nWhen running ```pytest -q --cache-clear pandas/tests/ -k \"period\"``` some tests in ```pandas/tests/indexing/``` are failing, but when running ```pytest -q --cache-clear pandas/tests/indexing/``` __all__ the tests are passing (on my local machine), so I figured and debug from here, thoughts?'}, {'url': 'https://api.github.com/repos/pandas-dev/pandas/issues/33404', 'repository_url': 'https://api.github.com/repos/pandas-dev/pandas', 'labels_url': 'https://api.github.com/repos/pandas-dev/pandas/issues/33404/labels{/name}', 'comments_url': 'https://api.github.com/repos/pandas-dev/pandas/issues/33404/comments', 'events_url': 'https://api.github.com/repos/pandas-dev/pandas/issues/33404/events', 'html_url': 'https://github.com/pandas-dev/pandas/pull/33404', 'id': 596798647, 'node_id': 'MDExOlB1bGxSZXF1ZXN0NDAxMDI5MzE3', 'number': 33404, 'title': 'BUG: Series.__getitem__ with MultiIndex and leading integer level', 'user': {'login': 'jbrockmendel', 'id': 8078968, 'node_id': 'MDQ6VXNlcjgwNzg5Njg=', 'avatar_url': 'https://avatars1.githubusercontent.com/u/8078968?v=4', 'gravatar_id': '', 'url': 'https://api.github.com/users/jbrockmendel', 'html_url': 'https://github.com/jbrockmendel', 'followers_url': 'https://api.github.com/users/jbrockmendel/followers', 'following_url': 'https://api.github.com/users/jbrockmendel/following{/other_user}', 'gists_url': 'https://api.github.com/users/jbrockmendel/gists{/gist_id}', 'starred_url': 'https://api.github.com/users/jbrockmendel/starred{/owner}{/repo}', 'subscriptions_url': 'https://api.github.com/users/jbrockmendel/subscriptions', 'organizations_url': 'https://api.github.com/users/jbrockmendel/orgs', 'repos_url': 'https://api.github.com/users/jbrockmendel/repos', 'events_url': 'https://api.github.com/users/jbrockmendel/events{/privacy}', 'received_events_url': 'https://api.github.com/users/jbrockmendel/received_events', 'type': 'User', 'site_admin': False}, 'labels': [{'id': 76811, 'node_id': 'MDU6TGFiZWw3NjgxMQ==', 'url': 'https://api.github.com/repos/pandas-dev/pandas/labels/Bug', 'name': 'Bug', 'color': 'e10c02', 'default': False, 'description': None}, {'id': 2822098, 'node_id': 'MDU6TGFiZWwyODIyMDk4', 'url': 'https://api.github.com/repos/pandas-dev/pandas/labels/Indexing', 'name': 'Indexing', 'color': '0b02e1', 'default': False, 'description': 'Related to indexing on series/frames, not to indexes themselves'}], 'state': 'open', 'locked': False, 'assignee': None, 'assignees': [], 'milestone': {'url': 'https://api.github.com/repos/pandas-dev/pandas/milestones/68', 'html_url': 'https://github.com/pandas-dev/pandas/milestone/68', 'labels_url': 'https://api.github.com/repos/pandas-dev/pandas/milestones/68/labels', 'id': 4894670, 'node_id': 'MDk6TWlsZXN0b25lNDg5NDY3MA==', 'number': 68, 'title': '1.1', 'description': 'after 1.0', 'creator': {'login': 'jreback', 'id': 953992, 'node_id': 'MDQ6VXNlcjk1Mzk5Mg==', 'avatar_url': 'https://avatars2.githubusercontent.com/u/953992?v=4', 'gravatar_id': '', 'url': 'https://api.github.com/users/jreback', 'html_url': 'https://github.com/jreback', 'followers_url': 'https://api.github.com/users/jreback/followers', 'following_url': 'https://api.github.com/users/jreback/following{/other_user}', 'gists_url': 'https://api.github.com/users/jreback/gists{/gist_id}', 'starred_url': 'https://api.github.com/users/jreback/starred{/owner}{/repo}', 'subscriptions_url': 'https://api.github.com/users/jreback/subscriptions', 'organizations_url': 'https://api.github.com/users/jreback/orgs', 'repos_url': 'https://api.github.com/users/jreback/repos', 'events_url': 'https://api.github.com/users/jreback/events{/privacy}', 'received_events_url': 'https://api.github.com/users/jreback/received_events', 'type': 'User', 'site_admin': False}, 'open_issues': 97, 'closed_issues': 1148, 'state': 'open', 'created_at': '2019-12-02T12:52:48Z', 'updated_at': '2020-04-09T02:50:10Z', 'due_on': '2020-08-01T07:00:00Z', 'closed_at': None}, 'comments': 3, 'created_at': '2020-04-08T19:14:26Z', 'updated_at': '2020-04-08T23:01:21Z', 'closed_at': None, 'author_association': 'MEMBER', 'pull_request': {'url': 'https://api.github.com/repos/pandas-dev/pandas/pulls/33404', 'html_url': 'https://github.com/pandas-dev/pandas/pull/33404', 'diff_url': 'https://github.com/pandas-dev/pandas/pull/33404.diff', 'patch_url': 'https://github.com/pandas-dev/pandas/pull/33404.patch'}, 'body': '- [x] closes #33355\\r\\n- [x] tests added / passed\\r\\n- [x] passes `black pandas`\\r\\n- [x] passes `git diff upstream/master -u -- \"*.py\" | flake8 --diff`\\r\\n- [x] whatsnew entry\\r\\n'}, {'url': 'https://api.github.com/repos/pandas-dev/pandas/issues/33403', 'repository_url': 'https://api.github.com/repos/pandas-dev/pandas', 'labels_url': 'https://api.github.com/repos/pandas-dev/pandas/issues/33403/labels{/name}', 'comments_url': 'https://api.github.com/repos/pandas-dev/pandas/issues/33403/comments', 'events_url': 'https://api.github.com/repos/pandas-dev/pandas/issues/33403/events', 'html_url': 'https://github.com/pandas-dev/pandas/pull/33403', 'id': 596770265, 'node_id': 'MDExOlB1bGxSZXF1ZXN0NDAxMDA1ODY1', 'number': 33403, 'title': 'DOC: Fix heading capitalization in doc/source/whatsnew - part2 (#32550)', 'user': {'login': 'cleconte987', 'id': 24496267, 'node_id': 'MDQ6VXNlcjI0NDk2MjY3', 'avatar_url': 'https://avatars3.githubusercontent.com/u/24496267?v=4', 'gravatar_id': '', 'url': 'https://api.github.com/users/cleconte987', 'html_url': 'https://github.com/cleconte987', 'followers_url': 'https://api.github.com/users/cleconte987/followers', 'following_url': 'https://api.github.com/users/cleconte987/following{/other_user}', 'gists_url': 'https://api.github.com/users/cleconte987/gists{/gist_id}', 'starred_url': 'https://api.github.com/users/cleconte987/starred{/owner}{/repo}', 'subscriptions_url': 'https://api.github.com/users/cleconte987/subscriptions', 'organizations_url': 'https://api.github.com/users/cleconte987/orgs', 'repos_url': 'https://api.github.com/users/cleconte987/repos', 'events_url': 'https://api.github.com/users/cleconte987/events{/privacy}', 'received_events_url': 'https://api.github.com/users/cleconte987/received_events', 'type': 'User', 'site_admin': False}, 'labels': [], 'state': 'open', 'locked': False, 'assignee': None, 'assignees': [], 'milestone': None, 'comments': 0, 'created_at': '2020-04-08T18:24:09Z', 'updated_at': '2020-04-08T22:51:14Z', 'closed_at': None, 'author_association': 'CONTRIBUTOR', 'pull_request': {'url': 'https://api.github.com/repos/pandas-dev/pandas/pulls/33403', 'html_url': 'https://github.com/pandas-dev/pandas/pull/33403', 'diff_url': 'https://github.com/pandas-dev/pandas/pull/33403.diff', 'patch_url': 'https://github.com/pandas-dev/pandas/pull/33403.patch'}, 'body': '- [ ] Modify files v0.6.1.rst, v0.7.0.rst, v0.7.1.rst, v0.7.2.rst, v0.7.3.rst'}, {'url': 'https://api.github.com/repos/pandas-dev/pandas/issues/33402', 'repository_url': 'https://api.github.com/repos/pandas-dev/pandas', 'labels_url': 'https://api.github.com/repos/pandas-dev/pandas/issues/33402/labels{/name}', 'comments_url': 'https://api.github.com/repos/pandas-dev/pandas/issues/33402/comments', 'events_url': 'https://api.github.com/repos/pandas-dev/pandas/issues/33402/events', 'html_url': 'https://github.com/pandas-dev/pandas/pull/33402', 'id': 596760634, 'node_id': 'MDExOlB1bGxSZXF1ZXN0NDAwOTk3ODcw', 'number': 33402, 'title': 'TST: Parameterize tests', 'user': {'login': 'MomIsBestFriend', 'id': 50263213, 'node_id': 'MDQ6VXNlcjUwMjYzMjEz', 'avatar_url': 'https://avatars0.githubusercontent.com/u/50263213?v=4', 'gravatar_id': '', 'url': 'https://api.github.com/users/MomIsBestFriend', 'html_url': 'https://github.com/MomIsBestFriend', 'followers_url': 'https://api.github.com/users/MomIsBestFriend/followers', 'following_url': 'https://api.github.com/users/MomIsBestFriend/following{/other_user}', 'gists_url': 'https://api.github.com/users/MomIsBestFriend/gists{/gist_id}', 'starred_url': 'https://api.github.com/users/MomIsBestFriend/starred{/owner}{/repo}', 'subscriptions_url': 'https://api.github.com/users/MomIsBestFriend/subscriptions', 'organizations_url': 'https://api.github.com/users/MomIsBestFriend/orgs', 'repos_url': 'https://api.github.com/users/MomIsBestFriend/repos', 'events_url': 'https://api.github.com/users/MomIsBestFriend/events{/privacy}', 'received_events_url': 'https://api.github.com/users/MomIsBestFriend/received_events', 'type': 'User', 'site_admin': False}, 'labels': [{'id': 127685, 'node_id': 'MDU6TGFiZWwxMjc2ODU=', 'url': 'https://api.github.com/repos/pandas-dev/pandas/labels/Testing', 'name': 'Testing', 'color': 'C4A000', 'default': False, 'description': None}], 'state': 'open', 'locked': False, 'assignee': None, 'assignees': [], 'milestone': {'url': 'https://api.github.com/repos/pandas-dev/pandas/milestones/68', 'html_url': 'https://github.com/pandas-dev/pandas/milestone/68', 'labels_url': 'https://api.github.com/repos/pandas-dev/pandas/milestones/68/labels', 'id': 4894670, 'node_id': 'MDk6TWlsZXN0b25lNDg5NDY3MA==', 'number': 68, 'title': '1.1', 'description': 'after 1.0', 'creator': {'login': 'jreback', 'id': 953992, 'node_id': 'MDQ6VXNlcjk1Mzk5Mg==', 'avatar_url': 'https://avatars2.githubusercontent.com/u/953992?v=4', 'gravatar_id': '', 'url': 'https://api.github.com/users/jreback', 'html_url': 'https://github.com/jreback', 'followers_url': 'https://api.github.com/users/jreback/followers', 'following_url': 'https://api.github.com/users/jreback/following{/other_user}', 'gists_url': 'https://api.github.com/users/jreback/gists{/gist_id}', 'starred_url': 'https://api.github.com/users/jreback/starred{/owner}{/repo}', 'subscriptions_url': 'https://api.github.com/users/jreback/subscriptions', 'organizations_url': 'https://api.github.com/users/jreback/orgs', 'repos_url': 'https://api.github.com/users/jreback/repos', 'events_url': 'https://api.github.com/users/jreback/events{/privacy}', 'received_events_url': 'https://api.github.com/users/jreback/received_events', 'type': 'User', 'site_admin': False}, 'open_issues': 97, 'closed_issues': 1148, 'state': 'open', 'created_at': '2019-12-02T12:52:48Z', 'updated_at': '2020-04-09T02:50:10Z', 'due_on': '2020-08-01T07:00:00Z', 'closed_at': None}, 'comments': 1, 'created_at': '2020-04-08T18:05:48Z', 'updated_at': '2020-04-08T21:37:11Z', 'closed_at': None, 'author_association': 'CONTRIBUTOR', 'pull_request': {'url': 'https://api.github.com/repos/pandas-dev/pandas/pulls/33402', 'html_url': 'https://github.com/pandas-dev/pandas/pull/33402', 'diff_url': 'https://github.com/pandas-dev/pandas/pull/33402.diff', 'patch_url': 'https://github.com/pandas-dev/pandas/pull/33402.patch'}, 'body': '- [ ] closes #xxxx\\r\\n- [x] tests added / passed\\r\\n- [x] passes `black pandas`\\r\\n- [x] passes `git diff upstream/master -u -- \"*.py\" | flake8 --diff`\\r\\n- [ ] whatsnew entry\\r\\n'}, {'url': 'https://api.github.com/repos/pandas-dev/pandas/issues/33401', 'repository_url': 'https://api.github.com/repos/pandas-dev/pandas', 'labels_url': 'https://api.github.com/repos/pandas-dev/pandas/issues/33401/labels{/name}', 'comments_url': 'https://api.github.com/repos/pandas-dev/pandas/issues/33401/comments', 'events_url': 'https://api.github.com/repos/pandas-dev/pandas/issues/33401/events', 'html_url': 'https://github.com/pandas-dev/pandas/issues/33401', 'id': 596743072, 'node_id': 'MDU6SXNzdWU1OTY3NDMwNzI=', 'number': 33401, 'title': 'BUG: Index.astype does not localize to UTC first like Series.astype with datetime64[ns, tz] dtypes', 'user': {'login': 'mroeschke', 'id': 10647082, 'node_id': 'MDQ6VXNlcjEwNjQ3MDgy', 'avatar_url': 'https://avatars0.githubusercontent.com/u/10647082?v=4', 'gravatar_id': '', 'url': 'https://api.github.com/users/mroeschke', 'html_url': 'https://github.com/mroeschke', 'followers_url': 'https://api.github.com/users/mroeschke/followers', 'following_url': 'https://api.github.com/users/mroeschke/following{/other_user}', 'gists_url': 'https://api.github.com/users/mroeschke/gists{/gist_id}', 'starred_url': 'https://api.github.com/users/mroeschke/starred{/owner}{/repo}', 'subscriptions_url': 'https://api.github.com/users/mroeschke/subscriptions', 'organizations_url': 'https://api.github.com/users/mroeschke/orgs', 'repos_url': 'https://api.github.com/users/mroeschke/repos', 'events_url': 'https://api.github.com/users/mroeschke/events{/privacy}', 'received_events_url': 'https://api.github.com/users/mroeschke/received_events', 'type': 'User', 'site_admin': False}, 'labels': [{'id': 76811, 'node_id': 'MDU6TGFiZWw3NjgxMQ==', 'url': 'https://api.github.com/repos/pandas-dev/pandas/labels/Bug', 'name': 'Bug', 'color': 'e10c02', 'default': False, 'description': None}, {'id': 60458168, 'node_id': 'MDU6TGFiZWw2MDQ1ODE2OA==', 'url': 'https://api.github.com/repos/pandas-dev/pandas/labels/Timezones', 'name': 'Timezones', 'color': '5319e7', 'default': False, 'description': None}], 'state': 'open', 'locked': False, 'assignee': None, 'assignees': [], 'milestone': None, 'comments': 0, 'created_at': '2020-04-08T17:32:59Z', 'updated_at': '2020-04-08T17:34:03Z', 'closed_at': None, 'author_association': 'MEMBER', 'body': \"- [x] I have checked that this issue has not already been reported.\\r\\n\\r\\n- [x] I have confirmed this bug exists on the latest version of pandas.\\r\\n\\r\\n- [x] (optional) I have confirmed this bug exists on the master branch of pandas.\\r\\n\\r\\n---\\r\\n\\r\\n#### Code Sample, a copy-pastable example\\r\\n\\r\\n```\\r\\nIn [4]: pd.__version__\\r\\nOut[4]: '1.1.0.dev0+1202.g1de2cf1ac'\\r\\n\\r\\nIn [5]: pd.Series([pd.Timestamp('2020-01-01 15:00')]).astype('datetime64[ns, EST]')\\r\\nOut[5]:\\r\\n0   2020-01-01 10:00:00-05:00\\r\\ndtype: datetime64[ns, EST]\\r\\n\\r\\nIn [6]: pd.Index([pd.Timestamp('2020-01-01 15:00')]).astype('datetime64[ns, EST]')\\r\\nOut[6]: DatetimeIndex(['2020-01-01 15:00:00-05:00'], dtype='datetime64[ns, EST]', freq=None)\\r\\n```\\r\\n\\r\\n#### Problem description\\r\\n\\r\\n`Out[5]` is the expected output as documented in https://pandas.pydata.org/docs/user_guide/timeseries.html#time-zone-series-operations. `Out[6]` should align therefore with `Out[5]`\\r\\n\\r\\n#### Expected Output\\r\\n\\r\\n```\\r\\nIn [6]: pd.Index([pd.Timestamp('2020-01-01 15:00')]).astype('datetime64[ns, EST]')\\r\\nOut[6]: DatetimeIndex(['2020-01-01 10:00:00-05:00'], dtype='datetime64[ns, EST]', freq=None)\\r\\n```\\r\\n\"}, {'url': 'https://api.github.com/repos/pandas-dev/pandas/issues/33400', 'repository_url': 'https://api.github.com/repos/pandas-dev/pandas', 'labels_url': 'https://api.github.com/repos/pandas-dev/pandas/issues/33400/labels{/name}', 'comments_url': 'https://api.github.com/repos/pandas-dev/pandas/issues/33400/comments', 'events_url': 'https://api.github.com/repos/pandas-dev/pandas/issues/33400/events', 'html_url': 'https://github.com/pandas-dev/pandas/pull/33400', 'id': 596712212, 'node_id': 'MDExOlB1bGxSZXF1ZXN0NDAwOTU4NTQ0', 'number': 33400, 'title': 'PERF: dtype-only is_foo_dtype checks (up to 5x faster)', 'user': {'login': 'jbrockmendel', 'id': 8078968, 'node_id': 'MDQ6VXNlcjgwNzg5Njg=', 'avatar_url': 'https://avatars1.githubusercontent.com/u/8078968?v=4', 'gravatar_id': '', 'url': 'https://api.github.com/users/jbrockmendel', 'html_url': 'https://github.com/jbrockmendel', 'followers_url': 'https://api.github.com/users/jbrockmendel/followers', 'following_url': 'https://api.github.com/users/jbrockmendel/following{/other_user}', 'gists_url': 'https://api.github.com/users/jbrockmendel/gists{/gist_id}', 'starred_url': 'https://api.github.com/users/jbrockmendel/starred{/owner}{/repo}', 'subscriptions_url': 'https://api.github.com/users/jbrockmendel/subscriptions', 'organizations_url': 'https://api.github.com/users/jbrockmendel/orgs', 'repos_url': 'https://api.github.com/users/jbrockmendel/repos', 'events_url': 'https://api.github.com/users/jbrockmendel/events{/privacy}', 'received_events_url': 'https://api.github.com/users/jbrockmendel/received_events', 'type': 'User', 'site_admin': False}, 'labels': [], 'state': 'open', 'locked': False, 'assignee': None, 'assignees': [], 'milestone': None, 'comments': 0, 'created_at': '2020-04-08T16:39:15Z', 'updated_at': '2020-04-08T16:39:15Z', 'closed_at': None, 'author_association': 'MEMBER', 'pull_request': {'url': 'https://api.github.com/repos/pandas-dev/pandas/pulls/33400', 'html_url': 'https://github.com/pandas-dev/pandas/pull/33400', 'diff_url': 'https://github.com/pandas-dev/pandas/pull/33400.diff', 'patch_url': 'https://github.com/pandas-dev/pandas/pull/33400.patch'}, 'body': 'xref #33364, partially addresses #33368\\r\\n\\r\\nFor exposition I used the new type checking functions in parsers.pyx.\\r\\n\\r\\nFor the implementation I chose `.type` and `.kind` checks in order to avoid needing the imports from `dtypes.dtypes`, which has dependencies on a bunch of other parts of the code.\\r\\n\\r\\n```\\r\\nIn [1]: import pandas as pd                                                                                                                                                                                                                                                                                                    \\r\\nIn [2]: from pandas.core.dtypes.common import *                                                                                                                                                                                                                                                                                \\r\\nIn [3]: cat = pd.Categorical([])                                       \\r\\nIn [4]: arr = np.arange(5)\\r\\n                                                                                                                                                                         \\r\\nIn [5]: %timeit is_categorical_dtype(cat.dtype)                                                                                                                                                                                                                                                                                \\r\\n1.57 µs ± 34.5 ns per loop (mean ± std. dev. of 7 runs, 1000000 loops each)\\r\\n\\r\\nIn [6]: %timeit is_cat_dtype(cat.dtype)                                                                                                                                                                                                                                                                                        \\r\\n316 ns ± 3.78 ns per loop (mean ± std. dev. of 7 runs, 1000000 loops each)\\r\\n\\r\\nIn [7]: %timeit is_extension_array_dtype(cat.dtype)                                                                                                                                                                                                                                                                            \\r\\n364 ns ± 5.39 ns per loop (mean ± std. dev. of 7 runs, 1000000 loops each)\\r\\n\\r\\nIn [8]: %timeit is_ea_dtype(cat.dtype)                                                                                                                                                                                                                                                                                         \\r\\n270 ns ± 7.31 ns per loop (mean ± std. dev. of 7 runs, 1000000 loops each)\\r\\n\\r\\nIn [9]: %timeit is_extension_array_dtype(arr.dtype)                                                                                                                                                                                                                                                                           \\r\\n759 ns ± 5.16 ns per loop (mean ± std. dev. of 7 runs, 1000000 loops each)\\r\\n\\r\\nIn [10]: %timeit is_ea_dtype(arr.dtype)                                                                                                                                                                                                                                                                                        \\r\\n199 ns ± 8.77 ns per loop (mean ± std. dev. of 7 runs, 1000000 loops each)\\r\\n```'}, {'url': 'https://api.github.com/repos/pandas-dev/pandas/issues/33399', 'repository_url': 'https://api.github.com/repos/pandas-dev/pandas', 'labels_url': 'https://api.github.com/repos/pandas-dev/pandas/issues/33399/labels{/name}', 'comments_url': 'https://api.github.com/repos/pandas-dev/pandas/issues/33399/comments', 'events_url': 'https://api.github.com/repos/pandas-dev/pandas/issues/33399/events', 'html_url': 'https://github.com/pandas-dev/pandas/issues/33399', 'id': 596668150, 'node_id': 'MDU6SXNzdWU1OTY2NjgxNTA=', 'number': 33399, 'title': 'DOC: DatetimeTZDtype astype behavior with Series.astype', 'user': {'login': 'Loupiol', 'id': 13718150, 'node_id': 'MDQ6VXNlcjEzNzE4MTUw', 'avatar_url': 'https://avatars2.githubusercontent.com/u/13718150?v=4', 'gravatar_id': '', 'url': 'https://api.github.com/users/Loupiol', 'html_url': 'https://github.com/Loupiol', 'followers_url': 'https://api.github.com/users/Loupiol/followers', 'following_url': 'https://api.github.com/users/Loupiol/following{/other_user}', 'gists_url': 'https://api.github.com/users/Loupiol/gists{/gist_id}', 'starred_url': 'https://api.github.com/users/Loupiol/starred{/owner}{/repo}', 'subscriptions_url': 'https://api.github.com/users/Loupiol/subscriptions', 'organizations_url': 'https://api.github.com/users/Loupiol/orgs', 'repos_url': 'https://api.github.com/users/Loupiol/repos', 'events_url': 'https://api.github.com/users/Loupiol/events{/privacy}', 'received_events_url': 'https://api.github.com/users/Loupiol/received_events', 'type': 'User', 'site_admin': False}, 'labels': [{'id': 134699, 'node_id': 'MDU6TGFiZWwxMzQ2OTk=', 'url': 'https://api.github.com/repos/pandas-dev/pandas/labels/Docs', 'name': 'Docs', 'color': '3465A4', 'default': False, 'description': None}, {'id': 60458168, 'node_id': 'MDU6TGFiZWw2MDQ1ODE2OA==', 'url': 'https://api.github.com/repos/pandas-dev/pandas/labels/Timezones', 'name': 'Timezones', 'color': '5319e7', 'default': False, 'description': None}, {'id': 717120670, 'node_id': 'MDU6TGFiZWw3MTcxMjA2NzA=', 'url': 'https://api.github.com/repos/pandas-dev/pandas/labels/good%20first%20issue', 'name': 'good first issue', 'color': '0e8a16', 'default': True, 'description': None}], 'state': 'open', 'locked': False, 'assignee': None, 'assignees': [], 'milestone': None, 'comments': 8, 'created_at': '2020-04-08T15:31:55Z', 'updated_at': '2020-04-08T17:34:44Z', 'closed_at': None, 'author_association': 'NONE', 'body': \"#### Code Sample\\r\\n\\r\\n```python\\r\\nimport pandas as pd\\r\\n\\r\\ntyp = pd.DatetimeTZDtype(tz = 'EST')\\r\\ns = pd.Series([pd.Timestamp('2020-01-01 15:00')])\\r\\nprint(s.astype(typ))\\r\\n\\r\\n```\\r\\n\\r\\n```\\r\\n0   2020-01-01 10:00:00-05:00\\r\\ndtype: datetime64[ns, EST] \\r\\n```\\r\\n\\r\\n#### Problem description\\r\\nHello,\\r\\n\\r\\nI noticed a strange behavior using `DatetimeTZDtype` , when specifying a timezone as argument. When the type is applied to a tz-naive datetime column using `astype`, it will first localize the timestamps to `UTC` and then convert the timezone, whereas I was expecting it would just localize my tz-naive timestamps. \\r\\n\\r\\nMy situation is I am getting data from a database and need to convert the columns to the desired types. Using  `DatetimeTZDtype` and `astype` is a nice way to convert and localize in just one line, but I encountered this unexpected behavior (though it is easy to work around that).\\r\\n\\r\\nI tracked the issue to these lines [https://github.com/pandas-dev/pandas/blob/master/pandas/core/internals/blocks.py#L2090](url)\\r\\n\\r\\nThanks\\r\\n#### Expected Output\\r\\n```\\r\\n0   2020-01-01 15:00:00-05:00\\r\\ndtype: datetime64[ns, EST]\\r\\n```\\r\\n\\r\\n#### Output of ``pd.show_versions()``\\r\\n\\r\\n<details>\\r\\n\\r\\nINSTALLED VERSIONS\\r\\n------------------\\r\\ncommit           : None\\r\\npython           : 3.7.6.final.0\\r\\npython-bits      : 64\\r\\nOS               : Windows\\r\\nOS-release       : 10\\r\\nmachine          : AMD64\\r\\nprocessor        : Intel64 Family 6 Model 158 Stepping 13, GenuineIntel\\r\\nbyteorder        : little\\r\\nLC_ALL           : None\\r\\nLANG             : None\\r\\nLOCALE           : None.None\\r\\npandas           : 1.0.3\\r\\nnumpy            : 1.18.2\\r\\npytz             : 2019.3\\r\\ndateutil         : 2.8.1\\r\\npip              : 20.0.2\\r\\nsetuptools       : 45.2.0\\r\\nCython           : 0.29.16\\r\\npytest           : 5.4.1\\r\\nhypothesis       : None\\r\\nsphinx           : None\\r\\nblosc            : None\\r\\nfeather          : None\\r\\nxlsxwriter       : None\\r\\nlxml.etree       : None\\r\\nhtml5lib         : None\\r\\npymysql          : 0.9.3\\r\\npsycopg2         : None\\r\\njinja2           : 2.11.1\\r\\nIPython          : 7.13.0\\r\\npandas_datareader: None\\r\\nbs4              : None\\r\\nbottleneck       : None\\r\\nfastparquet      : None\\r\\ngcsfs            : None\\r\\nlxml.etree       : None\\r\\nmatplotlib       : 3.2.1\\r\\nnumexpr          : 2.7.1\\r\\nodfpy            : None\\r\\nopenpyxl         : None\\r\\npandas_gbq       : None\\r\\npyarrow          : 0.16.0\\r\\npytables         : None\\r\\npytest           : 5.4.1\\r\\npyxlsb           : None\\r\\ns3fs             : None\\r\\nscipy            : 1.4.1\\r\\nsqlalchemy       : 1.3.15\\r\\ntables           : None\\r\\ntabulate         : None\\r\\nxarray           : None\\r\\nxlrd             : None\\r\\nxlwt             : None\\r\\nxlsxwriter       : None\\r\\nnumba            : 0.48.0\\r\\n\\r\\n\\r\\n[paste the output of ``pd.show_versions()`` here leaving a blank line after the details tag]\\r\\n\\r\\n</details>\\r\\n\"}, {'url': 'https://api.github.com/repos/pandas-dev/pandas/issues/33398', 'repository_url': 'https://api.github.com/repos/pandas-dev/pandas', 'labels_url': 'https://api.github.com/repos/pandas-dev/pandas/issues/33398/labels{/name}', 'comments_url': 'https://api.github.com/repos/pandas-dev/pandas/issues/33398/comments', 'events_url': 'https://api.github.com/repos/pandas-dev/pandas/issues/33398/events', 'html_url': 'https://github.com/pandas-dev/pandas/pull/33398', 'id': 596665815, 'node_id': 'MDExOlB1bGxSZXF1ZXN0NDAwOTIwMjM3', 'number': 33398, 'title': 'ENH: Support passing compression args to gzip and bz2', 'user': {'login': 'jessefarnham', 'id': 4183570, 'node_id': 'MDQ6VXNlcjQxODM1NzA=', 'avatar_url': 'https://avatars3.githubusercontent.com/u/4183570?v=4', 'gravatar_id': '', 'url': 'https://api.github.com/users/jessefarnham', 'html_url': 'https://github.com/jessefarnham', 'followers_url': 'https://api.github.com/users/jessefarnham/followers', 'following_url': 'https://api.github.com/users/jessefarnham/following{/other_user}', 'gists_url': 'https://api.github.com/users/jessefarnham/gists{/gist_id}', 'starred_url': 'https://api.github.com/users/jessefarnham/starred{/owner}{/repo}', 'subscriptions_url': 'https://api.github.com/users/jessefarnham/subscriptions', 'organizations_url': 'https://api.github.com/users/jessefarnham/orgs', 'repos_url': 'https://api.github.com/users/jessefarnham/repos', 'events_url': 'https://api.github.com/users/jessefarnham/events{/privacy}', 'received_events_url': 'https://api.github.com/users/jessefarnham/received_events', 'type': 'User', 'site_admin': False}, 'labels': [{'id': 2301354, 'node_id': 'MDU6TGFiZWwyMzAxMzU0', 'url': 'https://api.github.com/repos/pandas-dev/pandas/labels/IO%20Data', 'name': 'IO Data', 'color': '06909A', 'default': False, 'description': \"IO issues that don't fit into a more specific label\"}], 'state': 'open', 'locked': False, 'assignee': None, 'assignees': [], 'milestone': {'url': 'https://api.github.com/repos/pandas-dev/pandas/milestones/68', 'html_url': 'https://github.com/pandas-dev/pandas/milestone/68', 'labels_url': 'https://api.github.com/repos/pandas-dev/pandas/milestones/68/labels', 'id': 4894670, 'node_id': 'MDk6TWlsZXN0b25lNDg5NDY3MA==', 'number': 68, 'title': '1.1', 'description': 'after 1.0', 'creator': {'login': 'jreback', 'id': 953992, 'node_id': 'MDQ6VXNlcjk1Mzk5Mg==', 'avatar_url': 'https://avatars2.githubusercontent.com/u/953992?v=4', 'gravatar_id': '', 'url': 'https://api.github.com/users/jreback', 'html_url': 'https://github.com/jreback', 'followers_url': 'https://api.github.com/users/jreback/followers', 'following_url': 'https://api.github.com/users/jreback/following{/other_user}', 'gists_url': 'https://api.github.com/users/jreback/gists{/gist_id}', 'starred_url': 'https://api.github.com/users/jreback/starred{/owner}{/repo}', 'subscriptions_url': 'https://api.github.com/users/jreback/subscriptions', 'organizations_url': 'https://api.github.com/users/jreback/orgs', 'repos_url': 'https://api.github.com/users/jreback/repos', 'events_url': 'https://api.github.com/users/jreback/events{/privacy}', 'received_events_url': 'https://api.github.com/users/jreback/received_events', 'type': 'User', 'site_admin': False}, 'open_issues': 97, 'closed_issues': 1148, 'state': 'open', 'created_at': '2019-12-02T12:52:48Z', 'updated_at': '2020-04-09T02:50:10Z', 'due_on': '2020-08-01T07:00:00Z', 'closed_at': None}, 'comments': 2, 'created_at': '2020-04-08T15:28:40Z', 'updated_at': '2020-04-08T22:40:10Z', 'closed_at': None, 'author_association': 'CONTRIBUTOR', 'pull_request': {'url': 'https://api.github.com/repos/pandas-dev/pandas/pulls/33398', 'html_url': 'https://github.com/pandas-dev/pandas/pull/33398', 'diff_url': 'https://github.com/pandas-dev/pandas/pull/33398.diff', 'patch_url': 'https://github.com/pandas-dev/pandas/pull/33398.patch'}, 'body': 'This commit closes #33196 but takes a more generic approach than the suggested\\r\\nsolution. Instead of providing a \\'fast\\' kwarg or global compression level\\r\\nsetting, this commit extends the ability to pass compression settings as a\\r\\ndict to the gzip and bz2 compression methods. In this way, if the user\\r\\nwants faster compression, they can pass\\r\\ncompression={\\'method\\': \\'gzip\\', \\'compresslevel\\'=1} rather than\\r\\njust compression=\\'gzip\\'.\\r\\n\\r\\nNote: For the API to be consistent when passing  paths vs. filelikes, GZipFile and gzip2.open() must accept the same kwargs.\\r\\n\\r\\n- [x] closes #33196\\r\\n- [x] tests added / passed\\r\\n- [x] passes `black pandas`\\r\\n- [x] passes `git diff upstream/master -u -- \"*.py\" | flake8 --diff`\\r\\n- [x] whatsnew entry\\r\\n'}, {'url': 'https://api.github.com/repos/pandas-dev/pandas/issues/33397', 'repository_url': 'https://api.github.com/repos/pandas-dev/pandas', 'labels_url': 'https://api.github.com/repos/pandas-dev/pandas/issues/33397/labels{/name}', 'comments_url': 'https://api.github.com/repos/pandas-dev/pandas/issues/33397/comments', 'events_url': 'https://api.github.com/repos/pandas-dev/pandas/issues/33397/events', 'html_url': 'https://github.com/pandas-dev/pandas/issues/33397', 'id': 596640646, 'node_id': 'MDU6SXNzdWU1OTY2NDA2NDY=', 'number': 33397, 'title': 'CI: pandas warnings in tests about keyword only arguments', 'user': {'login': 'TomAugspurger', 'id': 1312546, 'node_id': 'MDQ6VXNlcjEzMTI1NDY=', 'avatar_url': 'https://avatars3.githubusercontent.com/u/1312546?v=4', 'gravatar_id': '', 'url': 'https://api.github.com/users/TomAugspurger', 'html_url': 'https://github.com/TomAugspurger', 'followers_url': 'https://api.github.com/users/TomAugspurger/followers', 'following_url': 'https://api.github.com/users/TomAugspurger/following{/other_user}', 'gists_url': 'https://api.github.com/users/TomAugspurger/gists{/gist_id}', 'starred_url': 'https://api.github.com/users/TomAugspurger/starred{/owner}{/repo}', 'subscriptions_url': 'https://api.github.com/users/TomAugspurger/subscriptions', 'organizations_url': 'https://api.github.com/users/TomAugspurger/orgs', 'repos_url': 'https://api.github.com/users/TomAugspurger/repos', 'events_url': 'https://api.github.com/users/TomAugspurger/events{/privacy}', 'received_events_url': 'https://api.github.com/users/TomAugspurger/received_events', 'type': 'User', 'site_admin': False}, 'labels': [{'id': 76811, 'node_id': 'MDU6TGFiZWw3NjgxMQ==', 'url': 'https://api.github.com/repos/pandas-dev/pandas/labels/Bug', 'name': 'Bug', 'color': 'e10c02', 'default': False, 'description': None}, {'id': 127685, 'node_id': 'MDU6TGFiZWwxMjc2ODU=', 'url': 'https://api.github.com/repos/pandas-dev/pandas/labels/Testing', 'name': 'Testing', 'color': 'C4A000', 'default': False, 'description': None}, {'id': 1628184320, 'node_id': 'MDU6TGFiZWwxNjI4MTg0MzIw', 'url': 'https://api.github.com/repos/pandas-dev/pandas/labels/Warnings', 'name': 'Warnings', 'color': 'f2f074', 'default': False, 'description': 'Warnings that appear or should be added to pandas'}, {'id': 717120670, 'node_id': 'MDU6TGFiZWw3MTcxMjA2NzA=', 'url': 'https://api.github.com/repos/pandas-dev/pandas/labels/good%20first%20issue', 'name': 'good first issue', 'color': '0e8a16', 'default': True, 'description': None}], 'state': 'open', 'locked': False, 'assignee': None, 'assignees': [], 'milestone': None, 'comments': 0, 'created_at': '2020-04-08T14:53:38Z', 'updated_at': '2020-04-08T14:53:56Z', 'closed_at': None, 'author_association': 'CONTRIBUTOR', 'body': 'e.g. https://dev.azure.com/pandas-dev/pandas/_build/results?buildId=32821&view=logs&j=76104ccd-8dcc-5006-a17c-28bcdd709542&t=cd420693-444f-5c55-14e0-1be238e189a1\\r\\n\\r\\n```\\r\\npandas\\\\tests\\\\io\\\\test_html.py:886\\r\\n  D:\\\\a\\\\1\\\\s\\\\pandas\\\\tests\\\\io\\\\test_html.py:886: FutureWarning: Starting with Pandas version 2.0 all arguments of read_html except for the argument \\'io\\' will be keyword-only\\r\\n    result = self.read_html(data, \"Arizona\", index_col=0)[0]\\r\\n```\\r\\n\\r\\nWe\\'ll need to track down places where we\\'re passing positional arguments like https://github.com/pandas-dev/pandas/blob/def6f6d67c18d6b76ef79defd9e3bd86385ef9de/pandas/tests/io/test_html.py#L886 and update them to use keyword arguments. That may be the only one, not sure.'}, {'url': 'https://api.github.com/repos/pandas-dev/pandas/issues/33396', 'repository_url': 'https://api.github.com/repos/pandas-dev/pandas', 'labels_url': 'https://api.github.com/repos/pandas-dev/pandas/issues/33396/labels{/name}', 'comments_url': 'https://api.github.com/repos/pandas-dev/pandas/issues/33396/comments', 'events_url': 'https://api.github.com/repos/pandas-dev/pandas/issues/33396/events', 'html_url': 'https://github.com/pandas-dev/pandas/issues/33396', 'id': 596626896, 'node_id': 'MDU6SXNzdWU1OTY2MjY4OTY=', 'number': 33396, 'title': 'DEPR: Remove aliased Resampler methods', 'user': {'login': 'dsaxton', 'id': 2658661, 'node_id': 'MDQ6VXNlcjI2NTg2NjE=', 'avatar_url': 'https://avatars0.githubusercontent.com/u/2658661?v=4', 'gravatar_id': '', 'url': 'https://api.github.com/users/dsaxton', 'html_url': 'https://github.com/dsaxton', 'followers_url': 'https://api.github.com/users/dsaxton/followers', 'following_url': 'https://api.github.com/users/dsaxton/following{/other_user}', 'gists_url': 'https://api.github.com/users/dsaxton/gists{/gist_id}', 'starred_url': 'https://api.github.com/users/dsaxton/starred{/owner}{/repo}', 'subscriptions_url': 'https://api.github.com/users/dsaxton/subscriptions', 'organizations_url': 'https://api.github.com/users/dsaxton/orgs', 'repos_url': 'https://api.github.com/users/dsaxton/repos', 'events_url': 'https://api.github.com/users/dsaxton/events{/privacy}', 'received_events_url': 'https://api.github.com/users/dsaxton/received_events', 'type': 'User', 'site_admin': False}, 'labels': [{'id': 87485152, 'node_id': 'MDU6TGFiZWw4NzQ4NTE1Mg==', 'url': 'https://api.github.com/repos/pandas-dev/pandas/labels/Deprecate', 'name': 'Deprecate', 'color': '5319e7', 'default': False, 'description': None}, {'id': 74975453, 'node_id': 'MDU6TGFiZWw3NDk3NTQ1Mw==', 'url': 'https://api.github.com/repos/pandas-dev/pandas/labels/Resample', 'name': 'Resample', 'color': '207de5', 'default': False, 'description': None}], 'state': 'open', 'locked': False, 'assignee': None, 'assignees': [], 'milestone': None, 'comments': 0, 'created_at': '2020-04-08T14:33:56Z', 'updated_at': '2020-04-08T14:34:29Z', 'closed_at': None, 'author_association': 'CONTRIBUTOR', 'body': 'It seems the forward and backward filling methods are duplicated for Resampler objects (e.g., bfill is an alias for backfill, and ffill is an alias for pad). Does it make sense to deprecate backfill and pad in favor of the bfill and ffill, as these names are more consistent with other methods in pandas (e.g., DataFrame.ffill)?'}, {'url': 'https://api.github.com/repos/pandas-dev/pandas/issues/33395', 'repository_url': 'https://api.github.com/repos/pandas-dev/pandas', 'labels_url': 'https://api.github.com/repos/pandas-dev/pandas/issues/33395/labels{/name}', 'comments_url': 'https://api.github.com/repos/pandas-dev/pandas/issues/33395/comments', 'events_url': 'https://api.github.com/repos/pandas-dev/pandas/issues/33395/events', 'html_url': 'https://github.com/pandas-dev/pandas/issues/33395', 'id': 596602731, 'node_id': 'MDU6SXNzdWU1OTY2MDI3MzE=', 'number': 33395, 'title': 'BUG: Test failures with CPython master', 'user': {'login': 'TomAugspurger', 'id': 1312546, 'node_id': 'MDQ6VXNlcjEzMTI1NDY=', 'avatar_url': 'https://avatars3.githubusercontent.com/u/1312546?v=4', 'gravatar_id': '', 'url': 'https://api.github.com/users/TomAugspurger', 'html_url': 'https://github.com/TomAugspurger', 'followers_url': 'https://api.github.com/users/TomAugspurger/followers', 'following_url': 'https://api.github.com/users/TomAugspurger/following{/other_user}', 'gists_url': 'https://api.github.com/users/TomAugspurger/gists{/gist_id}', 'starred_url': 'https://api.github.com/users/TomAugspurger/starred{/owner}{/repo}', 'subscriptions_url': 'https://api.github.com/users/TomAugspurger/subscriptions', 'organizations_url': 'https://api.github.com/users/TomAugspurger/orgs', 'repos_url': 'https://api.github.com/users/TomAugspurger/repos', 'events_url': 'https://api.github.com/users/TomAugspurger/events{/privacy}', 'received_events_url': 'https://api.github.com/users/TomAugspurger/received_events', 'type': 'User', 'site_admin': False}, 'labels': [{'id': 1971420228, 'node_id': 'MDU6TGFiZWwxOTcxNDIwMjI4', 'url': 'https://api.github.com/repos/pandas-dev/pandas/labels/Python%203.9', 'name': 'Python 3.9', 'color': '72e24d', 'default': False, 'description': ''}], 'state': 'open', 'locked': False, 'assignee': None, 'assignees': [], 'milestone': None, 'comments': 0, 'created_at': '2020-04-08T14:00:27Z', 'updated_at': '2020-04-08T14:00:27Z', 'closed_at': None, 'author_association': 'CONTRIBUTOR', 'body': 'We have some failures on CPython master (commit c6e5c1123bac6cbb4c85265155af5349dcea522e to be precise):\\r\\n\\r\\n```\\r\\n===================================================================================== FAILURES =====================================================================================\\r\\npandas/_libs/hashtable_class_helper.pxi:1614: KeyError: \\'one\\'\\r\\npandas/_libs/hashtable_class_helper.pxi:1614: KeyError: \\'one\\'\\r\\npandas/_libs/hashtable_class_helper.pxi:1614: KeyError: \\'one\\'\\r\\npandas/_libs/hashtable_class_helper.pxi:1614: KeyError: \\'one\\'\\r\\n/Users/taugspurger/sandbox/cpython-dev/pandas/pandas/util/testing.py:394: AssertionError: Series Expected type <class \\'pandas.core.series.Series\\'>, found <class \\'pandas.core.arrays.datetimes.DatetimeArray\\'> instead\\r\\npandas/_libs/hashtable_class_helper.pxi:1614: KeyError: \\'one\\'\\r\\npandas/_libs/hashtable_class_helper.pxi:1614: KeyError: \\'one\\'\\r\\npandas/_libs/hashtable_class_helper.pxi:1614: KeyError: \\'one\\'\\r\\npandas/_libs/hashtable_class_helper.pxi:1614: KeyError: \\'one\\'\\r\\npandas/_libs/hashtable_class_helper.pxi:1614: KeyError: \\'one\\'\\r\\npandas/_libs/hashtable_class_helper.pxi:1614: KeyError: \\'one\\'\\r\\npandas/_libs/hashtable_class_helper.pxi:1614: KeyError: \\'one\\'\\r\\npandas/_libs/hashtable_class_helper.pxi:1614: KeyError: \\'one\\'\\r\\npandas/_libs/groupby_helper.pxi:1014: TypeError: Expected dict, got int\\r\\npandas/_libs/groupby_helper.pxi:951: TypeError: Expected dict, got int\\r\\npandas/_libs/groupby_helper.pxi:1014: TypeError: Expected dict, got int\\r\\npandas/_libs/groupby_helper.pxi:951: TypeError: Expected dict, got int\\r\\npandas/_libs/groupby_helper.pxi:1014: TypeError: Expected dict, got int\\r\\npandas/_libs/groupby_helper.pxi:951: TypeError: Expected dict, got int\\r\\npandas/_libs/groupby_helper.pxi:1014: TypeError: Expected dict, got int\\r\\npandas/_libs/groupby_helper.pxi:951: TypeError: Expected dict, got int\\r\\npandas/_libs/groupby_helper.pxi:1014: TypeError: Expected dict, got int\\r\\npandas/_libs/groupby_helper.pxi:1014: TypeError: Expected dict, got int\\r\\npandas/_libs/join.pyx:681: TypeError: Expected dict, got int\\r\\npandas/_libs/join.pyx:681: TypeError: Expected dict, got int\\r\\npandas/_libs/join.pyx:681: TypeError: Expected dict, got int\\r\\npandas/_libs/join.pyx:681: TypeError: Expected dict, got int\\r\\npandas/_libs/join.pyx:681: TypeError: Expected dict, got int\\r\\npandas/_libs/join.pyx:681: TypeError: Expected dict, got int\\r\\npandas/_libs/join.pyx:681: TypeError: Expected dict, got int\\r\\npandas/_libs/join.pyx:681: TypeError: Expected dict, got int\\r\\npandas/_libs/join.pyx:681: TypeError: Expected dict, got int\\r\\npandas/_libs/join.pyx:681: TypeError: Expected dict, got int\\r\\npandas/_libs/join.pyx:681: TypeError: Expected dict, got int\\r\\npandas/_libs/join.pyx:681: TypeError: Expected dict, got int\\r\\npandas/_libs/join.pyx:681: TypeError: Expected dict, got int\\r\\npandas/_libs/join.pyx:681: TypeError: Expected dict, got int\\r\\npandas/_libs/join.pyx:681: TypeError: Expected dict, got int\\r\\npandas/_libs/join.pyx:681: TypeError: Expected dict, got int\\r\\npandas/_libs/join.pyx:681: TypeError: Expected dict, got int\\r\\npandas/_libs/join.pyx:681: TypeError: Expected dict, got int\\r\\npandas/_libs/join.pyx:681: TypeError: Expected dict, got int\\r\\npandas/_libs/join.pyx:750: TypeError: Expected dict, got int\\r\\npandas/_libs/join.pyx:819: TypeError: Expected dict, got int\\r\\npandas/_libs/join.pyx:681: TypeError: Expected dict, got int\\r\\npandas/_libs/join.pyx:681: TypeError: Expected dict, got int\\r\\npandas/_libs/join.pyx:681: TypeError: Expected dict, got int\\r\\npandas/_libs/join.pyx:681: TypeError: Expected dict, got int\\r\\npandas/_libs/join.pyx:681: TypeError: Expected dict, got int\\r\\npandas/_libs/join.pyx:681: TypeError: Expected dict, got int\\r\\npandas/_libs/join.pyx:681: TypeError: Expected dict, got int\\r\\npandas/_libs/join.pyx:681: TypeError: Expected dict, got int\\r\\npandas/_libs/join.pyx:681: TypeError: Expected dict, got int\\r\\npandas/_libs/join.pyx:681: TypeError: Expected dict, got int\\r\\npandas/_libs/join.pyx:681: TypeError: Expected dict, got int\\r\\npandas/_libs/join.pyx:681: TypeError: Expected dict, got int\\r\\npandas/_libs/join.pyx:681: TypeError: Expected dict, got int\\r\\npandas/_libs/join.pyx:681: TypeError: Expected dict, got int\\r\\npandas/_libs/join.pyx:681: TypeError: Expected dict, got int\\r\\npandas/_libs/join.pyx:681: TypeError: Expected dict, got int\\r\\n================================================================================= warnings summary =================================================================================\\r\\npandas/tests/frame/test_alter_axes.py:241\\r\\npandas/tests/frame/test_alter_axes.py:241\\r\\n  /Users/taugspurger/sandbox/cpython-dev/pandas/pandas/tests/frame/test_alter_axes.py:241: SyntaxWarning: \"is\" with a literal. Did you mean \"==\"?\\r\\n    False if (keys[0] is \"A\" and keys[1] is \"A\") else drop  # noqa: F632\\r\\n\\r\\npandas/tests/frame/test_missing.py::TestDataFrameMissingData::test_fillna_categorical_nan\\r\\n  /Users/taugspurger/sandbox/cpython-dev/numpy/numpy/lib/nanfunctions.py:1114: RuntimeWarning: All-NaN slice encountered\\r\\n    r, k = function_base._ureduce(a, func=_nanmedian, axis=axis, out=out,\\r\\n\\r\\npandas/tests/groupby/test_filters.py::test_filter_and_transform_with_non_unique_float_index\\r\\n  /Users/taugspurger/sandbox/cpython-dev/pandas/pandas/core/indexes/base.py:2821: FutureWarning: elementwise comparison failed; returning scalar instead, but in the future will perform elementwise comparison\\r\\n    return self._engine.get_loc(key)\\r\\n\\r\\npandas/tests/io/json/test_json_table_schema.py: 12 tests with warnings\\r\\npandas/tests/io/json/test_pandas.py: 3 tests with warnings\\r\\n  /Users/taugspurger/sandbox/cpython-dev/pandas/pandas/io/json/_json.py:148: DeprecationWarning: an integer is required (got type float).  Implicit conversion to integers using __int__ is deprecated, and may be removed in a future version of Python.\\r\\n    return dumps(\\r\\n\\r\\npandas/tests/io/json/test_pandas.py::TestPandasContainer::test_tz_is_utc\\r\\n  /Users/taugspurger/sandbox/cpython-dev/pandas/pandas/tests/io/json/test_pandas.py:1324: DeprecationWarning: an integer is required (got type float).  Implicit conversion to integers using __int__ is deprecated, and may be removed in a future version of Python.\\r\\n    assert dumps(ts, iso_dates=True) == exp\\r\\n\\r\\npandas/tests/io/json/test_pandas.py::TestPandasContainer::test_tz_is_utc\\r\\n  /Users/taugspurger/sandbox/cpython-dev/pandas/pandas/tests/io/json/test_pandas.py:1326: DeprecationWarning: an integer is required (got type float).  Implicit conversion to integers using __int__ is deprecated, and may be removed in a future version of Python.\\r\\n    assert dumps(dt, iso_dates=True) == exp\\r\\n\\r\\npandas/tests/io/json/test_pandas.py::TestPandasContainer::test_tz_is_utc\\r\\n  /Users/taugspurger/sandbox/cpython-dev/pandas/pandas/tests/io/json/test_pandas.py:1329: DeprecationWarning: an integer is required (got type float).  Implicit conversion to integers using __int__ is deprecated, and may be removed in a future version of Python.\\r\\n    assert dumps(ts, iso_dates=True) == exp\\r\\n\\r\\npandas/tests/io/json/test_pandas.py::TestPandasContainer::test_tz_is_utc\\r\\n  /Users/taugspurger/sandbox/cpython-dev/pandas/pandas/tests/io/json/test_pandas.py:1331: DeprecationWarning: an integer is required (got type float).  Implicit conversion to integers using __int__ is deprecated, and may be removed in a future version of Python.\\r\\n    assert dumps(dt, iso_dates=True) == exp\\r\\n\\r\\npandas/tests/io/json/test_pandas.py::TestPandasContainer::test_tz_is_utc\\r\\n  /Users/taugspurger/sandbox/cpython-dev/pandas/pandas/tests/io/json/test_pandas.py:1334: DeprecationWarning: an integer is required (got type float).  Implicit conversion to integers using __int__ is deprecated, and may be removed in a future version of Python.\\r\\n    assert dumps(ts, iso_dates=True) == exp\\r\\n\\r\\npandas/tests/io/json/test_pandas.py::TestPandasContainer::test_tz_is_utc\\r\\n  /Users/taugspurger/sandbox/cpython-dev/pandas/pandas/tests/io/json/test_pandas.py:1336: DeprecationWarning: an integer is required (got type float).  Implicit conversion to integers using __int__ is deprecated, and may be removed in a future version of Python.\\r\\n    assert dumps(dt, iso_dates=True) == exp\\r\\n\\r\\npandas/tests/io/json/test_pandas.py::TestPandasContainer::test_tz_range_is_utc\\r\\npandas/tests/io/json/test_pandas.py::TestPandasContainer::test_tz_range_is_utc\\r\\n  /Users/taugspurger/sandbox/cpython-dev/pandas/pandas/tests/io/json/test_pandas.py:1353: DeprecationWarning: an integer is required (got type float).  Implicit conversion to integers using __int__ is deprecated, and may be removed in a future version of Python.\\r\\n    result = dumps(df, iso_dates=True)\\r\\n\\r\\npandas/tests/io/json/test_pandas.py::TestPandasContainer::test_tz_range_is_utc\\r\\npandas/tests/io/json/test_pandas.py::TestPandasContainer::test_tz_range_is_utc\\r\\n  /Users/taugspurger/sandbox/cpython-dev/pandas/pandas/tests/io/json/test_pandas.py:1361: DeprecationWarning: an integer is required (got type float).  Implicit conversion to integers using __int__ is deprecated, and may be removed in a future version of Python.\\r\\n    assert dumps(df, iso_dates=True) == dfexp\\r\\n\\r\\npandas/tests/io/json/test_pandas.py::TestPandasContainer::test_tz_range_is_utc\\r\\npandas/tests/io/json/test_pandas.py::TestPandasContainer::test_tz_range_is_utc\\r\\n  /Users/taugspurger/sandbox/cpython-dev/pandas/pandas/tests/io/json/test_pandas.py:1368: DeprecationWarning: an integer is required (got type float).  Implicit conversion to integers using __int__ is deprecated, and may be removed in a future version of Python.\\r\\n    assert dumps(df, iso_dates=True) == dfexp\\r\\n\\r\\npandas/tests/sparse/test_pivot.py::TestPivotTable::test_pivot_table\\r\\n  /Users/taugspurger/sandbox/cpython-dev/pandas/pandas/core/arrays/sparse.py:1645: RuntimeWarning: invalid value encountered in double_scalars\\r\\n    return sp_sum / ct\\r\\n\\r\\n-- Docs: https://docs.pytest.org/en/latest/warnings.html\\r\\n============================================================================= short test summary info ==============================================================================\\r\\nFAILED pandas/tests/test_multilevel.py::TestMultiLevel::test_frame_group_ops[True-True-1-1-min] - KeyError: \\'one\\'\\r\\nFAILED pandas/tests/test_multilevel.py::TestMultiLevel::test_frame_group_ops[True-True-1-1-max] - KeyError: \\'one\\'\\r\\nFAILED pandas/tests/test_multilevel.py::TestMultiLevel::test_frame_group_ops[False-True-1-1-min] - KeyError: \\'one\\'\\r\\nFAILED pandas/tests/test_multilevel.py::TestMultiLevel::test_frame_group_ops[False-True-1-1-max] - KeyError: \\'one\\'\\r\\nFAILED pandas/tests/groupby/test_timegrouper.py::TestGroupBy::test_groupby_with_timezone_selection - AssertionError: Series Expected type <class \\'pandas.core.series.Series\\'>, fo...\\r\\nFAILED pandas/tests/groupby/test_whitelist.py::test_regression_whitelist_methods[True-True-1-1-min] - KeyError: \\'one\\'\\r\\nFAILED pandas/tests/groupby/test_whitelist.py::test_regression_whitelist_methods[True-True-1-1-max] - KeyError: \\'one\\'\\r\\nFAILED pandas/tests/groupby/test_whitelist.py::test_regression_whitelist_methods[True-False-1-1-min] - KeyError: \\'one\\'\\r\\nFAILED pandas/tests/groupby/test_whitelist.py::test_regression_whitelist_methods[True-False-1-1-max] - KeyError: \\'one\\'\\r\\nFAILED pandas/tests/groupby/test_whitelist.py::test_regression_whitelist_methods[False-True-1-1-min] - KeyError: \\'one\\'\\r\\nFAILED pandas/tests/groupby/test_whitelist.py::test_regression_whitelist_methods[False-True-1-1-max] - KeyError: \\'one\\'\\r\\nFAILED pandas/tests/groupby/test_whitelist.py::test_regression_whitelist_methods[False-False-1-1-min] - KeyError: \\'one\\'\\r\\nFAILED pandas/tests/groupby/test_whitelist.py::test_regression_whitelist_methods[False-False-1-1-max] - KeyError: \\'one\\'\\r\\nFAILED pandas/tests/groupby/aggregate/test_cython.py::test__cython_agg_general[min-amin] - TypeError: Expected dict, got int\\r\\nFAILED pandas/tests/groupby/aggregate/test_cython.py::test__cython_agg_general[max-amax] - TypeError: Expected dict, got int\\r\\nFAILED pandas/tests/groupby/aggregate/test_cython.py::test_cython_agg_empty_buckets[True-min-amin] - TypeError: Expected dict, got int\\r\\nFAILED pandas/tests/groupby/aggregate/test_cython.py::test_cython_agg_empty_buckets[True-max-amax] - TypeError: Expected dict, got int\\r\\nFAILED pandas/tests/groupby/aggregate/test_cython.py::test_cython_agg_empty_buckets[False-min-amin] - TypeError: Expected dict, got int\\r\\nFAILED pandas/tests/groupby/aggregate/test_cython.py::test_cython_agg_empty_buckets[False-max-amax] - TypeError: Expected dict, got int\\r\\nFAILED pandas/tests/groupby/aggregate/test_cython.py::test_cython_agg_empty_buckets[None-min-amin] - TypeError: Expected dict, got int\\r\\nFAILED pandas/tests/groupby/aggregate/test_cython.py::test_cython_agg_empty_buckets[None-max-amax] - TypeError: Expected dict, got int\\r\\nFAILED pandas/tests/resample/test_datetime_index.py::test_custom_grouper - TypeError: Expected dict, got int\\r\\nFAILED pandas/tests/resample/test_datetime_index.py::test_resample_frame_basic - TypeError: Expected dict, got int\\r\\nFAILED pandas/tests/reshape/merge/test_merge_asof.py::TestAsOfMerge::test_examples2 - TypeError: Expected dict, got int\\r\\nFAILED pandas/tests/reshape/merge/test_merge_asof.py::TestAsOfMerge::test_basic - TypeError: Expected dict, got int\\r\\nFAILED pandas/tests/reshape/merge/test_merge_asof.py::TestAsOfMerge::test_basic_categorical - TypeError: Expected dict, got int\\r\\nFAILED pandas/tests/reshape/merge/test_merge_asof.py::TestAsOfMerge::test_basic_left_index - TypeError: Expected dict, got int\\r\\nFAILED pandas/tests/reshape/merge/test_merge_asof.py::TestAsOfMerge::test_basic_right_index - TypeError: Expected dict, got int\\r\\nFAILED pandas/tests/reshape/merge/test_merge_asof.py::TestAsOfMerge::test_basic_left_index_right_index - TypeError: Expected dict, got int\\r\\nFAILED pandas/tests/reshape/merge/test_merge_asof.py::TestAsOfMerge::test_basic_left_by_right_by - TypeError: Expected dict, got int\\r\\nFAILED pandas/tests/reshape/merge/test_merge_asof.py::TestAsOfMerge::test_missing_right_by - TypeError: Expected dict, got int\\r\\nFAILED pandas/tests/reshape/merge/test_merge_asof.py::TestAsOfMerge::test_multiby - TypeError: Expected dict, got int\\r\\nFAILED pandas/tests/reshape/merge/test_merge_asof.py::TestAsOfMerge::test_multiby_heterogeneous_types - TypeError: Expected dict, got int\\r\\nFAILED pandas/tests/reshape/merge/test_merge_asof.py::TestAsOfMerge::test_multiby_indexed - TypeError: Expected dict, got int\\r\\nFAILED pandas/tests/reshape/merge/test_merge_asof.py::TestAsOfMerge::test_basic2 - TypeError: Expected dict, got int\\r\\nFAILED pandas/tests/reshape/merge/test_merge_asof.py::TestAsOfMerge::test_with_duplicates - TypeError: Expected dict, got int\\r\\nFAILED pandas/tests/reshape/merge/test_merge_asof.py::TestAsOfMerge::test_valid_tolerance - TypeError: Expected dict, got int\\r\\nFAILED pandas/tests/reshape/merge/test_merge_asof.py::TestAsOfMerge::test_non_sorted - TypeError: Expected dict, got int\\r\\nFAILED pandas/tests/reshape/merge/test_merge_asof.py::TestAsOfMerge::test_tolerance[pd.Timedelta] - TypeError: Expected dict, got int\\r\\nFAILED pandas/tests/reshape/merge/test_merge_asof.py::TestAsOfMerge::test_index_tolerance - TypeError: Expected dict, got int\\r\\nFAILED pandas/tests/reshape/merge/test_merge_asof.py::TestAsOfMerge::test_allow_exact_matches - TypeError: Expected dict, got int\\r\\nFAILED pandas/tests/reshape/merge/test_merge_asof.py::TestAsOfMerge::test_allow_exact_matches_and_tolerance - TypeError: Expected dict, got int\\r\\nFAILED pandas/tests/reshape/merge/test_merge_asof.py::TestAsOfMerge::test_forward_by - TypeError: Expected dict, got int\\r\\nFAILED pandas/tests/reshape/merge/test_merge_asof.py::TestAsOfMerge::test_nearest_by - TypeError: Expected dict, got int\\r\\nFAILED pandas/tests/reshape/merge/test_merge_asof.py::TestAsOfMerge::test_by_int - TypeError: Expected dict, got int\\r\\nFAILED pandas/tests/reshape/merge/test_merge_asof.py::TestAsOfMerge::test_on_specialized_type_by_int[float] - TypeError: Expected dict, got int\\r\\nFAILED pandas/tests/reshape/merge/test_merge_asof.py::TestAsOfMerge::test_on_specialized_type_by_int[float32] - TypeError: Expected dict, got int\\r\\nFAILED pandas/tests/reshape/merge/test_merge_asof.py::TestAsOfMerge::test_on_specialized_type_by_int[float64] - TypeError: Expected dict, got int\\r\\nFAILED pandas/tests/reshape/merge/test_merge_asof.py::TestAsOfMerge::test_on_specialized_type_by_int[uint8] - TypeError: Expected dict, got int\\r\\nFAILED pandas/tests/reshape/merge/test_merge_asof.py::TestAsOfMerge::test_on_specialized_type_by_int[uint16] - TypeError: Expected dict, got int\\r\\nFAILED pandas/tests/reshape/merge/test_merge_asof.py::TestAsOfMerge::test_on_specialized_type_by_int[uint32] - TypeError: Expected dict, got int\\r\\nFAILED pandas/tests/reshape/merge/test_merge_asof.py::TestAsOfMerge::test_on_specialized_type_by_int[uint64] - TypeError: Expected dict, got int\\r\\nFAILED pandas/tests/reshape/merge/test_merge_asof.py::TestAsOfMerge::test_on_specialized_type_by_int[int] - TypeError: Expected dict, got int\\r\\nFAILED pandas/tests/reshape/merge/test_merge_asof.py::TestAsOfMerge::test_on_specialized_type_by_int[int8] - TypeError: Expected dict, got int\\r\\nFAILED pandas/tests/reshape/merge/test_merge_asof.py::TestAsOfMerge::test_on_specialized_type_by_int[int16] - TypeError: Expected dict, got int\\r\\nFAILED pandas/tests/reshape/merge/test_merge_asof.py::TestAsOfMerge::test_on_specialized_type_by_int[int32] - TypeError: Expected dict, got int\\r\\nFAILED pandas/tests/reshape/merge/test_merge_asof.py::TestAsOfMerge::test_on_specialized_type_by_int[int64] - TypeError: Expected dict, got int\\r\\nFAILED pandas/tests/reshape/merge/test_merge_asof.py::TestAsOfMerge::test_on_float_by_int - TypeError: Expected dict, got int\\r\\nFAILED pandas/tests/reshape/merge/test_merge_asof.py::TestAsOfMerge::test_merge_by_col_tz_aware - TypeError: Expected dict, got int\\r\\nFAILED pandas/tests/reshape/merge/test_merge_asof.py::TestAsOfMerge::test_by_mixed_tz_aware - TypeError: Expected dict, got int\\r\\n======================================== 60 failed, 54929 passed, 3971 skipped, 832 xfailed, 10 xpassed, 32 warnings in 1229.76s (0:20:29) =========================================\\r\\n```\\r\\n\\r\\nShort tracebacks in the details\\r\\n\\r\\n\\r\\n<details>\\r\\n\\r\\n```\\r\\n===================================================================================== FAILURES =====================================================================================\\r\\n______________________________________________________________ TestMultiLevel.test_frame_group_ops[True-True-1-1-min] ______________________________________________________________\\r\\npandas/core/indexes/base.py:2821: in get_loc\\r\\n    return self._engine.get_loc(key)\\r\\npandas/_libs/index.pyx:103: in pandas._libs.index.IndexEngine.get_loc\\r\\n    cpdef get_loc(self, object val):\\r\\npandas/_libs/index.pyx:127: in pandas._libs.index.IndexEngine.get_loc\\r\\n    return self.mapping.get_item(val)\\r\\npandas/_libs/hashtable_class_helper.pxi:1607: in pandas._libs.hashtable.PyObjectHashTable.get_item\\r\\n    cpdef get_item(self, object val):\\r\\npandas/_libs/hashtable_class_helper.pxi:1614: in pandas._libs.hashtable.PyObjectHashTable.get_item\\r\\n    raise KeyError(val)\\r\\nE   KeyError: \\'one\\'\\r\\n\\r\\nDuring handling of the above exception, another exception occurred:\\r\\npandas/tests/test_multilevel.py:1031: in test_frame_group_ops\\r\\n    rightside = getattr(frame, op)(level=level, axis=axis, skipna=skipna)\\r\\npandas/core/generic.py:11600: in stat_func\\r\\n    return self._agg_by_level(name, axis=axis, level=level, skipna=skipna)\\r\\npandas/core/generic.py:10415: in _agg_by_level\\r\\n    return getattr(grouped, name)(**kwargs)\\r\\npandas/core/groupby/groupby.py:1383: in f\\r\\n    result[col] = self._try_cast(result[col], self.obj[col])\\r\\npandas/core/frame.py:2846: in __getitem__\\r\\n    return self._getitem_multilevel(key)\\r\\npandas/core/frame.py:2896: in _getitem_multilevel\\r\\n    loc = self.columns.get_loc(key)\\r\\npandas/core/indexes/multi.py:2662: in get_loc\\r\\n    loc = self._get_level_indexer(key, level=0)\\r\\npandas/core/indexes/multi.py:2928: in _get_level_indexer\\r\\n    code = level_index.get_loc(key)\\r\\npandas/core/indexes/base.py:2823: in get_loc\\r\\n    return self._engine.get_loc(self._maybe_cast_indexer(key))\\r\\npandas/_libs/index.pyx:103: in pandas._libs.index.IndexEngine.get_loc\\r\\n    cpdef get_loc(self, object val):\\r\\npandas/_libs/index.pyx:127: in pandas._libs.index.IndexEngine.get_loc\\r\\n    return self.mapping.get_item(val)\\r\\npandas/_libs/hashtable_class_helper.pxi:1607: in pandas._libs.hashtable.PyObjectHashTable.get_item\\r\\n    cpdef get_item(self, object val):\\r\\npandas/_libs/hashtable_class_helper.pxi:1614: in pandas._libs.hashtable.PyObjectHashTable.get_item\\r\\n    raise KeyError(val)\\r\\nE   KeyError: \\'one\\'\\r\\n______________________________________________________________ TestMultiLevel.test_frame_group_ops[True-True-1-1-max] ______________________________________________________________\\r\\npandas/core/indexes/base.py:2821: in get_loc\\r\\n    return self._engine.get_loc(key)\\r\\npandas/_libs/index.pyx:103: in pandas._libs.index.IndexEngine.get_loc\\r\\n    cpdef get_loc(self, object val):\\r\\npandas/_libs/index.pyx:127: in pandas._libs.index.IndexEngine.get_loc\\r\\n    return self.mapping.get_item(val)\\r\\npandas/_libs/hashtable_class_helper.pxi:1607: in pandas._libs.hashtable.PyObjectHashTable.get_item\\r\\n    cpdef get_item(self, object val):\\r\\npandas/_libs/hashtable_class_helper.pxi:1614: in pandas._libs.hashtable.PyObjectHashTable.get_item\\r\\n    raise KeyError(val)\\r\\nE   KeyError: \\'one\\'\\r\\n\\r\\nDuring handling of the above exception, another exception occurred:\\r\\npandas/tests/test_multilevel.py:1031: in test_frame_group_ops\\r\\n    rightside = getattr(frame, op)(level=level, axis=axis, skipna=skipna)\\r\\npandas/core/generic.py:11600: in stat_func\\r\\n    return self._agg_by_level(name, axis=axis, level=level, skipna=skipna)\\r\\npandas/core/generic.py:10415: in _agg_by_level\\r\\n    return getattr(grouped, name)(**kwargs)\\r\\npandas/core/groupby/groupby.py:1383: in f\\r\\n    result[col] = self._try_cast(result[col], self.obj[col])\\r\\npandas/core/frame.py:2846: in __getitem__\\r\\n    return self._getitem_multilevel(key)\\r\\npandas/core/frame.py:2896: in _getitem_multilevel\\r\\n    loc = self.columns.get_loc(key)\\r\\npandas/core/indexes/multi.py:2662: in get_loc\\r\\n    loc = self._get_level_indexer(key, level=0)\\r\\npandas/core/indexes/multi.py:2928: in _get_level_indexer\\r\\n    code = level_index.get_loc(key)\\r\\npandas/core/indexes/base.py:2823: in get_loc\\r\\n    return self._engine.get_loc(self._maybe_cast_indexer(key))\\r\\npandas/_libs/index.pyx:103: in pandas._libs.index.IndexEngine.get_loc\\r\\n    cpdef get_loc(self, object val):\\r\\npandas/_libs/index.pyx:127: in pandas._libs.index.IndexEngine.get_loc\\r\\n    return self.mapping.get_item(val)\\r\\npandas/_libs/hashtable_class_helper.pxi:1607: in pandas._libs.hashtable.PyObjectHashTable.get_item\\r\\n    cpdef get_item(self, object val):\\r\\npandas/_libs/hashtable_class_helper.pxi:1614: in pandas._libs.hashtable.PyObjectHashTable.get_item\\r\\n    raise KeyError(val)\\r\\nE   KeyError: \\'one\\'\\r\\n_____________________________________________________________ TestMultiLevel.test_frame_group_ops[False-True-1-1-min] ______________________________________________________________\\r\\npandas/core/indexes/base.py:2821: in get_loc\\r\\n    return self._engine.get_loc(key)\\r\\npandas/_libs/index.pyx:103: in pandas._libs.index.IndexEngine.get_loc\\r\\n    cpdef get_loc(self, object val):\\r\\npandas/_libs/index.pyx:127: in pandas._libs.index.IndexEngine.get_loc\\r\\n    return self.mapping.get_item(val)\\r\\npandas/_libs/hashtable_class_helper.pxi:1607: in pandas._libs.hashtable.PyObjectHashTable.get_item\\r\\n    cpdef get_item(self, object val):\\r\\npandas/_libs/hashtable_class_helper.pxi:1614: in pandas._libs.hashtable.PyObjectHashTable.get_item\\r\\n    raise KeyError(val)\\r\\nE   KeyError: \\'one\\'\\r\\n\\r\\nDuring handling of the above exception, another exception occurred:\\r\\npandas/tests/test_multilevel.py:1031: in test_frame_group_ops\\r\\n    rightside = getattr(frame, op)(level=level, axis=axis, skipna=skipna)\\r\\npandas/core/generic.py:11600: in stat_func\\r\\n    return self._agg_by_level(name, axis=axis, level=level, skipna=skipna)\\r\\npandas/core/generic.py:10415: in _agg_by_level\\r\\n    return getattr(grouped, name)(**kwargs)\\r\\npandas/core/groupby/groupby.py:1383: in f\\r\\n    result[col] = self._try_cast(result[col], self.obj[col])\\r\\npandas/core/frame.py:2846: in __getitem__\\r\\n    return self._getitem_multilevel(key)\\r\\npandas/core/frame.py:2896: in _getitem_multilevel\\r\\n    loc = self.columns.get_loc(key)\\r\\npandas/core/indexes/multi.py:2662: in get_loc\\r\\n    loc = self._get_level_indexer(key, level=0)\\r\\npandas/core/indexes/multi.py:2928: in _get_level_indexer\\r\\n    code = level_index.get_loc(key)\\r\\npandas/core/indexes/base.py:2823: in get_loc\\r\\n    return self._engine.get_loc(self._maybe_cast_indexer(key))\\r\\npandas/_libs/index.pyx:103: in pandas._libs.index.IndexEngine.get_loc\\r\\n    cpdef get_loc(self, object val):\\r\\npandas/_libs/index.pyx:127: in pandas._libs.index.IndexEngine.get_loc\\r\\n    return self.mapping.get_item(val)\\r\\npandas/_libs/hashtable_class_helper.pxi:1607: in pandas._libs.hashtable.PyObjectHashTable.get_item\\r\\n    cpdef get_item(self, object val):\\r\\npandas/_libs/hashtable_class_helper.pxi:1614: in pandas._libs.hashtable.PyObjectHashTable.get_item\\r\\n    raise KeyError(val)\\r\\nE   KeyError: \\'one\\'\\r\\n_____________________________________________________________ TestMultiLevel.test_frame_group_ops[False-True-1-1-max] ______________________________________________________________\\r\\npandas/core/indexes/base.py:2821: in get_loc\\r\\n    return self._engine.get_loc(key)\\r\\npandas/_libs/index.pyx:103: in pandas._libs.index.IndexEngine.get_loc\\r\\n    cpdef get_loc(self, object val):\\r\\npandas/_libs/index.pyx:127: in pandas._libs.index.IndexEngine.get_loc\\r\\n    return self.mapping.get_item(val)\\r\\npandas/_libs/hashtable_class_helper.pxi:1607: in pandas._libs.hashtable.PyObjectHashTable.get_item\\r\\n    cpdef get_item(self, object val):\\r\\npandas/_libs/hashtable_class_helper.pxi:1614: in pandas._libs.hashtable.PyObjectHashTable.get_item\\r\\n    raise KeyError(val)\\r\\nE   KeyError: \\'one\\'\\r\\n\\r\\nDuring handling of the above exception, another exception occurred:\\r\\npandas/tests/test_multilevel.py:1031: in test_frame_group_ops\\r\\n    rightside = getattr(frame, op)(level=level, axis=axis, skipna=skipna)\\r\\npandas/core/generic.py:11600: in stat_func\\r\\n    return self._agg_by_level(name, axis=axis, level=level, skipna=skipna)\\r\\npandas/core/generic.py:10415: in _agg_by_level\\r\\n    return getattr(grouped, name)(**kwargs)\\r\\npandas/core/groupby/groupby.py:1383: in f\\r\\n    result[col] = self._try_cast(result[col], self.obj[col])\\r\\npandas/core/frame.py:2846: in __getitem__\\r\\n    return self._getitem_multilevel(key)\\r\\npandas/core/frame.py:2896: in _getitem_multilevel\\r\\n    loc = self.columns.get_loc(key)\\r\\npandas/core/indexes/multi.py:2662: in get_loc\\r\\n    loc = self._get_level_indexer(key, level=0)\\r\\npandas/core/indexes/multi.py:2928: in _get_level_indexer\\r\\n    code = level_index.get_loc(key)\\r\\npandas/core/indexes/base.py:2823: in get_loc\\r\\n    return self._engine.get_loc(self._maybe_cast_indexer(key))\\r\\npandas/_libs/index.pyx:103: in pandas._libs.index.IndexEngine.get_loc\\r\\n    cpdef get_loc(self, object val):\\r\\npandas/_libs/index.pyx:127: in pandas._libs.index.IndexEngine.get_loc\\r\\n    return self.mapping.get_item(val)\\r\\npandas/_libs/hashtable_class_helper.pxi:1607: in pandas._libs.hashtable.PyObjectHashTable.get_item\\r\\n    cpdef get_item(self, object val):\\r\\npandas/_libs/hashtable_class_helper.pxi:1614: in pandas._libs.hashtable.PyObjectHashTable.get_item\\r\\n    raise KeyError(val)\\r\\nE   KeyError: \\'one\\'\\r\\n_________________________________________________________________ TestGroupBy.test_groupby_with_timezone_selection _________________________________________________________________\\r\\npandas/tests/groupby/test_timegrouper.py:673: in test_groupby_with_timezone_selection\\r\\n    tm.assert_series_equal(df1, df2)\\r\\npandas/util/testing.py:394: in _check_isinstance\\r\\n    raise AssertionError(\\r\\nE   AssertionError: Series Expected type <class \\'pandas.core.series.Series\\'>, found <class \\'pandas.core.arrays.datetimes.DatetimeArray\\'> instead\\r\\n_______________________________________________________________ test_regression_whitelist_methods[True-True-1-1-min] _______________________________________________________________\\r\\npandas/core/indexes/base.py:2821: in get_loc\\r\\n    return self._engine.get_loc(key)\\r\\npandas/_libs/index.pyx:103: in pandas._libs.index.IndexEngine.get_loc\\r\\n    cpdef get_loc(self, object val):\\r\\npandas/_libs/index.pyx:127: in pandas._libs.index.IndexEngine.get_loc\\r\\n    return self.mapping.get_item(val)\\r\\npandas/_libs/hashtable_class_helper.pxi:1607: in pandas._libs.hashtable.PyObjectHashTable.get_item\\r\\n    cpdef get_item(self, object val):\\r\\npandas/_libs/hashtable_class_helper.pxi:1614: in pandas._libs.hashtable.PyObjectHashTable.get_item\\r\\n    raise KeyError(val)\\r\\nE   KeyError: \\'one\\'\\r\\n\\r\\nDuring handling of the above exception, another exception occurred:\\r\\npandas/tests/groupby/test_whitelist.py:209: in test_regression_whitelist_methods\\r\\n    result = getattr(grouped, op)()\\r\\npandas/core/groupby/groupby.py:1383: in f\\r\\n    result[col] = self._try_cast(result[col], self.obj[col])\\r\\npandas/core/frame.py:2846: in __getitem__\\r\\n    return self._getitem_multilevel(key)\\r\\npandas/core/frame.py:2896: in _getitem_multilevel\\r\\n    loc = self.columns.get_loc(key)\\r\\npandas/core/indexes/multi.py:2662: in get_loc\\r\\n    loc = self._get_level_indexer(key, level=0)\\r\\npandas/core/indexes/multi.py:2928: in _get_level_indexer\\r\\n    code = level_index.get_loc(key)\\r\\npandas/core/indexes/base.py:2823: in get_loc\\r\\n    return self._engine.get_loc(self._maybe_cast_indexer(key))\\r\\npandas/_libs/index.pyx:103: in pandas._libs.index.IndexEngine.get_loc\\r\\n    cpdef get_loc(self, object val):\\r\\npandas/_libs/index.pyx:127: in pandas._libs.index.IndexEngine.get_loc\\r\\n    return self.mapping.get_item(val)\\r\\npandas/_libs/hashtable_class_helper.pxi:1607: in pandas._libs.hashtable.PyObjectHashTable.get_item\\r\\n    cpdef get_item(self, object val):\\r\\npandas/_libs/hashtable_class_helper.pxi:1614: in pandas._libs.hashtable.PyObjectHashTable.get_item\\r\\n    raise KeyError(val)\\r\\nE   KeyError: \\'one\\'\\r\\n_______________________________________________________________ test_regression_whitelist_methods[True-True-1-1-max] _______________________________________________________________\\r\\npandas/core/indexes/base.py:2821: in get_loc\\r\\n    return self._engine.get_loc(key)\\r\\npandas/_libs/index.pyx:103: in pandas._libs.index.IndexEngine.get_loc\\r\\n    cpdef get_loc(self, object val):\\r\\npandas/_libs/index.pyx:127: in pandas._libs.index.IndexEngine.get_loc\\r\\n    return self.mapping.get_item(val)\\r\\npandas/_libs/hashtable_class_helper.pxi:1607: in pandas._libs.hashtable.PyObjectHashTable.get_item\\r\\n    cpdef get_item(self, object val):\\r\\npandas/_libs/hashtable_class_helper.pxi:1614: in pandas._libs.hashtable.PyObjectHashTable.get_item\\r\\n    raise KeyError(val)\\r\\nE   KeyError: \\'one\\'\\r\\n\\r\\nDuring handling of the above exception, another exception occurred:\\r\\npandas/tests/groupby/test_whitelist.py:209: in test_regression_whitelist_methods\\r\\n    result = getattr(grouped, op)()\\r\\npandas/core/groupby/groupby.py:1383: in f\\r\\n    result[col] = self._try_cast(result[col], self.obj[col])\\r\\npandas/core/frame.py:2846: in __getitem__\\r\\n    return self._getitem_multilevel(key)\\r\\npandas/core/frame.py:2896: in _getitem_multilevel\\r\\n    loc = self.columns.get_loc(key)\\r\\npandas/core/indexes/multi.py:2662: in get_loc\\r\\n    loc = self._get_level_indexer(key, level=0)\\r\\npandas/core/indexes/multi.py:2928: in _get_level_indexer\\r\\n    code = level_index.get_loc(key)\\r\\npandas/core/indexes/base.py:2823: in get_loc\\r\\n    return self._engine.get_loc(self._maybe_cast_indexer(key))\\r\\npandas/_libs/index.pyx:103: in pandas._libs.index.IndexEngine.get_loc\\r\\n    cpdef get_loc(self, object val):\\r\\npandas/_libs/index.pyx:127: in pandas._libs.index.IndexEngine.get_loc\\r\\n    return self.mapping.get_item(val)\\r\\npandas/_libs/hashtable_class_helper.pxi:1607: in pandas._libs.hashtable.PyObjectHashTable.get_item\\r\\n    cpdef get_item(self, object val):\\r\\npandas/_libs/hashtable_class_helper.pxi:1614: in pandas._libs.hashtable.PyObjectHashTable.get_item\\r\\n    raise KeyError(val)\\r\\nE   KeyError: \\'one\\'\\r\\n______________________________________________________________ test_regression_whitelist_methods[True-False-1-1-min] _______________________________________________________________\\r\\npandas/core/indexes/base.py:2821: in get_loc\\r\\n    return self._engine.get_loc(key)\\r\\npandas/_libs/index.pyx:103: in pandas._libs.index.IndexEngine.get_loc\\r\\n    cpdef get_loc(self, object val):\\r\\npandas/_libs/index.pyx:127: in pandas._libs.index.IndexEngine.get_loc\\r\\n    return self.mapping.get_item(val)\\r\\npandas/_libs/hashtable_class_helper.pxi:1607: in pandas._libs.hashtable.PyObjectHashTable.get_item\\r\\n    cpdef get_item(self, object val):\\r\\npandas/_libs/hashtable_class_helper.pxi:1614: in pandas._libs.hashtable.PyObjectHashTable.get_item\\r\\n    raise KeyError(val)\\r\\nE   KeyError: \\'one\\'\\r\\n\\r\\nDuring handling of the above exception, another exception occurred:\\r\\npandas/tests/groupby/test_whitelist.py:209: in test_regression_whitelist_methods\\r\\n    result = getattr(grouped, op)()\\r\\npandas/core/groupby/groupby.py:1383: in f\\r\\n    result[col] = self._try_cast(result[col], self.obj[col])\\r\\npandas/core/frame.py:2846: in __getitem__\\r\\n    return self._getitem_multilevel(key)\\r\\npandas/core/frame.py:2896: in _getitem_multilevel\\r\\n    loc = self.columns.get_loc(key)\\r\\npandas/core/indexes/multi.py:2662: in get_loc\\r\\n    loc = self._get_level_indexer(key, level=0)\\r\\npandas/core/indexes/multi.py:2928: in _get_level_indexer\\r\\n    code = level_index.get_loc(key)\\r\\npandas/core/indexes/base.py:2823: in get_loc\\r\\n    return self._engine.get_loc(self._maybe_cast_indexer(key))\\r\\npandas/_libs/index.pyx:103: in pandas._libs.index.IndexEngine.get_loc\\r\\n    cpdef get_loc(self, object val):\\r\\npandas/_libs/index.pyx:127: in pandas._libs.index.IndexEngine.get_loc\\r\\n    return self.mapping.get_item(val)\\r\\npandas/_libs/hashtable_class_helper.pxi:1607: in pandas._libs.hashtable.PyObjectHashTable.get_item\\r\\n    cpdef get_item(self, object val):\\r\\npandas/_libs/hashtable_class_helper.pxi:1614: in pandas._libs.hashtable.PyObjectHashTable.get_item\\r\\n    raise KeyError(val)\\r\\nE   KeyError: \\'one\\'\\r\\n______________________________________________________________ test_regression_whitelist_methods[True-False-1-1-max] _______________________________________________________________\\r\\npandas/core/indexes/base.py:2821: in get_loc\\r\\n    return self._engine.get_loc(key)\\r\\npandas/_libs/index.pyx:103: in pandas._libs.index.IndexEngine.get_loc\\r\\n    cpdef get_loc(self, object val):\\r\\npandas/_libs/index.pyx:127: in pandas._libs.index.IndexEngine.get_loc\\r\\n    return self.mapping.get_item(val)\\r\\npandas/_libs/hashtable_class_helper.pxi:1607: in pandas._libs.hashtable.PyObjectHashTable.get_item\\r\\n    cpdef get_item(self, object val):\\r\\npandas/_libs/hashtable_class_helper.pxi:1614: in pandas._libs.hashtable.PyObjectHashTable.get_item\\r\\n    raise KeyError(val)\\r\\nE   KeyError: \\'one\\'\\r\\n\\r\\nDuring handling of the above exception, another exception occurred:\\r\\npandas/tests/groupby/test_whitelist.py:209: in test_regression_whitelist_methods\\r\\n    result = getattr(grouped, op)()\\r\\npandas/core/groupby/groupby.py:1383: in f\\r\\n    result[col] = self._try_cast(result[col], self.obj[col])\\r\\npandas/core/frame.py:2846: in __getitem__\\r\\n    return self._getitem_multilevel(key)\\r\\npandas/core/frame.py:2896: in _getitem_multilevel\\r\\n    loc = self.columns.get_loc(key)\\r\\npandas/core/indexes/multi.py:2662: in get_loc\\r\\n    loc = self._get_level_indexer(key, level=0)\\r\\npandas/core/indexes/multi.py:2928: in _get_level_indexer\\r\\n    code = level_index.get_loc(key)\\r\\npandas/core/indexes/base.py:2823: in get_loc\\r\\n    return self._engine.get_loc(self._maybe_cast_indexer(key))\\r\\npandas/_libs/index.pyx:103: in pandas._libs.index.IndexEngine.get_loc\\r\\n    cpdef get_loc(self, object val):\\r\\npandas/_libs/index.pyx:127: in pandas._libs.index.IndexEngine.get_loc\\r\\n    return self.mapping.get_item(val)\\r\\npandas/_libs/hashtable_class_helper.pxi:1607: in pandas._libs.hashtable.PyObjectHashTable.get_item\\r\\n    cpdef get_item(self, object val):\\r\\npandas/_libs/hashtable_class_helper.pxi:1614: in pandas._libs.hashtable.PyObjectHashTable.get_item\\r\\n    raise KeyError(val)\\r\\nE   KeyError: \\'one\\'\\r\\n______________________________________________________________ test_regression_whitelist_methods[False-True-1-1-min] _______________________________________________________________\\r\\npandas/core/indexes/base.py:2821: in get_loc\\r\\n    return self._engine.get_loc(key)\\r\\npandas/_libs/index.pyx:103: in pandas._libs.index.IndexEngine.get_loc\\r\\n    cpdef get_loc(self, object val):\\r\\npandas/_libs/index.pyx:127: in pandas._libs.index.IndexEngine.get_loc\\r\\n    return self.mapping.get_item(val)\\r\\npandas/_libs/hashtable_class_helper.pxi:1607: in pandas._libs.hashtable.PyObjectHashTable.get_item\\r\\n    cpdef get_item(self, object val):\\r\\npandas/_libs/hashtable_class_helper.pxi:1614: in pandas._libs.hashtable.PyObjectHashTable.get_item\\r\\n    raise KeyError(val)\\r\\nE   KeyError: \\'one\\'\\r\\n\\r\\nDuring handling of the above exception, another exception occurred:\\r\\npandas/tests/groupby/test_whitelist.py:209: in test_regression_whitelist_methods\\r\\n    result = getattr(grouped, op)()\\r\\npandas/core/groupby/groupby.py:1383: in f\\r\\n    result[col] = self._try_cast(result[col], self.obj[col])\\r\\npandas/core/frame.py:2846: in __getitem__\\r\\n    return self._getitem_multilevel(key)\\r\\npandas/core/frame.py:2896: in _getitem_multilevel\\r\\n    loc = self.columns.get_loc(key)\\r\\npandas/core/indexes/multi.py:2662: in get_loc\\r\\n    loc = self._get_level_indexer(key, level=0)\\r\\npandas/core/indexes/multi.py:2928: in _get_level_indexer\\r\\n    code = level_index.get_loc(key)\\r\\npandas/core/indexes/base.py:2823: in get_loc\\r\\n    return self._engine.get_loc(self._maybe_cast_indexer(key))\\r\\npandas/_libs/index.pyx:103: in pandas._libs.index.IndexEngine.get_loc\\r\\n    cpdef get_loc(self, object val):\\r\\npandas/_libs/index.pyx:127: in pandas._libs.index.IndexEngine.get_loc\\r\\n    return self.mapping.get_item(val)\\r\\npandas/_libs/hashtable_class_helper.pxi:1607: in pandas._libs.hashtable.PyObjectHashTable.get_item\\r\\n    cpdef get_item(self, object val):\\r\\npandas/_libs/hashtable_class_helper.pxi:1614: in pandas._libs.hashtable.PyObjectHashTable.get_item\\r\\n    raise KeyError(val)\\r\\nE   KeyError: \\'one\\'\\r\\n______________________________________________________________ test_regression_whitelist_methods[False-True-1-1-max] _______________________________________________________________\\r\\npandas/core/indexes/base.py:2821: in get_loc\\r\\n    return self._engine.get_loc(key)\\r\\npandas/_libs/index.pyx:103: in pandas._libs.index.IndexEngine.get_loc\\r\\n    cpdef get_loc(self, object val):\\r\\npandas/_libs/index.pyx:127: in pandas._libs.index.IndexEngine.get_loc\\r\\n    return self.mapping.get_item(val)\\r\\npandas/_libs/hashtable_class_helper.pxi:1607: in pandas._libs.hashtable.PyObjectHashTable.get_item\\r\\n    cpdef get_item(self, object val):\\r\\npandas/_libs/hashtable_class_helper.pxi:1614: in pandas._libs.hashtable.PyObjectHashTable.get_item\\r\\n    raise KeyError(val)\\r\\nE   KeyError: \\'one\\'\\r\\n\\r\\nDuring handling of the above exception, another exception occurred:\\r\\npandas/tests/groupby/test_whitelist.py:209: in test_regression_whitelist_methods\\r\\n    result = getattr(grouped, op)()\\r\\npandas/core/groupby/groupby.py:1383: in f\\r\\n    result[col] = self._try_cast(result[col], self.obj[col])\\r\\npandas/core/frame.py:2846: in __getitem__\\r\\n    return self._getitem_multilevel(key)\\r\\npandas/core/frame.py:2896: in _getitem_multilevel\\r\\n    loc = self.columns.get_loc(key)\\r\\npandas/core/indexes/multi.py:2662: in get_loc\\r\\n    loc = self._get_level_indexer(key, level=0)\\r\\npandas/core/indexes/multi.py:2928: in _get_level_indexer\\r\\n    code = level_index.get_loc(key)\\r\\npandas/core/indexes/base.py:2823: in get_loc\\r\\n    return self._engine.get_loc(self._maybe_cast_indexer(key))\\r\\npandas/_libs/index.pyx:103: in pandas._libs.index.IndexEngine.get_loc\\r\\n    cpdef get_loc(self, object val):\\r\\npandas/_libs/index.pyx:127: in pandas._libs.index.IndexEngine.get_loc\\r\\n    return self.mapping.get_item(val)\\r\\npandas/_libs/hashtable_class_helper.pxi:1607: in pandas._libs.hashtable.PyObjectHashTable.get_item\\r\\n    cpdef get_item(self, object val):\\r\\npandas/_libs/hashtable_class_helper.pxi:1614: in pandas._libs.hashtable.PyObjectHashTable.get_item\\r\\n    raise KeyError(val)\\r\\nE   KeyError: \\'one\\'\\r\\n______________________________________________________________ test_regression_whitelist_methods[False-False-1-1-min] ______________________________________________________________\\r\\npandas/core/indexes/base.py:2821: in get_loc\\r\\n    return self._engine.get_loc(key)\\r\\npandas/_libs/index.pyx:103: in pandas._libs.index.IndexEngine.get_loc\\r\\n    cpdef get_loc(self, object val):\\r\\npandas/_libs/index.pyx:127: in pandas._libs.index.IndexEngine.get_loc\\r\\n    return self.mapping.get_item(val)\\r\\npandas/_libs/hashtable_class_helper.pxi:1607: in pandas._libs.hashtable.PyObjectHashTable.get_item\\r\\n    cpdef get_item(self, object val):\\r\\npandas/_libs/hashtable_class_helper.pxi:1614: in pandas._libs.hashtable.PyObjectHashTable.get_item\\r\\n    raise KeyError(val)\\r\\nE   KeyError: \\'one\\'\\r\\n\\r\\nDuring handling of the above exception, another exception occurred:\\r\\npandas/tests/groupby/test_whitelist.py:209: in test_regression_whitelist_methods\\r\\n    result = getattr(grouped, op)()\\r\\npandas/core/groupby/groupby.py:1383: in f\\r\\n    result[col] = self._try_cast(result[col], self.obj[col])\\r\\npandas/core/frame.py:2846: in __getitem__\\r\\n    return self._getitem_multilevel(key)\\r\\npandas/core/frame.py:2896: in _getitem_multilevel\\r\\n    loc = self.columns.get_loc(key)\\r\\npandas/core/indexes/multi.py:2662: in get_loc\\r\\n    loc = self._get_level_indexer(key, level=0)\\r\\npandas/core/indexes/multi.py:2928: in _get_level_indexer\\r\\n    code = level_index.get_loc(key)\\r\\npandas/core/indexes/base.py:2823: in get_loc\\r\\n    return self._engine.get_loc(self._maybe_cast_indexer(key))\\r\\npandas/_libs/index.pyx:103: in pandas._libs.index.IndexEngine.get_loc\\r\\n    cpdef get_loc(self, object val):\\r\\npandas/_libs/index.pyx:127: in pandas._libs.index.IndexEngine.get_loc\\r\\n    return self.mapping.get_item(val)\\r\\npandas/_libs/hashtable_class_helper.pxi:1607: in pandas._libs.hashtable.PyObjectHashTable.get_item\\r\\n    cpdef get_item(self, object val):\\r\\npandas/_libs/hashtable_class_helper.pxi:1614: in pandas._libs.hashtable.PyObjectHashTable.get_item\\r\\n    raise KeyError(val)\\r\\nE   KeyError: \\'one\\'\\r\\n______________________________________________________________ test_regression_whitelist_methods[False-False-1-1-max] ______________________________________________________________\\r\\npandas/core/indexes/base.py:2821: in get_loc\\r\\n    return self._engine.get_loc(key)\\r\\npandas/_libs/index.pyx:103: in pandas._libs.index.IndexEngine.get_loc\\r\\n    cpdef get_loc(self, object val):\\r\\npandas/_libs/index.pyx:127: in pandas._libs.index.IndexEngine.get_loc\\r\\n    return self.mapping.get_item(val)\\r\\npandas/_libs/hashtable_class_helper.pxi:1607: in pandas._libs.hashtable.PyObjectHashTable.get_item\\r\\n    cpdef get_item(self, object val):\\r\\npandas/_libs/hashtable_class_helper.pxi:1614: in pandas._libs.hashtable.PyObjectHashTable.get_item\\r\\n    raise KeyError(val)\\r\\nE   KeyError: \\'one\\'\\r\\n\\r\\nDuring handling of the above exception, another exception occurred:\\r\\npandas/tests/groupby/test_whitelist.py:209: in test_regression_whitelist_methods\\r\\n    result = getattr(grouped, op)()\\r\\npandas/core/groupby/groupby.py:1383: in f\\r\\n    result[col] = self._try_cast(result[col], self.obj[col])\\r\\npandas/core/frame.py:2846: in __getitem__\\r\\n    return self._getitem_multilevel(key)\\r\\npandas/core/frame.py:2896: in _getitem_multilevel\\r\\n    loc = self.columns.get_loc(key)\\r\\npandas/core/indexes/multi.py:2662: in get_loc\\r\\n    loc = self._get_level_indexer(key, level=0)\\r\\npandas/core/indexes/multi.py:2928: in _get_level_indexer\\r\\n    code = level_index.get_loc(key)\\r\\npandas/core/indexes/base.py:2823: in get_loc\\r\\n    return self._engine.get_loc(self._maybe_cast_indexer(key))\\r\\npandas/_libs/index.pyx:103: in pandas._libs.index.IndexEngine.get_loc\\r\\n    cpdef get_loc(self, object val):\\r\\npandas/_libs/index.pyx:127: in pandas._libs.index.IndexEngine.get_loc\\r\\n    return self.mapping.get_item(val)\\r\\npandas/_libs/hashtable_class_helper.pxi:1607: in pandas._libs.hashtable.PyObjectHashTable.get_item\\r\\n    cpdef get_item(self, object val):\\r\\npandas/_libs/hashtable_class_helper.pxi:1614: in pandas._libs.hashtable.PyObjectHashTable.get_item\\r\\n    raise KeyError(val)\\r\\nE   KeyError: \\'one\\'\\r\\n============================================================================= short test summary info ==============================================================================\\r\\nFAILED pandas/tests/test_multilevel.py::TestMultiLevel::test_frame_group_ops[True-True-1-1-min] - KeyError: \\'one\\'\\r\\nFAILED pandas/tests/test_multilevel.py::TestMultiLevel::test_frame_group_ops[True-True-1-1-max] - KeyError: \\'one\\'\\r\\nFAILED pandas/tests/test_multilevel.py::TestMultiLevel::test_frame_group_ops[False-True-1-1-min] - KeyError: \\'one\\'\\r\\nFAILED pandas/tests/test_multilevel.py::TestMultiLevel::test_frame_group_ops[False-True-1-1-max] - KeyError: \\'one\\'\\r\\nFAILED pandas/tests/groupby/test_timegrouper.py::TestGroupBy::test_groupby_with_timezone_selection - AssertionError: Series Expected type <class \\'pandas.core.series.Series\\'>, fo...\\r\\nFAILED pandas/tests/groupby/test_whitelist.py::test_regression_whitelist_methods[True-True-1-1-min] - KeyError: \\'one\\'\\r\\nFAILED pandas/tests/groupby/test_whitelist.py::test_regression_whitelist_methods[True-True-1-1-max] - KeyError: \\'one\\'\\r\\nFAILED pandas/tests/groupby/test_whitelist.py::test_regression_whitelist_methods[True-False-1-1-min] - KeyError: \\'one\\'\\r\\nFAILED pandas/tests/groupby/test_whitelist.py::test_regression_whitelist_methods[True-False-1-1-max] - KeyError: \\'one\\'\\r\\nFAILED pandas/tests/groupby/test_whitelist.py::test_regression_whitelist_methods[False-True-1-1-min] - KeyError: \\'one\\'\\r\\nFAILED pandas/tests/groupby/test_whitelist.py::test_regression_whitelist_methods[False-True-1-1-max] - KeyError: \\'one\\'\\r\\nFAILED pandas/tests/groupby/test_whitelist.py::test_regression_whitelist_methods[False-False-1-1-min] - KeyError: \\'one\\'\\r\\nFAILED pandas/tests/groupby/test_whitelist.py::test_regression_whitelist_methods[False-False-1-1-max] - KeyError: \\'one\\'\\r\\n```\\r\\n\\r\\n</details>\\r\\n\\r\\n'}, {'url': 'https://api.github.com/repos/pandas-dev/pandas/issues/33394', 'repository_url': 'https://api.github.com/repos/pandas-dev/pandas', 'labels_url': 'https://api.github.com/repos/pandas-dev/pandas/issues/33394/labels{/name}', 'comments_url': 'https://api.github.com/repos/pandas-dev/pandas/issues/33394/comments', 'events_url': 'https://api.github.com/repos/pandas-dev/pandas/issues/33394/events', 'html_url': 'https://github.com/pandas-dev/pandas/pull/33394', 'id': 596563066, 'node_id': 'MDExOlB1bGxSZXF1ZXN0NDAwODM2NTE5', 'number': 33394, 'title': '(WIP) CI: Check private function not used across modules', 'user': {'login': 'MomIsBestFriend', 'id': 50263213, 'node_id': 'MDQ6VXNlcjUwMjYzMjEz', 'avatar_url': 'https://avatars0.githubusercontent.com/u/50263213?v=4', 'gravatar_id': '', 'url': 'https://api.github.com/users/MomIsBestFriend', 'html_url': 'https://github.com/MomIsBestFriend', 'followers_url': 'https://api.github.com/users/MomIsBestFriend/followers', 'following_url': 'https://api.github.com/users/MomIsBestFriend/following{/other_user}', 'gists_url': 'https://api.github.com/users/MomIsBestFriend/gists{/gist_id}', 'starred_url': 'https://api.github.com/users/MomIsBestFriend/starred{/owner}{/repo}', 'subscriptions_url': 'https://api.github.com/users/MomIsBestFriend/subscriptions', 'organizations_url': 'https://api.github.com/users/MomIsBestFriend/orgs', 'repos_url': 'https://api.github.com/users/MomIsBestFriend/repos', 'events_url': 'https://api.github.com/users/MomIsBestFriend/events{/privacy}', 'received_events_url': 'https://api.github.com/users/MomIsBestFriend/received_events', 'type': 'User', 'site_admin': False}, 'labels': [], 'state': 'open', 'locked': False, 'assignee': None, 'assignees': [], 'milestone': None, 'comments': 2, 'created_at': '2020-04-08T13:06:05Z', 'updated_at': '2020-04-08T16:07:18Z', 'closed_at': None, 'author_association': 'CONTRIBUTOR', 'pull_request': {'url': 'https://api.github.com/repos/pandas-dev/pandas/pulls/33394', 'html_url': 'https://github.com/pandas-dev/pandas/pull/33394', 'diff_url': 'https://github.com/pandas-dev/pandas/pull/33394.diff', 'patch_url': 'https://github.com/pandas-dev/pandas/pull/33394.patch'}, 'body': '- [x] xref https://github.com/pandas-dev/pandas/pull/32942#issuecomment-609893282\\r\\n- [ ] tests added / passed\\r\\n- [x] passes `black pandas`\\r\\n- [x] passes `git diff upstream/master -u -- \"*.py\" | flake8 --diff`\\r\\n- [ ] whatsnew entry\\r\\n\\r\\n---\\r\\n\\r\\ncc @jbrockmendel \\r\\n'}, {'url': 'https://api.github.com/repos/pandas-dev/pandas/issues/33392', 'repository_url': 'https://api.github.com/repos/pandas-dev/pandas', 'labels_url': 'https://api.github.com/repos/pandas-dev/pandas/issues/33392/labels{/name}', 'comments_url': 'https://api.github.com/repos/pandas-dev/pandas/issues/33392/comments', 'events_url': 'https://api.github.com/repos/pandas-dev/pandas/issues/33392/events', 'html_url': 'https://github.com/pandas-dev/pandas/pull/33392', 'id': 596550870, 'node_id': 'MDExOlB1bGxSZXF1ZXN0NDAwODI2OTI0', 'number': 33392, 'title': 'BUG/PLT: Multiple plots with different cmap, colorbars legends use first cmap', 'user': {'login': 'charlesdong1991', 'id': 9269816, 'node_id': 'MDQ6VXNlcjkyNjk4MTY=', 'avatar_url': 'https://avatars0.githubusercontent.com/u/9269816?v=4', 'gravatar_id': '', 'url': 'https://api.github.com/users/charlesdong1991', 'html_url': 'https://github.com/charlesdong1991', 'followers_url': 'https://api.github.com/users/charlesdong1991/followers', 'following_url': 'https://api.github.com/users/charlesdong1991/following{/other_user}', 'gists_url': 'https://api.github.com/users/charlesdong1991/gists{/gist_id}', 'starred_url': 'https://api.github.com/users/charlesdong1991/starred{/owner}{/repo}', 'subscriptions_url': 'https://api.github.com/users/charlesdong1991/subscriptions', 'organizations_url': 'https://api.github.com/users/charlesdong1991/orgs', 'repos_url': 'https://api.github.com/users/charlesdong1991/repos', 'events_url': 'https://api.github.com/users/charlesdong1991/events{/privacy}', 'received_events_url': 'https://api.github.com/users/charlesdong1991/received_events', 'type': 'User', 'site_admin': False}, 'labels': [{'id': 76811, 'node_id': 'MDU6TGFiZWw3NjgxMQ==', 'url': 'https://api.github.com/repos/pandas-dev/pandas/labels/Bug', 'name': 'Bug', 'color': 'e10c02', 'default': False, 'description': None}, {'id': 2413328, 'node_id': 'MDU6TGFiZWwyNDEzMzI4', 'url': 'https://api.github.com/repos/pandas-dev/pandas/labels/Visualization', 'name': 'Visualization', 'color': '8AE234', 'default': False, 'description': None}], 'state': 'open', 'locked': False, 'assignee': None, 'assignees': [], 'milestone': None, 'comments': 0, 'created_at': '2020-04-08T12:46:16Z', 'updated_at': '2020-04-08T19:20:55Z', 'closed_at': None, 'author_association': 'MEMBER', 'pull_request': {'url': 'https://api.github.com/repos/pandas-dev/pandas/pulls/33392', 'html_url': 'https://github.com/pandas-dev/pandas/pull/33392', 'diff_url': 'https://github.com/pandas-dev/pandas/pull/33392.diff', 'patch_url': 'https://github.com/pandas-dev/pandas/pull/33392.patch'}, 'body': '- [x] closes #33389 \\r\\n- [x] tests added / passed\\r\\n- [x] passes `black pandas`\\r\\n- [x] passes `git diff upstream/master -u -- \"*.py\" | flake8 --diff`\\r\\n- [x] whatsnew entry\\r\\n\\r\\nSince this is a plot PR, just post what it looks like after the change\\r\\n\\r\\n![Screen Shot 2020-04-08 at 3 43 54 PM](https://user-images.githubusercontent.com/9269816/78791204-d94a8a00-79af-11ea-9ebb-e216251c7908.png)\\r\\n'}, {'url': 'https://api.github.com/repos/pandas-dev/pandas/issues/33391', 'repository_url': 'https://api.github.com/repos/pandas-dev/pandas', 'labels_url': 'https://api.github.com/repos/pandas-dev/pandas/issues/33391/labels{/name}', 'comments_url': 'https://api.github.com/repos/pandas-dev/pandas/issues/33391/comments', 'events_url': 'https://api.github.com/repos/pandas-dev/pandas/issues/33391/events', 'html_url': 'https://github.com/pandas-dev/pandas/issues/33391', 'id': 596502492, 'node_id': 'MDU6SXNzdWU1OTY1MDI0OTI=', 'number': 33391, 'title': 'April 2020 Dev Meeting', 'user': {'login': 'TomAugspurger', 'id': 1312546, 'node_id': 'MDQ6VXNlcjEzMTI1NDY=', 'avatar_url': 'https://avatars3.githubusercontent.com/u/1312546?v=4', 'gravatar_id': '', 'url': 'https://api.github.com/users/TomAugspurger', 'html_url': 'https://github.com/TomAugspurger', 'followers_url': 'https://api.github.com/users/TomAugspurger/followers', 'following_url': 'https://api.github.com/users/TomAugspurger/following{/other_user}', 'gists_url': 'https://api.github.com/users/TomAugspurger/gists{/gist_id}', 'starred_url': 'https://api.github.com/users/TomAugspurger/starred{/owner}{/repo}', 'subscriptions_url': 'https://api.github.com/users/TomAugspurger/subscriptions', 'organizations_url': 'https://api.github.com/users/TomAugspurger/orgs', 'repos_url': 'https://api.github.com/users/TomAugspurger/repos', 'events_url': 'https://api.github.com/users/TomAugspurger/events{/privacy}', 'received_events_url': 'https://api.github.com/users/TomAugspurger/received_events', 'type': 'User', 'site_admin': False}, 'labels': [], 'state': 'open', 'locked': False, 'assignee': None, 'assignees': [], 'milestone': None, 'comments': 0, 'created_at': '2020-04-08T11:20:23Z', 'updated_at': '2020-04-08T11:21:30Z', 'closed_at': None, 'author_association': 'CONTRIBUTOR', 'body': \"The monthly dev meeting is today, April 8th, at 18:00 UTC. Note that your local time may be different than last month due to daylight savings time. Our calendar is at https://pandas.pydata.org/docs/development/meeting.html#calendar\\r\\n\\r\\nVideo Call: https://zoom.us/j/942410248\\r\\nMinutes: https://docs.google.com/document/u/1/d/1tGbTiYORHiSPgVMXawiweGJlBw5dOkVJLY-licoBmBU/edit?ouid=102771015311436394588&usp=docs_home&ths=true\\r\\n\\r\\nPlease add items you'd like to see discussed to the agenda.\"}, {'url': 'https://api.github.com/repos/pandas-dev/pandas/issues/33389', 'repository_url': 'https://api.github.com/repos/pandas-dev/pandas', 'labels_url': 'https://api.github.com/repos/pandas-dev/pandas/issues/33389/labels{/name}', 'comments_url': 'https://api.github.com/repos/pandas-dev/pandas/issues/33389/comments', 'events_url': 'https://api.github.com/repos/pandas-dev/pandas/issues/33389/events', 'html_url': 'https://github.com/pandas-dev/pandas/issues/33389', 'id': 596372147, 'node_id': 'MDU6SXNzdWU1OTYzNzIxNDc=', 'number': 33389, 'title': 'BUG: when adding multiple plots with different cmap, colorbars legends use first cmap', 'user': {'login': 'jorisvandenbossche', 'id': 1020496, 'node_id': 'MDQ6VXNlcjEwMjA0OTY=', 'avatar_url': 'https://avatars2.githubusercontent.com/u/1020496?v=4', 'gravatar_id': '', 'url': 'https://api.github.com/users/jorisvandenbossche', 'html_url': 'https://github.com/jorisvandenbossche', 'followers_url': 'https://api.github.com/users/jorisvandenbossche/followers', 'following_url': 'https://api.github.com/users/jorisvandenbossche/following{/other_user}', 'gists_url': 'https://api.github.com/users/jorisvandenbossche/gists{/gist_id}', 'starred_url': 'https://api.github.com/users/jorisvandenbossche/starred{/owner}{/repo}', 'subscriptions_url': 'https://api.github.com/users/jorisvandenbossche/subscriptions', 'organizations_url': 'https://api.github.com/users/jorisvandenbossche/orgs', 'repos_url': 'https://api.github.com/users/jorisvandenbossche/repos', 'events_url': 'https://api.github.com/users/jorisvandenbossche/events{/privacy}', 'received_events_url': 'https://api.github.com/users/jorisvandenbossche/received_events', 'type': 'User', 'site_admin': False}, 'labels': [{'id': 76811, 'node_id': 'MDU6TGFiZWw3NjgxMQ==', 'url': 'https://api.github.com/repos/pandas-dev/pandas/labels/Bug', 'name': 'Bug', 'color': 'e10c02', 'default': False, 'description': None}, {'id': 2413328, 'node_id': 'MDU6TGFiZWwyNDEzMzI4', 'url': 'https://api.github.com/repos/pandas-dev/pandas/labels/Visualization', 'name': 'Visualization', 'color': '8AE234', 'default': False, 'description': None}], 'state': 'open', 'locked': False, 'assignee': None, 'assignees': [], 'milestone': {'url': 'https://api.github.com/repos/pandas-dev/pandas/milestones/32', 'html_url': 'https://github.com/pandas-dev/pandas/milestone/32', 'labels_url': 'https://api.github.com/repos/pandas-dev/pandas/milestones/32/labels', 'id': 933188, 'node_id': 'MDk6TWlsZXN0b25lOTMzMTg4', 'number': 32, 'title': 'Contributions Welcome', 'description': 'Changes that would be nice to have in the next release. These issues are not blocking. They will be pushed to the next release if no one has time to fix them.', 'creator': {'login': 'jreback', 'id': 953992, 'node_id': 'MDQ6VXNlcjk1Mzk5Mg==', 'avatar_url': 'https://avatars2.githubusercontent.com/u/953992?v=4', 'gravatar_id': '', 'url': 'https://api.github.com/users/jreback', 'html_url': 'https://github.com/jreback', 'followers_url': 'https://api.github.com/users/jreback/followers', 'following_url': 'https://api.github.com/users/jreback/following{/other_user}', 'gists_url': 'https://api.github.com/users/jreback/gists{/gist_id}', 'starred_url': 'https://api.github.com/users/jreback/starred{/owner}{/repo}', 'subscriptions_url': 'https://api.github.com/users/jreback/subscriptions', 'organizations_url': 'https://api.github.com/users/jreback/orgs', 'repos_url': 'https://api.github.com/users/jreback/repos', 'events_url': 'https://api.github.com/users/jreback/events{/privacy}', 'received_events_url': 'https://api.github.com/users/jreback/received_events', 'type': 'User', 'site_admin': False}, 'open_issues': 1174, 'closed_issues': 561, 'state': 'open', 'created_at': '2015-01-13T10:53:19Z', 'updated_at': '2020-04-08T12:44:17Z', 'due_on': None, 'closed_at': None}, 'comments': 0, 'created_at': '2020-04-08T07:36:12Z', 'updated_at': '2020-04-08T07:36:12Z', 'closed_at': None, 'author_association': 'MEMBER', 'body': 'For example, when doing twice a scatter plot with a different colormap, it adds a colorbar for each, but with the wrong colors:\\r\\n\\r\\n```\\r\\ndf = pd.DataFrame({\\'x\\': [1, 2, 3], \\'y\\':  [1, 3, 2], \\'c\\': [1, 2, 3]}\\r\\ndf[\\'x2\\'] = df[\\'x\\'] + 1   \\r\\n\\r\\nimport matplotlib.pyplot as plt \\r\\n\\r\\nfig, ax = plt.subplots()  \\r\\ndf.plot(\\'x\\', \\'y\\', c=\\'c\\', kind=\\'scatter\\', cmap=\"cividis\", ax=ax)\\r\\ndf.plot(\\'x2\\', \\'y\\', c=\\'c\\', kind=\\'scatter\\', cmap=\"magma\", ax=ax)   \\r\\n```\\r\\n\\r\\n![Figure_1_2](https://user-images.githubusercontent.com/1020496/78757174-59ef9300-797c-11ea-8d2b-a305582efb4b.png)\\r\\n'}, {'url': 'https://api.github.com/repos/pandas-dev/pandas/issues/33388', 'repository_url': 'https://api.github.com/repos/pandas-dev/pandas', 'labels_url': 'https://api.github.com/repos/pandas-dev/pandas/issues/33388/labels{/name}', 'comments_url': 'https://api.github.com/repos/pandas-dev/pandas/issues/33388/comments', 'events_url': 'https://api.github.com/repos/pandas-dev/pandas/issues/33388/events', 'html_url': 'https://github.com/pandas-dev/pandas/pull/33388', 'id': 596324931, 'node_id': 'MDExOlB1bGxSZXF1ZXN0NDAwNjQyMDUz', 'number': 33388, 'title': 'WIP: ENH: Add numba engine to groupby.aggregate', 'user': {'login': 'mroeschke', 'id': 10647082, 'node_id': 'MDQ6VXNlcjEwNjQ3MDgy', 'avatar_url': 'https://avatars0.githubusercontent.com/u/10647082?v=4', 'gravatar_id': '', 'url': 'https://api.github.com/users/mroeschke', 'html_url': 'https://github.com/mroeschke', 'followers_url': 'https://api.github.com/users/mroeschke/followers', 'following_url': 'https://api.github.com/users/mroeschke/following{/other_user}', 'gists_url': 'https://api.github.com/users/mroeschke/gists{/gist_id}', 'starred_url': 'https://api.github.com/users/mroeschke/starred{/owner}{/repo}', 'subscriptions_url': 'https://api.github.com/users/mroeschke/subscriptions', 'organizations_url': 'https://api.github.com/users/mroeschke/orgs', 'repos_url': 'https://api.github.com/users/mroeschke/repos', 'events_url': 'https://api.github.com/users/mroeschke/events{/privacy}', 'received_events_url': 'https://api.github.com/users/mroeschke/received_events', 'type': 'User', 'site_admin': False}, 'labels': [{'id': 697792067, 'node_id': 'MDU6TGFiZWw2OTc3OTIwNjc=', 'url': 'https://api.github.com/repos/pandas-dev/pandas/labels/Apply', 'name': 'Apply', 'color': 'fbca04', 'default': False, 'description': 'Apply, Aggregate, Transform'}, {'id': 76812, 'node_id': 'MDU6TGFiZWw3NjgxMg==', 'url': 'https://api.github.com/repos/pandas-dev/pandas/labels/Enhancement', 'name': 'Enhancement', 'color': '4E9A06', 'default': False, 'description': None}, {'id': 233160, 'node_id': 'MDU6TGFiZWwyMzMxNjA=', 'url': 'https://api.github.com/repos/pandas-dev/pandas/labels/Groupby', 'name': 'Groupby', 'color': '729FCF', 'default': False, 'description': None}], 'state': 'open', 'locked': False, 'assignee': None, 'assignees': [], 'milestone': {'url': 'https://api.github.com/repos/pandas-dev/pandas/milestones/68', 'html_url': 'https://github.com/pandas-dev/pandas/milestone/68', 'labels_url': 'https://api.github.com/repos/pandas-dev/pandas/milestones/68/labels', 'id': 4894670, 'node_id': 'MDk6TWlsZXN0b25lNDg5NDY3MA==', 'number': 68, 'title': '1.1', 'description': 'after 1.0', 'creator': {'login': 'jreback', 'id': 953992, 'node_id': 'MDQ6VXNlcjk1Mzk5Mg==', 'avatar_url': 'https://avatars2.githubusercontent.com/u/953992?v=4', 'gravatar_id': '', 'url': 'https://api.github.com/users/jreback', 'html_url': 'https://github.com/jreback', 'followers_url': 'https://api.github.com/users/jreback/followers', 'following_url': 'https://api.github.com/users/jreback/following{/other_user}', 'gists_url': 'https://api.github.com/users/jreback/gists{/gist_id}', 'starred_url': 'https://api.github.com/users/jreback/starred{/owner}{/repo}', 'subscriptions_url': 'https://api.github.com/users/jreback/subscriptions', 'organizations_url': 'https://api.github.com/users/jreback/orgs', 'repos_url': 'https://api.github.com/users/jreback/repos', 'events_url': 'https://api.github.com/users/jreback/events{/privacy}', 'received_events_url': 'https://api.github.com/users/jreback/received_events', 'type': 'User', 'site_admin': False}, 'open_issues': 97, 'closed_issues': 1148, 'state': 'open', 'created_at': '2019-12-02T12:52:48Z', 'updated_at': '2020-04-09T02:50:10Z', 'due_on': '2020-08-01T07:00:00Z', 'closed_at': None}, 'comments': 2, 'created_at': '2020-04-08T05:48:14Z', 'updated_at': '2020-04-08T17:27:49Z', 'closed_at': None, 'author_association': 'MEMBER', 'pull_request': {'url': 'https://api.github.com/repos/pandas-dev/pandas/pulls/33388', 'html_url': 'https://github.com/pandas-dev/pandas/pull/33388', 'diff_url': 'https://github.com/pandas-dev/pandas/pull/33388.diff', 'patch_url': 'https://github.com/pandas-dev/pandas/pull/33388.patch'}, 'body': '- [ ] tests added / passed\\r\\n- [x] passes `black pandas`\\r\\n- [ ] passes `git diff upstream/master -u -- \"*.py\" | flake8 --diff`\\r\\n- [ ] whatsnew entry\\r\\n\\r\\nIn the same spirit of #31845 and #32854, adding `engine` and `engine_kwargs` arguments to `groupby.aggreate`.\\r\\n\\r\\nThis PR has some functionality that is waiting to be merged in #32854'}, {'url': 'https://api.github.com/repos/pandas-dev/pandas/issues/33386', 'repository_url': 'https://api.github.com/repos/pandas-dev/pandas', 'labels_url': 'https://api.github.com/repos/pandas-dev/pandas/issues/33386/labels{/name}', 'comments_url': 'https://api.github.com/repos/pandas-dev/pandas/issues/33386/comments', 'events_url': 'https://api.github.com/repos/pandas-dev/pandas/issues/33386/events', 'html_url': 'https://github.com/pandas-dev/pandas/issues/33386', 'id': 596245451, 'node_id': 'MDU6SXNzdWU1OTYyNDU0NTE=', 'number': 33386, 'title': 'BUG: \"nan\" as a string instead of missing value.', 'user': {'login': 'vasili111', 'id': 7338799, 'node_id': 'MDQ6VXNlcjczMzg3OTk=', 'avatar_url': 'https://avatars0.githubusercontent.com/u/7338799?v=4', 'gravatar_id': '', 'url': 'https://api.github.com/users/vasili111', 'html_url': 'https://github.com/vasili111', 'followers_url': 'https://api.github.com/users/vasili111/followers', 'following_url': 'https://api.github.com/users/vasili111/following{/other_user}', 'gists_url': 'https://api.github.com/users/vasili111/gists{/gist_id}', 'starred_url': 'https://api.github.com/users/vasili111/starred{/owner}{/repo}', 'subscriptions_url': 'https://api.github.com/users/vasili111/subscriptions', 'organizations_url': 'https://api.github.com/users/vasili111/orgs', 'repos_url': 'https://api.github.com/users/vasili111/repos', 'events_url': 'https://api.github.com/users/vasili111/events{/privacy}', 'received_events_url': 'https://api.github.com/users/vasili111/received_events', 'type': 'User', 'site_admin': False}, 'labels': [{'id': 34444536, 'node_id': 'MDU6TGFiZWwzNDQ0NDUzNg==', 'url': 'https://api.github.com/repos/pandas-dev/pandas/labels/Usage%20Question', 'name': 'Usage Question', 'color': '0052cc', 'default': False, 'description': None}], 'state': 'open', 'locked': False, 'assignee': None, 'assignees': [], 'milestone': None, 'comments': 1, 'created_at': '2020-04-08T01:23:20Z', 'updated_at': '2020-04-08T20:11:55Z', 'closed_at': None, 'author_association': 'NONE', 'body': '*Sorry I cannot share the data. I tried to make test data but it does not gives same error or different missing values as described below.*\\r\\n\\r\\n*Added more info at bottom about `pd.NA`*\\r\\n\\r\\nI am loading data with code:\\r\\n\\r\\n    df = pd.read_csv(\"C:/data.csv\")\\r\\n\\r\\nWhen loading data I am getting this warning:\\r\\n\\r\\n    C:\\\\Users\\\\User1\\\\AppData\\\\Local\\\\Continuum\\\\anaconda3\\\\lib\\\\site-packages\\\\IPython\\\\core\\\\interactiveshell.py:3063: DtypeWarning: Columns (162,247,274,292,304,316,321,335,345,347,357,379,389,390,393,395,400,401,420,424,447,462,465,467,478,481,534,536,538,570,616,632,653,666,675,691,707,754,758,762,766,770,774,778,782,784,785,786,788,789,790,792,793,794,796,797,798,800,801,802,804,805,806,808,809,810,812,813,814,815,816,817,818,819,820,821,822,823,824,825,826,827,828,829,830,831,832,833,834,835,836,837,838,839,840,841,842,843,844,845,846,847,848,849,850,851,852,853,854,855,856,857,858,859,860,861,862,863,864,865,867,868,871,872,875,876,880,1367,1368,1370,1371,1373,1374,1376,1377,1379,1380,1382,1383,1385,1386,1388,1389,1391,1392,1394,1395,1397,1398,1400,1401,1403,1404,1406,1407,1409,1410,1412,1413,1415,1416,1418,1419,1421,1422,1424,1425,2681) have mixed types.Specify dtype option on import or set low_memory=False.\\r\\n      interactivity=interactivity, compiler=compiler, result=result)\\r\\n\\r\\nAs I understood this warning is not a problem and I can ignore it.\\r\\n\\r\\n*For example code with expected output look at the bottom of question (error wich is described below is not replicated with that example because of different data!)*\\r\\n\\r\\nAfter I am running this code:\\r\\n\\r\\n\\r\\n    \\r\\n    import pandas as pd\\r\\n    import numpy as np\\r\\n    \\r\\n    \\r\\n    \\r\\n    col1 = [\"var1\", \"var3\", \"var5\"]\\r\\n    col2 = [\"var2\", \"var4\", \"var6\"]\\r\\n    colR = [\"Result1\", \"Result2\", \"Result3\"]\\r\\n    \\r\\n    s1 = df[col1].isnull().to_numpy()\\r\\n    s2 = df[col2].isnull().to_numpy()\\r\\n    \\r\\n    conditions = [~s1 & ~s2, s1 & s2, ~s1 & s2, s1 & ~s2]\\r\\n    choices = [\"Both values\", np.nan, df[col1], df[col2]]\\r\\n    \\r\\n    df = pd.concat([df, pd.DataFrame(np.select(conditions, choices), columns=colR, index=df.index)], axis=1)\\r\\n    \\r\\n\\r\\nNewly created columns apon running code above contain `nan` but colums that are loaded from `csv` file contain `NaN`.\\r\\n\\r\\nAfter running `df[\\'var1\\'].value_counts(dropna=False)`, I am getting output:\\r\\n\\r\\n    NaN    3453\\r\\n    0.0    3002\\r\\n    1.0     314\\r\\n    Name: var1, dtype: int64\\r\\n\\r\\nAfter running `df[\\'Result1\\'].value_counts(dropna=False)`, I am getting output:\\r\\n\\r\\n    0.0            3655\\r\\n    nan            2665\\r\\n    1.0             407\\r\\n    Both values      42\\r\\n    Name: Result1, dtype: int64\\r\\n\\r\\nNotice that `var1` contains `NaN` values but `Result1` contains `nan` values.\\r\\n\\r\\nWhen I run `df[\\'var1\\'].value_counts(dropna=False).loc[[np.nan]]` I am getting output:\\r\\n\\r\\n    NaN    3453\\r\\n    Name: weeklyivr_q1, dtype: int64\\r\\n\\r\\nWhen I run `df[\\'Result1\\'].value_counts(dropna=False).loc[[np.nan]]` I am getting error (variable names in error are different but key idea is that there are no missing values):\\r\\n\\r\\n    ---------------------------------------------------------------------------\\r\\n    KeyError                                  Traceback (most recent call last)\\r\\n    <ipython-input-52-0daeac75fdb4> in <module>\\r\\n         27 #combined_IVR[\"weeklyivr_q1\"].value_counts(dropna=False)\\r\\n         28 #combined_IVR[\"my_weekly_ivr_1\"].value_counts(dropna=False).loc[[\"Both values\"]]\\r\\n    ---> 29 combined_IVR[\"my_weekly_ivr_1\"].value_counts(dropna=False).loc[[np.nan]]\\r\\n         30 #combined_IVR[\"weeklyivr_q1\"].value_counts(dropna=False).loc[[np.nan]]\\r\\n    \\r\\n    ~\\\\AppData\\\\Local\\\\Continuum\\\\anaconda3\\\\lib\\\\site-packages\\\\pandas\\\\core\\\\indexing.py in __getitem__(self, key)\\r\\n       1764 \\r\\n       1765             maybe_callable = com.apply_if_callable(key, self.obj)\\r\\n    -> 1766             return self._getitem_axis(maybe_callable, axis=axis)\\r\\n       1767 \\r\\n       1768     def _is_scalar_access(self, key: Tuple):\\r\\n    \\r\\n    ~\\\\AppData\\\\Local\\\\Continuum\\\\anaconda3\\\\lib\\\\site-packages\\\\pandas\\\\core\\\\indexing.py in _getitem_axis(self, key, axis)\\r\\n       1950                     raise ValueError(\"Cannot index with multidimensional key\")\\r\\n       1951 \\r\\n    -> 1952                 return self._getitem_iterable(key, axis=axis)\\r\\n       1953 \\r\\n       1954             # nested tuple slicing\\r\\n    \\r\\n    ~\\\\AppData\\\\Local\\\\Continuum\\\\anaconda3\\\\lib\\\\site-packages\\\\pandas\\\\core\\\\indexing.py in _getitem_iterable(self, key, axis)\\r\\n       1591         else:\\r\\n       1592             # A collection of keys\\r\\n    -> 1593             keyarr, indexer = self._get_listlike_indexer(key, axis, raise_missing=False)\\r\\n       1594             return self.obj._reindex_with_indexers(\\r\\n       1595                 {axis: [keyarr, indexer]}, copy=True, allow_dups=True\\r\\n    \\r\\n    ~\\\\AppData\\\\Local\\\\Continuum\\\\anaconda3\\\\lib\\\\site-packages\\\\pandas\\\\core\\\\indexing.py in _get_listlike_indexer(self, key, axis, raise_missing)\\r\\n       1549 \\r\\n       1550         self._validate_read_indexer(\\r\\n    -> 1551             keyarr, indexer, o._get_axis_number(axis), raise_missing=raise_missing\\r\\n       1552         )\\r\\n       1553         return keyarr, indexer\\r\\n    \\r\\n    ~\\\\AppData\\\\Local\\\\Continuum\\\\anaconda3\\\\lib\\\\site-packages\\\\pandas\\\\core\\\\indexing.py in _validate_read_indexer(self, key, indexer, axis, raise_missing)\\r\\n       1636             if missing == len(indexer):\\r\\n       1637                 axis_name = self.obj._get_axis_name(axis)\\r\\n    -> 1638                 raise KeyError(f\"None of [{key}] are in the [{axis_name}]\")\\r\\n       1639 \\r\\n       1640             # We (temporarily) allow for some missing keys with .loc, except in\\r\\n    \\r\\n    KeyError: \"None of [Float64Index([nan], dtype=\\'float64\\')] are in the [index]\"\\r\\n\\r\\nWhen I am running `df[\\'Result1\\'].value_counts(dropna=False).loc[[\\'nan\\']]` I am getting:\\r\\n\\r\\n    nan    2665\\r\\n    Name: my_weekly_ivr_1, dtype: int64\\r\\n\\r\\nSo `nan` in \\'Result1\\' column is string. \\r\\n\\r\\n\\r\\nIf i replace `choices = [\"Both values\", np.nan, df[col1], df[col2]]` with `choices = [\"Both values\", pd.NA, df[col1], df[col2]]` and after run:\\r\\n\\r\\n    df[\\'Result1\\'].value_counts(dropna=False).loc[[np.nan]]\\r\\n\\r\\nI am getting output: \\r\\n\\r\\n    NaN    2665\\r\\n    Name: Result1, dtype: int64\\r\\n\\r\\nSo in this case `np.nan` produces string and `pd.NA` missing value.\\r\\n\\r\\n<br>\\r\\n\\r\\n**Question:**\\r\\n\\r\\nWhy am getting `nan` in \\'Result1\\' column when using np.nan? What can be a reason and how to fix this?\\r\\n\\r\\n--------\\r\\n\\r\\nExample code with expected output:\\r\\n\\r\\n    import pandas as pd\\r\\n    import numpy as np\\r\\n         \\r\\n    df = pd.DataFrame({ \\'var1\\': [\\'a\\', \\'b\\', \\'c\\',np.nan, np.nan],\\r\\n                       \\'var2\\': [1, 2, np.nan , 4, np.nan], \\r\\n                       \\'var3\\': [np.nan , \"x\", np.nan, \"y\", \"z\"],\\r\\n                       \\'var4\\': [np.nan , 4, np.nan, 5, 6],\\r\\n                       \\'var5\\': [\"a\", np.nan , \"b\", np.nan, \"c\"],\\r\\n                       \\'var6\\': [1, np.nan , 2, np.nan, 3]\\r\\n                     })\\r\\n\\r\\n    \\r\\n    \\r\\n    col1 = [\"var1\", \"var3\", \"var5\"]\\r\\n    col2 = [\"var2\", \"var4\", \"var6\"]\\r\\n    colR = [\"Result1\", \"Result2\", \"Result3\"]\\r\\n    \\r\\n    s1 = df[col1].isnull().to_numpy()\\r\\n    s2 = df[col2].isnull().to_numpy()\\r\\n    \\r\\n    conditions = [~s1 & ~s2, s1 & s2, ~s1 & s2, s1 & ~s2]\\r\\n    choices = [\"Both values\", np.nan, df[col1], df[col2]]\\r\\n    \\r\\n    df = pd.concat([df, pd.DataFrame(np.select(conditions, choices), columns=colR, index=df.index)], axis=1)\\r\\n\\r\\n\\r\\nThe result ( `df` ) looks like:\\r\\n\\r\\n      var1  var2 var3  var4 var5  var6      Result1      Result2      Result3\\r\\n    0    a   1.0  NaN   NaN    a   1.0  Both values          NaN  Both values\\r\\n    1    b   2.0    x   4.0  NaN   NaN  Both values  Both values          NaN\\r\\n    2    c   NaN  NaN   NaN    b   2.0            c          NaN  Both values\\r\\n    3  NaN   4.0    y   5.0  NaN   NaN            4  Both values          NaN\\r\\n    4  NaN   NaN    z   6.0    c   3.0          NaN  Both values  Both values\\r\\n'}, {'url': 'https://api.github.com/repos/pandas-dev/pandas/issues/33384', 'repository_url': 'https://api.github.com/repos/pandas-dev/pandas', 'labels_url': 'https://api.github.com/repos/pandas-dev/pandas/issues/33384/labels{/name}', 'comments_url': 'https://api.github.com/repos/pandas-dev/pandas/issues/33384/comments', 'events_url': 'https://api.github.com/repos/pandas-dev/pandas/issues/33384/events', 'html_url': 'https://github.com/pandas-dev/pandas/pull/33384', 'id': 596234519, 'node_id': 'MDExOlB1bGxSZXF1ZXN0NDAwNTcwMTU0', 'number': 33384, 'title': 'FEATURE: pandas.Series.query() #22347', 'user': {'login': 'yaolan4', 'id': 36016724, 'node_id': 'MDQ6VXNlcjM2MDE2NzI0', 'avatar_url': 'https://avatars2.githubusercontent.com/u/36016724?v=4', 'gravatar_id': '', 'url': 'https://api.github.com/users/yaolan4', 'html_url': 'https://github.com/yaolan4', 'followers_url': 'https://api.github.com/users/yaolan4/followers', 'following_url': 'https://api.github.com/users/yaolan4/following{/other_user}', 'gists_url': 'https://api.github.com/users/yaolan4/gists{/gist_id}', 'starred_url': 'https://api.github.com/users/yaolan4/starred{/owner}{/repo}', 'subscriptions_url': 'https://api.github.com/users/yaolan4/subscriptions', 'organizations_url': 'https://api.github.com/users/yaolan4/orgs', 'repos_url': 'https://api.github.com/users/yaolan4/repos', 'events_url': 'https://api.github.com/users/yaolan4/events{/privacy}', 'received_events_url': 'https://api.github.com/users/yaolan4/received_events', 'type': 'User', 'site_admin': False}, 'labels': [], 'state': 'open', 'locked': False, 'assignee': None, 'assignees': [], 'milestone': None, 'comments': 1, 'created_at': '2020-04-08T00:46:16Z', 'updated_at': '2020-04-08T16:08:10Z', 'closed_at': None, 'author_association': 'NONE', 'pull_request': {'url': 'https://api.github.com/repos/pandas-dev/pandas/pulls/33384', 'html_url': 'https://github.com/pandas-dev/pandas/pull/33384', 'diff_url': 'https://github.com/pandas-dev/pandas/pull/33384.diff', 'patch_url': 'https://github.com/pandas-dev/pandas/pull/33384.patch'}, 'body': '\\r\\n'}, {'url': 'https://api.github.com/repos/pandas-dev/pandas/issues/33382', 'repository_url': 'https://api.github.com/repos/pandas-dev/pandas', 'labels_url': 'https://api.github.com/repos/pandas-dev/pandas/issues/33382/labels{/name}', 'comments_url': 'https://api.github.com/repos/pandas-dev/pandas/issues/33382/comments', 'events_url': 'https://api.github.com/repos/pandas-dev/pandas/issues/33382/events', 'html_url': 'https://github.com/pandas-dev/pandas/pull/33382', 'id': 596159687, 'node_id': 'MDExOlB1bGxSZXF1ZXN0NDAwNTA4ODY1', 'number': 33382, 'title': 'DOC: Fix capitalisation in doc/source/whatsnew - part1 (issue #32550)', 'user': {'login': 'cleconte987', 'id': 24496267, 'node_id': 'MDQ6VXNlcjI0NDk2MjY3', 'avatar_url': 'https://avatars3.githubusercontent.com/u/24496267?v=4', 'gravatar_id': '', 'url': 'https://api.github.com/users/cleconte987', 'html_url': 'https://github.com/cleconte987', 'followers_url': 'https://api.github.com/users/cleconte987/followers', 'following_url': 'https://api.github.com/users/cleconte987/following{/other_user}', 'gists_url': 'https://api.github.com/users/cleconte987/gists{/gist_id}', 'starred_url': 'https://api.github.com/users/cleconte987/starred{/owner}{/repo}', 'subscriptions_url': 'https://api.github.com/users/cleconte987/subscriptions', 'organizations_url': 'https://api.github.com/users/cleconte987/orgs', 'repos_url': 'https://api.github.com/users/cleconte987/repos', 'events_url': 'https://api.github.com/users/cleconte987/events{/privacy}', 'received_events_url': 'https://api.github.com/users/cleconte987/received_events', 'type': 'User', 'site_admin': False}, 'labels': [{'id': 211029535, 'node_id': 'MDU6TGFiZWwyMTEwMjk1MzU=', 'url': 'https://api.github.com/repos/pandas-dev/pandas/labels/Clean', 'name': 'Clean', 'color': '207de5', 'default': False, 'description': None}, {'id': 134699, 'node_id': 'MDU6TGFiZWwxMzQ2OTk=', 'url': 'https://api.github.com/repos/pandas-dev/pandas/labels/Docs', 'name': 'Docs', 'color': '3465A4', 'default': False, 'description': None}], 'state': 'open', 'locked': False, 'assignee': None, 'assignees': [], 'milestone': None, 'comments': 6, 'created_at': '2020-04-07T21:21:14Z', 'updated_at': '2020-04-09T00:29:24Z', 'closed_at': None, 'author_association': 'CONTRIBUTOR', 'pull_request': {'url': 'https://api.github.com/repos/pandas-dev/pandas/pulls/33382', 'html_url': 'https://github.com/pandas-dev/pandas/pull/33382', 'diff_url': 'https://github.com/pandas-dev/pandas/pull/33382.diff', 'patch_url': 'https://github.com/pandas-dev/pandas/pull/33382.patch'}, 'body': '- [ ] modify files index.rst, v0.4.x.rst, v0.5.0.rst, v0.6.0.rst\\r\\n\\r\\n- [ ] passes `black pandas`\\r\\n- [ ] passes `git diff upstream/master -u -- \"*.py\" | flake8 --diff`'}, {'url': 'https://api.github.com/repos/pandas-dev/pandas/issues/33381', 'repository_url': 'https://api.github.com/repos/pandas-dev/pandas', 'labels_url': 'https://api.github.com/repos/pandas-dev/pandas/issues/33381/labels{/name}', 'comments_url': 'https://api.github.com/repos/pandas-dev/pandas/issues/33381/comments', 'events_url': 'https://api.github.com/repos/pandas-dev/pandas/issues/33381/events', 'html_url': 'https://github.com/pandas-dev/pandas/pull/33381', 'id': 596142287, 'node_id': 'MDExOlB1bGxSZXF1ZXN0NDAwNDk0MzAw', 'number': 33381, 'title': ' BUG: iloc setting columns not taking effect', 'user': {'login': 'MomIsBestFriend', 'id': 50263213, 'node_id': 'MDQ6VXNlcjUwMjYzMjEz', 'avatar_url': 'https://avatars0.githubusercontent.com/u/50263213?v=4', 'gravatar_id': '', 'url': 'https://api.github.com/users/MomIsBestFriend', 'html_url': 'https://github.com/MomIsBestFriend', 'followers_url': 'https://api.github.com/users/MomIsBestFriend/followers', 'following_url': 'https://api.github.com/users/MomIsBestFriend/following{/other_user}', 'gists_url': 'https://api.github.com/users/MomIsBestFriend/gists{/gist_id}', 'starred_url': 'https://api.github.com/users/MomIsBestFriend/starred{/owner}{/repo}', 'subscriptions_url': 'https://api.github.com/users/MomIsBestFriend/subscriptions', 'organizations_url': 'https://api.github.com/users/MomIsBestFriend/orgs', 'repos_url': 'https://api.github.com/users/MomIsBestFriend/repos', 'events_url': 'https://api.github.com/users/MomIsBestFriend/events{/privacy}', 'received_events_url': 'https://api.github.com/users/MomIsBestFriend/received_events', 'type': 'User', 'site_admin': False}, 'labels': [], 'state': 'open', 'locked': False, 'assignee': None, 'assignees': [], 'milestone': None, 'comments': 4, 'created_at': '2020-04-07T20:47:32Z', 'updated_at': '2020-04-07T21:23:08Z', 'closed_at': None, 'author_association': 'CONTRIBUTOR', 'pull_request': {'url': 'https://api.github.com/repos/pandas-dev/pandas/pulls/33381', 'html_url': 'https://github.com/pandas-dev/pandas/pull/33381', 'diff_url': 'https://github.com/pandas-dev/pandas/pull/33381.diff', 'patch_url': 'https://github.com/pandas-dev/pandas/pull/33381.patch'}, 'body': '- [x] closes #33198\\r\\n- [ ] tests added / passed\\r\\n- [x] passes `black pandas`\\r\\n- [x] passes `git diff upstream/master -u -- \"*.py\" | flake8 --diff`\\r\\n- [ ] whatsnew entry\\r\\n'}, {'url': 'https://api.github.com/repos/pandas-dev/pandas/issues/33380', 'repository_url': 'https://api.github.com/repos/pandas-dev/pandas', 'labels_url': 'https://api.github.com/repos/pandas-dev/pandas/issues/33380/labels{/name}', 'comments_url': 'https://api.github.com/repos/pandas-dev/pandas/issues/33380/comments', 'events_url': 'https://api.github.com/repos/pandas-dev/pandas/issues/33380/events', 'html_url': 'https://github.com/pandas-dev/pandas/issues/33380', 'id': 596129018, 'node_id': 'MDU6SXNzdWU1OTYxMjkwMTg=', 'number': 33380, 'title': 'BUG: `pandas.Series.eq` doc and result mismatch for fill_value', 'user': {'login': 'rgsl888prabhu', 'id': 42624703, 'node_id': 'MDQ6VXNlcjQyNjI0NzAz', 'avatar_url': 'https://avatars3.githubusercontent.com/u/42624703?v=4', 'gravatar_id': '', 'url': 'https://api.github.com/users/rgsl888prabhu', 'html_url': 'https://github.com/rgsl888prabhu', 'followers_url': 'https://api.github.com/users/rgsl888prabhu/followers', 'following_url': 'https://api.github.com/users/rgsl888prabhu/following{/other_user}', 'gists_url': 'https://api.github.com/users/rgsl888prabhu/gists{/gist_id}', 'starred_url': 'https://api.github.com/users/rgsl888prabhu/starred{/owner}{/repo}', 'subscriptions_url': 'https://api.github.com/users/rgsl888prabhu/subscriptions', 'organizations_url': 'https://api.github.com/users/rgsl888prabhu/orgs', 'repos_url': 'https://api.github.com/users/rgsl888prabhu/repos', 'events_url': 'https://api.github.com/users/rgsl888prabhu/events{/privacy}', 'received_events_url': 'https://api.github.com/users/rgsl888prabhu/received_events', 'type': 'User', 'site_admin': False}, 'labels': [{'id': 134699, 'node_id': 'MDU6TGFiZWwxMzQ2OTk=', 'url': 'https://api.github.com/repos/pandas-dev/pandas/labels/Docs', 'name': 'Docs', 'color': '3465A4', 'default': False, 'description': None}, {'id': 47223669, 'node_id': 'MDU6TGFiZWw0NzIyMzY2OQ==', 'url': 'https://api.github.com/repos/pandas-dev/pandas/labels/Numeric', 'name': 'Numeric', 'color': '006b75', 'default': False, 'description': 'Arithmetic, Comparison, Logical, and Reduction operations'}], 'state': 'open', 'locked': False, 'assignee': None, 'assignees': [], 'milestone': None, 'comments': 1, 'created_at': '2020-04-07T20:22:34Z', 'updated_at': '2020-04-08T15:09:19Z', 'closed_at': None, 'author_association': 'NONE', 'body': '- [ ] I have checked that this issue has not already been reported.\\r\\n\\r\\n- [x] I have confirmed this bug exists on the latest version of pandas.\\r\\n\\r\\n- [ ] (optional) I have confirmed this bug exists on the master branch of pandas.\\r\\n\\r\\n---\\r\\n\\r\\n\\r\\n#### Code Sample\\r\\n\\r\\n```\\r\\n>>> import pandas as pd\\r\\n>>> import numpy as np\\r\\n>>> pd.Series([np.nan]).eq(pd.Series([np.nan]), fill_value=5.0)\\r\\n0    False\\r\\ndtype: bool\\r\\n```\\r\\n\\r\\n#### Problem description\\r\\n\\r\\nAs per the doc, if fill_value is provided and if the element at a position is missing in both series, then result will also be missing, but as per the result, False is being returned rather than `nan`. \\r\\n\\r\\n#### Expected Output\\r\\nSo, not sure if doc is wrong or output is wrong. So opening this issue just to clarify this and fix appropriate issue.\\r\\n#### Output of ``pd.show_versions()``\\r\\n\\r\\n<details>\\r\\n\\r\\n```\\r\\nINSTALLED VERSIONS\\r\\n------------------\\r\\ncommit           : None\\r\\npython           : 3.7.3.final.0\\r\\npython-bits      : 64\\r\\nOS               : Linux\\r\\nOS-release       : 5.3.0-26-generic\\r\\nmachine          : x86_64\\r\\nprocessor        : x86_64\\r\\nbyteorder        : little\\r\\nLC_ALL           : None\\r\\nLANG             : en_US.UTF-8\\r\\nLOCALE           : en_US.UTF-8\\r\\n\\r\\npandas           : 1.0.1\\r\\nnumpy            : 1.16.4\\r\\npytz             : 2019.1\\r\\ndateutil         : 2.8.0\\r\\npip              : 19.1.1\\r\\nsetuptools       : 41.0.1\\r\\nCython           : 0.29.12\\r\\npytest           : 5.0.1\\r\\nhypothesis       : None\\r\\nsphinx           : 2.1.2\\r\\nblosc            : None\\r\\nfeather          : None\\r\\nxlsxwriter       : 1.1.8\\r\\nlxml.etree       : 4.3.4\\r\\nhtml5lib         : 1.0.1\\r\\npymysql          : None\\r\\npsycopg2         : None\\r\\njinja2           : 2.10.1\\r\\nIPython          : 7.6.1\\r\\npandas_datareader: None\\r\\nbs4              : 4.7.1\\r\\nbottleneck       : 1.2.1\\r\\nfastparquet      : None\\r\\ngcsfs            : None\\r\\nlxml.etree       : 4.3.4\\r\\nmatplotlib       : 3.1.0\\r\\nnumexpr          : 2.6.9\\r\\nodfpy            : None\\r\\nopenpyxl         : 2.6.2\\r\\npandas_gbq       : None\\r\\npyarrow          : None\\r\\npytables         : None\\r\\npytest           : 5.0.1\\r\\npyxlsb           : None\\r\\ns3fs             : None\\r\\nscipy            : 1.3.0\\r\\nsqlalchemy       : 1.3.5\\r\\ntables           : 3.5.2\\r\\ntabulate         : None\\r\\nxarray           : None\\r\\nxlrd             : 1.2.0\\r\\nxlwt             : 1.3.0\\r\\nxlsxwriter       : 1.1.8\\r\\nnumba            : 0.44.1\\r\\n\\r\\n```\\r\\n</details>\\r\\n'}, {'url': 'https://api.github.com/repos/pandas-dev/pandas/issues/33379', 'repository_url': 'https://api.github.com/repos/pandas-dev/pandas', 'labels_url': 'https://api.github.com/repos/pandas-dev/pandas/issues/33379/labels{/name}', 'comments_url': 'https://api.github.com/repos/pandas-dev/pandas/issues/33379/comments', 'events_url': 'https://api.github.com/repos/pandas-dev/pandas/issues/33379/events', 'html_url': 'https://github.com/pandas-dev/pandas/pull/33379', 'id': 596115795, 'node_id': 'MDExOlB1bGxSZXF1ZXN0NDAwNDcyMTYy', 'number': 33379, 'title': 'API/TST: Call __finalize__ in more places', 'user': {'login': 'TomAugspurger', 'id': 1312546, 'node_id': 'MDQ6VXNlcjEzMTI1NDY=', 'avatar_url': 'https://avatars3.githubusercontent.com/u/1312546?v=4', 'gravatar_id': '', 'url': 'https://api.github.com/users/TomAugspurger', 'html_url': 'https://github.com/TomAugspurger', 'followers_url': 'https://api.github.com/users/TomAugspurger/followers', 'following_url': 'https://api.github.com/users/TomAugspurger/following{/other_user}', 'gists_url': 'https://api.github.com/users/TomAugspurger/gists{/gist_id}', 'starred_url': 'https://api.github.com/users/TomAugspurger/starred{/owner}{/repo}', 'subscriptions_url': 'https://api.github.com/users/TomAugspurger/subscriptions', 'organizations_url': 'https://api.github.com/users/TomAugspurger/orgs', 'repos_url': 'https://api.github.com/users/TomAugspurger/repos', 'events_url': 'https://api.github.com/users/TomAugspurger/events{/privacy}', 'received_events_url': 'https://api.github.com/users/TomAugspurger/received_events', 'type': 'User', 'site_admin': False}, 'labels': [{'id': 35818298, 'node_id': 'MDU6TGFiZWwzNTgxODI5OA==', 'url': 'https://api.github.com/repos/pandas-dev/pandas/labels/API%20Design', 'name': 'API Design', 'color': 'AD7FA8', 'default': False, 'description': None}, {'id': 1539579994, 'node_id': 'MDU6TGFiZWwxNTM5NTc5OTk0', 'url': 'https://api.github.com/repos/pandas-dev/pandas/labels/metadata', 'name': 'metadata', 'color': '56efc9', 'default': False, 'description': ''}], 'state': 'open', 'locked': False, 'assignee': None, 'assignees': [], 'milestone': {'url': 'https://api.github.com/repos/pandas-dev/pandas/milestones/68', 'html_url': 'https://github.com/pandas-dev/pandas/milestone/68', 'labels_url': 'https://api.github.com/repos/pandas-dev/pandas/milestones/68/labels', 'id': 4894670, 'node_id': 'MDk6TWlsZXN0b25lNDg5NDY3MA==', 'number': 68, 'title': '1.1', 'description': 'after 1.0', 'creator': {'login': 'jreback', 'id': 953992, 'node_id': 'MDQ6VXNlcjk1Mzk5Mg==', 'avatar_url': 'https://avatars2.githubusercontent.com/u/953992?v=4', 'gravatar_id': '', 'url': 'https://api.github.com/users/jreback', 'html_url': 'https://github.com/jreback', 'followers_url': 'https://api.github.com/users/jreback/followers', 'following_url': 'https://api.github.com/users/jreback/following{/other_user}', 'gists_url': 'https://api.github.com/users/jreback/gists{/gist_id}', 'starred_url': 'https://api.github.com/users/jreback/starred{/owner}{/repo}', 'subscriptions_url': 'https://api.github.com/users/jreback/subscriptions', 'organizations_url': 'https://api.github.com/users/jreback/orgs', 'repos_url': 'https://api.github.com/users/jreback/repos', 'events_url': 'https://api.github.com/users/jreback/events{/privacy}', 'received_events_url': 'https://api.github.com/users/jreback/received_events', 'type': 'User', 'site_admin': False}, 'open_issues': 97, 'closed_issues': 1148, 'state': 'open', 'created_at': '2019-12-02T12:52:48Z', 'updated_at': '2020-04-09T02:50:10Z', 'due_on': '2020-08-01T07:00:00Z', 'closed_at': None}, 'comments': 0, 'created_at': '2020-04-07T19:57:53Z', 'updated_at': '2020-04-08T15:24:30Z', 'closed_at': None, 'author_association': 'CONTRIBUTOR', 'pull_request': {'url': 'https://api.github.com/repos/pandas-dev/pandas/pulls/33379', 'html_url': 'https://github.com/pandas-dev/pandas/pull/33379', 'diff_url': 'https://github.com/pandas-dev/pandas/pull/33379.diff', 'patch_url': 'https://github.com/pandas-dev/pandas/pull/33379.patch'}, 'body': \"Progress towards https://github.com/pandas-dev/pandas/issues/28283. This\\r\\nadds tests that ensures `NDFrame.__finalize__` is called in more places.\\r\\nThus far I've added tests for anything that meets the following rule:\\r\\n\\r\\n> Pandas calls `NDFrame.__finalize__` on any NDFrame method that returns\\r\\n> another NDFrame.\\r\\n\\r\\nI think that given the generality of `__finalize__`, making any kind of\\r\\nlist of which methods should call it is going to be somewhat arbitrary.\\r\\nThat rule errs on the side of calling it too often, which I think is my\\r\\npreference.\\r\\n\\r\\n*For reviewers* I think the two most helpful pieces would be\\r\\n\\r\\n1. Do you agree with the general rule of `NDFrame -> NDFrame` should call `__finalize__`?\\r\\n2. A spot check on the tests I've added\\r\\n\\r\\nIf you don't agree with the general rule, then we'll need to go through method by method and determine whether that method should call `__finalize__`. \\r\\n\\r\\nOnce we have agreement that the tests I've added accurately reflect the desired outcome, this can be merged and we can fix `xfails` in smaller batches.\"}, {'url': 'https://api.github.com/repos/pandas-dev/pandas/issues/33378', 'repository_url': 'https://api.github.com/repos/pandas-dev/pandas', 'labels_url': 'https://api.github.com/repos/pandas-dev/pandas/issues/33378/labels{/name}', 'comments_url': 'https://api.github.com/repos/pandas-dev/pandas/issues/33378/comments', 'events_url': 'https://api.github.com/repos/pandas-dev/pandas/issues/33378/events', 'html_url': 'https://github.com/pandas-dev/pandas/pull/33378', 'id': 596103382, 'node_id': 'MDExOlB1bGxSZXF1ZXN0NDAwNDYxNjA4', 'number': 33378, 'title': 'DOC: Fix capitalization among headings in doc/source/whatsnew (#32550)', 'user': {'login': 'themien', 'id': 12384095, 'node_id': 'MDQ6VXNlcjEyMzg0MDk1', 'avatar_url': 'https://avatars3.githubusercontent.com/u/12384095?v=4', 'gravatar_id': '', 'url': 'https://api.github.com/users/themien', 'html_url': 'https://github.com/themien', 'followers_url': 'https://api.github.com/users/themien/followers', 'following_url': 'https://api.github.com/users/themien/following{/other_user}', 'gists_url': 'https://api.github.com/users/themien/gists{/gist_id}', 'starred_url': 'https://api.github.com/users/themien/starred{/owner}{/repo}', 'subscriptions_url': 'https://api.github.com/users/themien/subscriptions', 'organizations_url': 'https://api.github.com/users/themien/orgs', 'repos_url': 'https://api.github.com/users/themien/repos', 'events_url': 'https://api.github.com/users/themien/events{/privacy}', 'received_events_url': 'https://api.github.com/users/themien/received_events', 'type': 'User', 'site_admin': False}, 'labels': [], 'state': 'open', 'locked': False, 'assignee': None, 'assignees': [], 'milestone': None, 'comments': 0, 'created_at': '2020-04-07T19:35:47Z', 'updated_at': '2020-04-07T19:35:47Z', 'closed_at': None, 'author_association': 'CONTRIBUTOR', 'pull_request': {'url': 'https://api.github.com/repos/pandas-dev/pandas/pulls/33378', 'html_url': 'https://github.com/pandas-dev/pandas/pull/33378', 'diff_url': 'https://github.com/pandas-dev/pandas/pull/33378.diff', 'patch_url': 'https://github.com/pandas-dev/pandas/pull/33378.patch'}, 'body': 'Updated headers for the following files:\\r\\n\\r\\n```\\r\\n- [x] doc/source/whatsnew/v0.19.0.rst\\r\\n- [x] doc/source/whatsnew/v0.20.0.rst\\r\\n- [x] doc/source/whatsnew/v0.24.0.rst\\r\\n- [x] doc/source/whatsnew/v0.25.0.rst\\r\\n- [x] doc/source/whatsnew/v1.0.0.rst\\r\\n```\\r\\n'}, {'url': 'https://api.github.com/repos/pandas-dev/pandas/issues/33376', 'repository_url': 'https://api.github.com/repos/pandas-dev/pandas', 'labels_url': 'https://api.github.com/repos/pandas-dev/pandas/issues/33376/labels{/name}', 'comments_url': 'https://api.github.com/repos/pandas-dev/pandas/issues/33376/comments', 'events_url': 'https://api.github.com/repos/pandas-dev/pandas/issues/33376/events', 'html_url': 'https://github.com/pandas-dev/pandas/pull/33376', 'id': 596092287, 'node_id': 'MDExOlB1bGxSZXF1ZXN0NDAwNDUyMjk2', 'number': 33376, 'title': 'DOC: Fix capitalization among headings in doc/source/whatsnew (#32550)', 'user': {'login': 'themien', 'id': 12384095, 'node_id': 'MDQ6VXNlcjEyMzg0MDk1', 'avatar_url': 'https://avatars3.githubusercontent.com/u/12384095?v=4', 'gravatar_id': '', 'url': 'https://api.github.com/users/themien', 'html_url': 'https://github.com/themien', 'followers_url': 'https://api.github.com/users/themien/followers', 'following_url': 'https://api.github.com/users/themien/following{/other_user}', 'gists_url': 'https://api.github.com/users/themien/gists{/gist_id}', 'starred_url': 'https://api.github.com/users/themien/starred{/owner}{/repo}', 'subscriptions_url': 'https://api.github.com/users/themien/subscriptions', 'organizations_url': 'https://api.github.com/users/themien/orgs', 'repos_url': 'https://api.github.com/users/themien/repos', 'events_url': 'https://api.github.com/users/themien/events{/privacy}', 'received_events_url': 'https://api.github.com/users/themien/received_events', 'type': 'User', 'site_admin': False}, 'labels': [], 'state': 'open', 'locked': False, 'assignee': None, 'assignees': [], 'milestone': None, 'comments': 0, 'created_at': '2020-04-07T19:15:37Z', 'updated_at': '2020-04-07T19:15:37Z', 'closed_at': None, 'author_association': 'CONTRIBUTOR', 'pull_request': {'url': 'https://api.github.com/repos/pandas-dev/pandas/pulls/33376', 'html_url': 'https://github.com/pandas-dev/pandas/pull/33376', 'diff_url': 'https://github.com/pandas-dev/pandas/pull/33376.diff', 'patch_url': 'https://github.com/pandas-dev/pandas/pull/33376.patch'}, 'body': 'Updated headers for the following files:\\r\\n\\r\\n```\\r\\n- [x] doc/source/whatsnew/index.rst\\r\\n- [x] doc/source/whatsnew/v0.14.0.rst\\r\\n- [x] doc/source/whatsnew/v0.15.0.rst\\r\\n- [x] doc/source/whatsnew/v0.18.0.rst\\r\\n- [x] doc/source/whatsnew/v0.18.1.rst\\r\\n```'}]\n"
     ]
    }
   ],
   "source": [
    "import requests\n",
    "url='https://api.github.com/repos/pandas-dev/pandas/issues'\n",
    "resp=requests.get(url)\n",
    "print(resp)\n",
    "data=resp.json()\n",
    "print(type(data))\n",
    "print(data)"
   ]
  },
  {
   "cell_type": "code",
   "execution_count": 109,
   "metadata": {},
   "outputs": [
    {
     "data": {
      "text/html": [
       "<div>\n",
       "<style scoped>\n",
       "    .dataframe tbody tr th:only-of-type {\n",
       "        vertical-align: middle;\n",
       "    }\n",
       "\n",
       "    .dataframe tbody tr th {\n",
       "        vertical-align: top;\n",
       "    }\n",
       "\n",
       "    .dataframe thead th {\n",
       "        text-align: right;\n",
       "    }\n",
       "</style>\n",
       "<table border=\"1\" class=\"dataframe\">\n",
       "  <thead>\n",
       "    <tr style=\"text-align: right;\">\n",
       "      <th></th>\n",
       "      <th>number</th>\n",
       "      <th>title</th>\n",
       "      <th>user</th>\n",
       "      <th>state</th>\n",
       "    </tr>\n",
       "  </thead>\n",
       "  <tbody>\n",
       "    <tr>\n",
       "      <th>0</th>\n",
       "      <td>33415</td>\n",
       "      <td>WIP: Timestamp/DTA match stdlib tzawareness-co...</td>\n",
       "      <td>{'login': 'jbrockmendel', 'id': 8078968, 'node...</td>\n",
       "      <td>open</td>\n",
       "    </tr>\n",
       "    <tr>\n",
       "      <th>1</th>\n",
       "      <td>33414</td>\n",
       "      <td>ENH: Optionally pass dtypes as a dict into jso...</td>\n",
       "      <td>{'login': 'jcezarms', 'id': 25608481, 'node_id...</td>\n",
       "      <td>open</td>\n",
       "    </tr>\n",
       "    <tr>\n",
       "      <th>2</th>\n",
       "      <td>33412</td>\n",
       "      <td>ENH: More permissable conversion to StringDtype</td>\n",
       "      <td>{'login': 'topper-123', 'id': 26364415, 'node_...</td>\n",
       "      <td>open</td>\n",
       "    </tr>\n",
       "    <tr>\n",
       "      <th>3</th>\n",
       "      <td>33411</td>\n",
       "      <td>To numeric</td>\n",
       "      <td>{'login': 'yixinxiao7', 'id': 32621777, 'node_...</td>\n",
       "      <td>open</td>\n",
       "    </tr>\n",
       "    <tr>\n",
       "      <th>4</th>\n",
       "      <td>33410</td>\n",
       "      <td>BUG: ValueError: buffer source array is read-o...</td>\n",
       "      <td>{'login': 'erik-hasse', 'id': 37126755, 'node_...</td>\n",
       "      <td>open</td>\n",
       "    </tr>\n",
       "    <tr>\n",
       "      <th>5</th>\n",
       "      <td>33407</td>\n",
       "      <td>REF: call pandas_dtype up-front in Index.__new__</td>\n",
       "      <td>{'login': 'jbrockmendel', 'id': 8078968, 'node...</td>\n",
       "      <td>open</td>\n",
       "    </tr>\n",
       "    <tr>\n",
       "      <th>6</th>\n",
       "      <td>33406</td>\n",
       "      <td>BUG: to_period() freq was not infered</td>\n",
       "      <td>{'login': 'MomIsBestFriend', 'id': 50263213, '...</td>\n",
       "      <td>open</td>\n",
       "    </tr>\n",
       "    <tr>\n",
       "      <th>7</th>\n",
       "      <td>33404</td>\n",
       "      <td>BUG: Series.__getitem__ with MultiIndex and le...</td>\n",
       "      <td>{'login': 'jbrockmendel', 'id': 8078968, 'node...</td>\n",
       "      <td>open</td>\n",
       "    </tr>\n",
       "    <tr>\n",
       "      <th>8</th>\n",
       "      <td>33403</td>\n",
       "      <td>DOC: Fix heading capitalization in doc/source/...</td>\n",
       "      <td>{'login': 'cleconte987', 'id': 24496267, 'node...</td>\n",
       "      <td>open</td>\n",
       "    </tr>\n",
       "    <tr>\n",
       "      <th>9</th>\n",
       "      <td>33402</td>\n",
       "      <td>TST: Parameterize tests</td>\n",
       "      <td>{'login': 'MomIsBestFriend', 'id': 50263213, '...</td>\n",
       "      <td>open</td>\n",
       "    </tr>\n",
       "    <tr>\n",
       "      <th>10</th>\n",
       "      <td>33401</td>\n",
       "      <td>BUG: Index.astype does not localize to UTC fir...</td>\n",
       "      <td>{'login': 'mroeschke', 'id': 10647082, 'node_i...</td>\n",
       "      <td>open</td>\n",
       "    </tr>\n",
       "    <tr>\n",
       "      <th>11</th>\n",
       "      <td>33400</td>\n",
       "      <td>PERF: dtype-only is_foo_dtype checks (up to 5x...</td>\n",
       "      <td>{'login': 'jbrockmendel', 'id': 8078968, 'node...</td>\n",
       "      <td>open</td>\n",
       "    </tr>\n",
       "    <tr>\n",
       "      <th>12</th>\n",
       "      <td>33399</td>\n",
       "      <td>DOC: DatetimeTZDtype astype behavior with Seri...</td>\n",
       "      <td>{'login': 'Loupiol', 'id': 13718150, 'node_id'...</td>\n",
       "      <td>open</td>\n",
       "    </tr>\n",
       "    <tr>\n",
       "      <th>13</th>\n",
       "      <td>33398</td>\n",
       "      <td>ENH: Support passing compression args to gzip ...</td>\n",
       "      <td>{'login': 'jessefarnham', 'id': 4183570, 'node...</td>\n",
       "      <td>open</td>\n",
       "    </tr>\n",
       "    <tr>\n",
       "      <th>14</th>\n",
       "      <td>33397</td>\n",
       "      <td>CI: pandas warnings in tests about keyword onl...</td>\n",
       "      <td>{'login': 'TomAugspurger', 'id': 1312546, 'nod...</td>\n",
       "      <td>open</td>\n",
       "    </tr>\n",
       "    <tr>\n",
       "      <th>15</th>\n",
       "      <td>33396</td>\n",
       "      <td>DEPR: Remove aliased Resampler methods</td>\n",
       "      <td>{'login': 'dsaxton', 'id': 2658661, 'node_id':...</td>\n",
       "      <td>open</td>\n",
       "    </tr>\n",
       "    <tr>\n",
       "      <th>16</th>\n",
       "      <td>33395</td>\n",
       "      <td>BUG: Test failures with CPython master</td>\n",
       "      <td>{'login': 'TomAugspurger', 'id': 1312546, 'nod...</td>\n",
       "      <td>open</td>\n",
       "    </tr>\n",
       "    <tr>\n",
       "      <th>17</th>\n",
       "      <td>33394</td>\n",
       "      <td>(WIP) CI: Check private function not used acro...</td>\n",
       "      <td>{'login': 'MomIsBestFriend', 'id': 50263213, '...</td>\n",
       "      <td>open</td>\n",
       "    </tr>\n",
       "    <tr>\n",
       "      <th>18</th>\n",
       "      <td>33392</td>\n",
       "      <td>BUG/PLT: Multiple plots with different cmap, c...</td>\n",
       "      <td>{'login': 'charlesdong1991', 'id': 9269816, 'n...</td>\n",
       "      <td>open</td>\n",
       "    </tr>\n",
       "    <tr>\n",
       "      <th>19</th>\n",
       "      <td>33391</td>\n",
       "      <td>April 2020 Dev Meeting</td>\n",
       "      <td>{'login': 'TomAugspurger', 'id': 1312546, 'nod...</td>\n",
       "      <td>open</td>\n",
       "    </tr>\n",
       "    <tr>\n",
       "      <th>20</th>\n",
       "      <td>33389</td>\n",
       "      <td>BUG: when adding multiple plots with different...</td>\n",
       "      <td>{'login': 'jorisvandenbossche', 'id': 1020496,...</td>\n",
       "      <td>open</td>\n",
       "    </tr>\n",
       "    <tr>\n",
       "      <th>21</th>\n",
       "      <td>33388</td>\n",
       "      <td>WIP: ENH: Add numba engine to groupby.aggregate</td>\n",
       "      <td>{'login': 'mroeschke', 'id': 10647082, 'node_i...</td>\n",
       "      <td>open</td>\n",
       "    </tr>\n",
       "    <tr>\n",
       "      <th>22</th>\n",
       "      <td>33386</td>\n",
       "      <td>BUG: \"nan\" as a string instead of missing value.</td>\n",
       "      <td>{'login': 'vasili111', 'id': 7338799, 'node_id...</td>\n",
       "      <td>open</td>\n",
       "    </tr>\n",
       "    <tr>\n",
       "      <th>23</th>\n",
       "      <td>33384</td>\n",
       "      <td>FEATURE: pandas.Series.query() #22347</td>\n",
       "      <td>{'login': 'yaolan4', 'id': 36016724, 'node_id'...</td>\n",
       "      <td>open</td>\n",
       "    </tr>\n",
       "    <tr>\n",
       "      <th>24</th>\n",
       "      <td>33382</td>\n",
       "      <td>DOC: Fix capitalisation in doc/source/whatsnew...</td>\n",
       "      <td>{'login': 'cleconte987', 'id': 24496267, 'node...</td>\n",
       "      <td>open</td>\n",
       "    </tr>\n",
       "    <tr>\n",
       "      <th>25</th>\n",
       "      <td>33381</td>\n",
       "      <td>BUG: iloc setting columns not taking effect</td>\n",
       "      <td>{'login': 'MomIsBestFriend', 'id': 50263213, '...</td>\n",
       "      <td>open</td>\n",
       "    </tr>\n",
       "    <tr>\n",
       "      <th>26</th>\n",
       "      <td>33380</td>\n",
       "      <td>BUG: `pandas.Series.eq` doc and result mismatc...</td>\n",
       "      <td>{'login': 'rgsl888prabhu', 'id': 42624703, 'no...</td>\n",
       "      <td>open</td>\n",
       "    </tr>\n",
       "    <tr>\n",
       "      <th>27</th>\n",
       "      <td>33379</td>\n",
       "      <td>API/TST: Call __finalize__ in more places</td>\n",
       "      <td>{'login': 'TomAugspurger', 'id': 1312546, 'nod...</td>\n",
       "      <td>open</td>\n",
       "    </tr>\n",
       "    <tr>\n",
       "      <th>28</th>\n",
       "      <td>33378</td>\n",
       "      <td>DOC: Fix capitalization among headings in doc/...</td>\n",
       "      <td>{'login': 'themien', 'id': 12384095, 'node_id'...</td>\n",
       "      <td>open</td>\n",
       "    </tr>\n",
       "    <tr>\n",
       "      <th>29</th>\n",
       "      <td>33376</td>\n",
       "      <td>DOC: Fix capitalization among headings in doc/...</td>\n",
       "      <td>{'login': 'themien', 'id': 12384095, 'node_id'...</td>\n",
       "      <td>open</td>\n",
       "    </tr>\n",
       "  </tbody>\n",
       "</table>\n",
       "</div>"
      ],
      "text/plain": [
       "    number                                              title  \\\n",
       "0    33415  WIP: Timestamp/DTA match stdlib tzawareness-co...   \n",
       "1    33414  ENH: Optionally pass dtypes as a dict into jso...   \n",
       "2    33412    ENH: More permissable conversion to StringDtype   \n",
       "3    33411                                         To numeric   \n",
       "4    33410  BUG: ValueError: buffer source array is read-o...   \n",
       "5    33407   REF: call pandas_dtype up-front in Index.__new__   \n",
       "6    33406              BUG: to_period() freq was not infered   \n",
       "7    33404  BUG: Series.__getitem__ with MultiIndex and le...   \n",
       "8    33403  DOC: Fix heading capitalization in doc/source/...   \n",
       "9    33402                            TST: Parameterize tests   \n",
       "10   33401  BUG: Index.astype does not localize to UTC fir...   \n",
       "11   33400  PERF: dtype-only is_foo_dtype checks (up to 5x...   \n",
       "12   33399  DOC: DatetimeTZDtype astype behavior with Seri...   \n",
       "13   33398  ENH: Support passing compression args to gzip ...   \n",
       "14   33397  CI: pandas warnings in tests about keyword onl...   \n",
       "15   33396             DEPR: Remove aliased Resampler methods   \n",
       "16   33395             BUG: Test failures with CPython master   \n",
       "17   33394  (WIP) CI: Check private function not used acro...   \n",
       "18   33392  BUG/PLT: Multiple plots with different cmap, c...   \n",
       "19   33391                             April 2020 Dev Meeting   \n",
       "20   33389  BUG: when adding multiple plots with different...   \n",
       "21   33388    WIP: ENH: Add numba engine to groupby.aggregate   \n",
       "22   33386   BUG: \"nan\" as a string instead of missing value.   \n",
       "23   33384              FEATURE: pandas.Series.query() #22347   \n",
       "24   33382  DOC: Fix capitalisation in doc/source/whatsnew...   \n",
       "25   33381        BUG: iloc setting columns not taking effect   \n",
       "26   33380  BUG: `pandas.Series.eq` doc and result mismatc...   \n",
       "27   33379          API/TST: Call __finalize__ in more places   \n",
       "28   33378  DOC: Fix capitalization among headings in doc/...   \n",
       "29   33376  DOC: Fix capitalization among headings in doc/...   \n",
       "\n",
       "                                                 user state  \n",
       "0   {'login': 'jbrockmendel', 'id': 8078968, 'node...  open  \n",
       "1   {'login': 'jcezarms', 'id': 25608481, 'node_id...  open  \n",
       "2   {'login': 'topper-123', 'id': 26364415, 'node_...  open  \n",
       "3   {'login': 'yixinxiao7', 'id': 32621777, 'node_...  open  \n",
       "4   {'login': 'erik-hasse', 'id': 37126755, 'node_...  open  \n",
       "5   {'login': 'jbrockmendel', 'id': 8078968, 'node...  open  \n",
       "6   {'login': 'MomIsBestFriend', 'id': 50263213, '...  open  \n",
       "7   {'login': 'jbrockmendel', 'id': 8078968, 'node...  open  \n",
       "8   {'login': 'cleconte987', 'id': 24496267, 'node...  open  \n",
       "9   {'login': 'MomIsBestFriend', 'id': 50263213, '...  open  \n",
       "10  {'login': 'mroeschke', 'id': 10647082, 'node_i...  open  \n",
       "11  {'login': 'jbrockmendel', 'id': 8078968, 'node...  open  \n",
       "12  {'login': 'Loupiol', 'id': 13718150, 'node_id'...  open  \n",
       "13  {'login': 'jessefarnham', 'id': 4183570, 'node...  open  \n",
       "14  {'login': 'TomAugspurger', 'id': 1312546, 'nod...  open  \n",
       "15  {'login': 'dsaxton', 'id': 2658661, 'node_id':...  open  \n",
       "16  {'login': 'TomAugspurger', 'id': 1312546, 'nod...  open  \n",
       "17  {'login': 'MomIsBestFriend', 'id': 50263213, '...  open  \n",
       "18  {'login': 'charlesdong1991', 'id': 9269816, 'n...  open  \n",
       "19  {'login': 'TomAugspurger', 'id': 1312546, 'nod...  open  \n",
       "20  {'login': 'jorisvandenbossche', 'id': 1020496,...  open  \n",
       "21  {'login': 'mroeschke', 'id': 10647082, 'node_i...  open  \n",
       "22  {'login': 'vasili111', 'id': 7338799, 'node_id...  open  \n",
       "23  {'login': 'yaolan4', 'id': 36016724, 'node_id'...  open  \n",
       "24  {'login': 'cleconte987', 'id': 24496267, 'node...  open  \n",
       "25  {'login': 'MomIsBestFriend', 'id': 50263213, '...  open  \n",
       "26  {'login': 'rgsl888prabhu', 'id': 42624703, 'no...  open  \n",
       "27  {'login': 'TomAugspurger', 'id': 1312546, 'nod...  open  \n",
       "28  {'login': 'themien', 'id': 12384095, 'node_id'...  open  \n",
       "29  {'login': 'themien', 'id': 12384095, 'node_id'...  open  "
      ]
     },
     "execution_count": 109,
     "metadata": {},
     "output_type": "execute_result"
    }
   ],
   "source": [
    "data_dict=data[0]\n",
    "issues=pd.DataFrame(data,columns=['number','title','user','state'])\n",
    "issues"
   ]
  }
 ],
 "metadata": {
  "kernelspec": {
   "display_name": "Python 3",
   "language": "python",
   "name": "python3"
  },
  "language_info": {
   "codemirror_mode": {
    "name": "ipython",
    "version": 3
   },
   "file_extension": ".py",
   "mimetype": "text/x-python",
   "name": "python",
   "nbconvert_exporter": "python",
   "pygments_lexer": "ipython3",
   "version": "3.7.3"
  }
 },
 "nbformat": 4,
 "nbformat_minor": 2
}
