{
 "cells": [
  {
   "cell_type": "markdown",
   "metadata": {},
   "source": [
    "# Pandas Function Application"
   ]
  },
  {
   "cell_type": "code",
   "execution_count": 1,
   "metadata": {},
   "outputs": [
    {
     "name": "stdout",
     "output_type": "stream",
     "text": [
      "               b         d         e\n",
      "utah   -1.028803  0.430171  2.722888\n",
      "ohio   -1.481555  0.148754 -0.113133\n",
      "texas   0.901924 -0.371537 -0.134415\n",
      "oregon -0.484207 -1.161502  1.005957\n",
      "            b         d         e\n",
      "min  0.901924  0.430171  2.722888\n",
      "max -1.481555 -1.161502 -0.134415 <class 'pandas.core.frame.DataFrame'>\n"
     ]
    }
   ],
   "source": [
    "import numpy as np\n",
    "import pandas as pd\n",
    "frame=pd.DataFrame(np.random.randn(4,3),\n",
    "                  columns=list('bde'),\n",
    "                  index=['utah','ohio','texas','oregon'])\n",
    "print(frame)\n",
    "#print(np.abs(frame))\n",
    "#print(frame['d'].max())\n",
    "#print(frame['d'].min())\n",
    "#print(frame['d'].max()-frame['d'].min())\n",
    "\n",
    "#f=lambda x:x.max()-x.min()\n",
    "#df_c=frame.apply(f)\n",
    "#df_c\n",
    "#df_r=frame.apply(f,axis=1)\n",
    "#print(df_r,type(df_r))\n",
    "\n",
    "def min_max(x):\n",
    "    minimum=x.min()\n",
    "    maximum=x.max()\n",
    "    return pd.Series([maximum,minimum],index=['min','max'])\n",
    "df=frame.apply(min_max)\n",
    "print(df,type(df))"
   ]
  },
  {
   "cell_type": "code",
   "execution_count": 2,
   "metadata": {},
   "outputs": [
    {
     "name": "stdout",
     "output_type": "stream",
     "text": [
      "       c  d  b  a\n",
      "three  0  1  2  3\n",
      "one    4  5  6  7\n",
      "       d  c  b  a\n",
      "three  1  0  2  3\n",
      "one    5  4  6  7\n",
      "       c  d  b  a\n",
      "one    4  5  6  7\n",
      "three  0  1  2  3\n"
     ]
    }
   ],
   "source": [
    "df=pd.DataFrame(np.arange(8).reshape((2,4)),index=['three','one'],columns=['c','d','b','a'])\n",
    "print(df)\n",
    "print(df.sort_index(axis=1,ascending=False))\n",
    "print(df.sort_index())"
   ]
  },
  {
   "cell_type": "code",
   "execution_count": 3,
   "metadata": {},
   "outputs": [
    {
     "name": "stdout",
     "output_type": "stream",
     "text": [
      "       c  d  b  a\n",
      "three  0  1  2  3\n",
      "one    4  5  6  7\n",
      "         c    d    b    a\n",
      "three  2.0  2.0  2.0  2.0\n",
      "one    1.0  1.0  1.0  1.0\n",
      "         c    d    b    a\n",
      "three  1.0  1.0  1.0  1.0\n",
      "one    2.0  2.0  2.0  2.0\n",
      "         c    d    b    a\n",
      "three  1.0  2.0  3.0  4.0\n",
      "one    1.0  2.0  3.0  4.0\n"
     ]
    }
   ],
   "source": [
    "print(df.sort_values(by='b'))\n",
    "print(df.rank(ascending=False,method='max'))\n",
    "print(df.rank(ascending=True,method='min'))\n",
    "print(df.rank(axis='columns'))"
   ]
  },
  {
   "cell_type": "code",
   "execution_count": 4,
   "metadata": {},
   "outputs": [
    {
     "name": "stdout",
     "output_type": "stream",
     "text": [
      "c     4\n",
      "d     6\n",
      "b     8\n",
      "a    10\n",
      "dtype: int64\n",
      "three     6\n",
      "one      22\n",
      "dtype: int64\n"
     ]
    }
   ],
   "source": [
    "print(df.sum())\n",
    "print(df.sum(axis=1))"
   ]
  },
  {
   "cell_type": "code",
   "execution_count": 5,
   "metadata": {},
   "outputs": [
    {
     "name": "stdout",
     "output_type": "stream",
     "text": [
      "c    2.0\n",
      "d    3.0\n",
      "b    4.0\n",
      "a    5.0\n",
      "dtype: float64\n",
      "three    1.5\n",
      "one      5.5\n",
      "dtype: float64\n"
     ]
    }
   ],
   "source": [
    "print(df.mean())\n",
    "print(df.mean(axis='columns',skipna=True))"
   ]
  },
  {
   "cell_type": "code",
   "execution_count": 6,
   "metadata": {},
   "outputs": [
    {
     "name": "stdout",
     "output_type": "stream",
     "text": [
      "[2 6]\n",
      "6    1\n",
      "2    1\n",
      "Name: b, dtype: int64\n"
     ]
    }
   ],
   "source": [
    "print(df['b'].unique())\n",
    "print(df['b'].value_counts())"
   ]
  },
  {
   "cell_type": "code",
   "execution_count": 7,
   "metadata": {},
   "outputs": [
    {
     "name": "stdout",
     "output_type": "stream",
     "text": [
      "          one  two  three  four\n",
      "ohio        0    1      2     3\n",
      "colorado    4    5      6     7\n",
      "utah        8    9     10    11\n",
      "new york   12   13     14    15\n",
      "three    6\n",
      "one      4\n",
      "Name: colorado, dtype: int32\n",
      "          three  one\n",
      "colorado      6    4\n",
      "ohio          2    0\n"
     ]
    }
   ],
   "source": [
    "frame=pd.DataFrame(np.arange(16).reshape((4,4)),index=['ohio','colorado','utah','new york'],\n",
    "                  columns=['one','two','three','four'])\n",
    "print(frame)\n",
    "print(frame.loc['colorado',['three','one']])\n",
    "print(frame.loc[['colorado','ohio'],['three','one']])"
   ]
  },
  {
   "cell_type": "code",
   "execution_count": 8,
   "metadata": {},
   "outputs": [
    {
     "name": "stdout",
     "output_type": "stream",
     "text": [
      "two       9\n",
      "three    10\n",
      "Name: utah, dtype: int32\n"
     ]
    }
   ],
   "source": [
    "print(frame.iloc[2,[1,2]])"
   ]
  },
  {
   "cell_type": "code",
   "execution_count": 9,
   "metadata": {},
   "outputs": [
    {
     "name": "stdout",
     "output_type": "stream",
     "text": [
      "          one  two  three  four\n",
      "ohio        0    1      2     3\n",
      "colorado    4    5      6     7\n",
      "utah        8    9     10    11\n",
      "new york   12   13     14    15\n"
     ]
    }
   ],
   "source": [
    "print(frame.iloc[:])"
   ]
  },
  {
   "cell_type": "code",
   "execution_count": 10,
   "metadata": {},
   "outputs": [
    {
     "name": "stdout",
     "output_type": "stream",
     "text": [
      "          one  two  three\n",
      "ohio        0    1      2\n",
      "colorado    4    5      6\n",
      "utah        8    9     10\n"
     ]
    }
   ],
   "source": [
    "print(frame.iloc[:3,:3])"
   ]
  },
  {
   "cell_type": "markdown",
   "metadata": {},
   "source": [
    "# Arithemtic and Data Alignement"
   ]
  },
  {
   "cell_type": "code",
   "execution_count": 11,
   "metadata": {},
   "outputs": [
    {
     "name": "stdout",
     "output_type": "stream",
     "text": [
      "          b  c  d\n",
      "ohio      0  1  2\n",
      "colorado  3  4  5\n",
      "texas     6  7  8\n",
      "          b   d   e\n",
      "ohio      0   1   2\n",
      "colorado  3   4   5\n",
      "texas     6   7   8\n",
      "oregon    9  10  11\n",
      "             b   c     d   e\n",
      "colorado   6.0 NaN   9.0 NaN\n",
      "ohio       0.0 NaN   3.0 NaN\n",
      "oregon     NaN NaN   NaN NaN\n",
      "texas     12.0 NaN  15.0 NaN\n"
     ]
    }
   ],
   "source": [
    "df1=pd.DataFrame(np.arange(9).reshape((3,3)),index=['ohio','colorado','texas'],\n",
    "                  columns=['b','c','d'])\n",
    "df2=pd.DataFrame(np.arange(12).reshape((4,3)),index=['ohio','colorado','texas','oregon'],\n",
    "                  columns=['b','d','e'])\n",
    "print(df1)\n",
    "print(df2)\n",
    "df3=df1+df2\n",
    "print(df3)"
   ]
  },
  {
   "cell_type": "code",
   "execution_count": 12,
   "metadata": {},
   "outputs": [
    {
     "name": "stdout",
     "output_type": "stream",
     "text": [
      "          b  c  d\n",
      "ohio      0  1  2\n",
      "colorado  3  4  5\n",
      "texas     6  7  8\n",
      "          b   d   e\n",
      "ohio      0   1   2\n",
      "colorado  3   4   5\n",
      "texas     6   7   8\n",
      "oregon    9  10  11\n",
      "             b   c     d   e\n",
      "colorado   6.0 NaN   9.0 NaN\n",
      "ohio       0.0 NaN   3.0 NaN\n",
      "oregon     NaN NaN   NaN NaN\n",
      "texas     12.0 NaN  15.0 NaN\n"
     ]
    },
    {
     "data": {
      "text/html": [
       "<div>\n",
       "<style scoped>\n",
       "    .dataframe tbody tr th:only-of-type {\n",
       "        vertical-align: middle;\n",
       "    }\n",
       "\n",
       "    .dataframe tbody tr th {\n",
       "        vertical-align: top;\n",
       "    }\n",
       "\n",
       "    .dataframe thead th {\n",
       "        text-align: right;\n",
       "    }\n",
       "</style>\n",
       "<table border=\"1\" class=\"dataframe\">\n",
       "  <thead>\n",
       "    <tr style=\"text-align: right;\">\n",
       "      <th></th>\n",
       "      <th>b</th>\n",
       "      <th>c</th>\n",
       "      <th>d</th>\n",
       "      <th>e</th>\n",
       "    </tr>\n",
       "  </thead>\n",
       "  <tbody>\n",
       "    <tr>\n",
       "      <th>colorado</th>\n",
       "      <td>6.0</td>\n",
       "      <td>4.0</td>\n",
       "      <td>9.0</td>\n",
       "      <td>5.0</td>\n",
       "    </tr>\n",
       "    <tr>\n",
       "      <th>ohio</th>\n",
       "      <td>0.0</td>\n",
       "      <td>1.0</td>\n",
       "      <td>3.0</td>\n",
       "      <td>2.0</td>\n",
       "    </tr>\n",
       "    <tr>\n",
       "      <th>oregon</th>\n",
       "      <td>9.0</td>\n",
       "      <td>NaN</td>\n",
       "      <td>10.0</td>\n",
       "      <td>11.0</td>\n",
       "    </tr>\n",
       "    <tr>\n",
       "      <th>texas</th>\n",
       "      <td>12.0</td>\n",
       "      <td>7.0</td>\n",
       "      <td>15.0</td>\n",
       "      <td>8.0</td>\n",
       "    </tr>\n",
       "  </tbody>\n",
       "</table>\n",
       "</div>"
      ],
      "text/plain": [
       "             b    c     d     e\n",
       "colorado   6.0  4.0   9.0   5.0\n",
       "ohio       0.0  1.0   3.0   2.0\n",
       "oregon     9.0  NaN  10.0  11.0\n",
       "texas     12.0  7.0  15.0   8.0"
      ]
     },
     "execution_count": 12,
     "metadata": {},
     "output_type": "execute_result"
    }
   ],
   "source": [
    "print(df1)\n",
    "print(df2)\n",
    "print(df1+df2)\n",
    "df3=df1.add(df2,fill_value=0)\n",
    "df3"
   ]
  },
  {
   "cell_type": "markdown",
   "metadata": {},
   "source": [
    "# Operation between dataframe and series"
   ]
  },
  {
   "cell_type": "code",
   "execution_count": 13,
   "metadata": {},
   "outputs": [
    {
     "name": "stdout",
     "output_type": "stream",
     "text": [
      "          b   d   e\n",
      "ohio      0   1   2\n",
      "colorado  3   4   5\n",
      "texas     6   7   8\n",
      "oregon    9  10  11\n",
      "Index(['b', 'd', 'e'], dtype='object') [3 2 4]\n",
      "          b  d  e\n",
      "ohio     -3 -1 -2\n",
      "colorado  0  2  1\n",
      "texas     3  5  4\n",
      "oregon    6  8  7\n"
     ]
    }
   ],
   "source": [
    "frame=pd.DataFrame(np.arange(12).reshape((4,3)),index=['ohio','colorado','texas','oregon'],\n",
    "                  columns=['b','d','e'])\n",
    "print(frame)\n",
    "series=pd.Series([3,2,4],index=['b','d','e'])\n",
    "print(series.index,series.values)\n",
    "print(frame-series)"
   ]
  },
  {
   "cell_type": "markdown",
   "metadata": {},
   "source": [
    "# Delete data from pandas dataframe"
   ]
  },
  {
   "cell_type": "code",
   "execution_count": 14,
   "metadata": {},
   "outputs": [
    {
     "name": "stdout",
     "output_type": "stream",
     "text": [
      "           b   d   e   a\n",
      "ohio       0   1   2   3\n",
      "colorado   4   5   6   7\n",
      "texas      8   9  10  11\n",
      "oregon    12  13  14  15 \n",
      "\n",
      "           b   d   a\n",
      "ohio       0   1   3\n",
      "colorado   4   5   7\n",
      "oregon    12  13  15\n"
     ]
    }
   ],
   "source": [
    "frame=pd.DataFrame(np.arange(16).reshape((4,4)),index=['ohio','colorado','texas','oregon'],\n",
    "                  columns=['b','d','e','a'])\n",
    "print(frame,'\\n')\n",
    "frame=frame.drop('e',axis=1)\n",
    "#frame.drop('e',axis=1,inplace=True)\n",
    "frame=frame.drop('texas',axis=0)\n",
    "print(frame)"
   ]
  },
  {
   "cell_type": "markdown",
   "metadata": {},
   "source": [
    "# slicing,indexing,filtering in dataframe"
   ]
  },
  {
   "cell_type": "code",
   "execution_count": 15,
   "metadata": {},
   "outputs": [
    {
     "name": "stdout",
     "output_type": "stream",
     "text": [
      "           b   d   e   a\n",
      "ohio       0   1   2   3\n",
      "colorado   4   5   6   7\n",
      "texas      8   9  10  11\n",
      "oregon    12  13  14  15 \n",
      "\n",
      "           d   e\n",
      "ohio       1   2\n",
      "colorado   5   6\n",
      "texas      9  10\n",
      "oregon    13  14\n",
      "          b  d  e  a\n",
      "ohio      0  1  2  3\n",
      "colorado  4  5  6  7\n",
      "ohio        False\n",
      "colorado    False\n",
      "texas        True\n",
      "oregon       True\n",
      "Name: e, dtype: bool\n"
     ]
    }
   ],
   "source": [
    "frame=pd.DataFrame(np.arange(16).reshape((4,4)),index=['ohio','colorado','texas','oregon'],\n",
    "                  columns=['b','d','e','a'])\n",
    "print(frame,'\\n')\n",
    "print(frame[['d','e']])\n",
    "print(frame[:2])\n",
    "print(frame['e']>6)"
   ]
  },
  {
   "cell_type": "markdown",
   "metadata": {},
   "source": [
    "# Reindex and ffill"
   ]
  },
  {
   "cell_type": "code",
   "execution_count": 16,
   "metadata": {},
   "outputs": [
    {
     "name": "stdout",
     "output_type": "stream",
     "text": [
      "2       blue\n",
      "3     purple\n",
      "4     purple\n",
      "5     purple\n",
      "6     yellow\n",
      "7     yellow\n",
      "8     yellow\n",
      "9     yellow\n",
      "10    yellow\n",
      "dtype: object\n"
     ]
    }
   ],
   "source": [
    "obj1=pd.Series(['blue','purple','yellow'],index=[0,3,6])\n",
    "obj1\n",
    "#obj1=obj1.reindex(range(9),method='ffill')\n",
    "#obj1\n",
    "obj1=obj1.reindex(range(2,11),method='ffill')\n",
    "print(obj1)"
   ]
  },
  {
   "cell_type": "code",
   "execution_count": 17,
   "metadata": {},
   "outputs": [
    {
     "name": "stdout",
     "output_type": "stream",
     "text": [
      "           a   b   c   d   e\n",
      "ohio       3   0 NaN   1   2\n",
      "colorado   7   4 NaN   5   6\n",
      "texas     11   8 NaN   9  10\n",
      "oregon    15  12 NaN  13  14\n"
     ]
    }
   ],
   "source": [
    "frame=pd.DataFrame(np.arange(16).reshape((4,4)),index=['ohio','colorado','texas','oregon'],\n",
    "                  columns=['b','d','e','a'])\n",
    "frame_c=['a','b','c','d','e']\n",
    "frame=frame.reindex(columns=frame_c)\n",
    "print(frame)"
   ]
  },
  {
   "cell_type": "markdown",
   "metadata": {},
   "source": [
    "# Selection with loc and iloc"
   ]
  },
  {
   "cell_type": "code",
   "execution_count": 18,
   "metadata": {},
   "outputs": [
    {
     "name": "stdout",
     "output_type": "stream",
     "text": [
      "          b   d   e\n",
      "ohio      0   1   2\n",
      "colorado  3   4   5\n",
      "texas     6   7   8\n",
      "oregon    9  10  11\n",
      "texas      7\n",
      "oregon    10\n",
      "Name: d, dtype: int32\n",
      "        b   d   e\n",
      "texas   6   7   8\n",
      "oregon  9  10  11\n"
     ]
    }
   ],
   "source": [
    "frame=pd.DataFrame(np.arange(12).reshape((4,3)),index=['ohio','colorado','texas','oregon'],\n",
    "                  columns=['b','d','e'])\n",
    "print(frame)\n",
    "#print(frame['d'])\n",
    "#print(frame.d)\n",
    "#print(frame.d[2:])\n",
    "#print(frame['d'][2:])\n",
    "#print(frame[frame['d']>4])\n",
    "print(frame.d[frame['d']>4])\n",
    "df=(frame.d>4)\n",
    "print(frame[df])"
   ]
  },
  {
   "cell_type": "code",
   "execution_count": 40,
   "metadata": {},
   "outputs": [
    {
     "name": "stdout",
     "output_type": "stream",
     "text": [
      "          b   d   e\n",
      "ohio      0   1   2\n",
      "colorado  3   4   5\n",
      "texas     6   7   8\n",
      "oregon    9  10  11\n",
      "          b\n",
      "ohio      0\n",
      "colorado  3\n",
      "texas     6\n",
      "oregon    9\n",
      "          b  d  e\n",
      "ohio      0  1  2\n",
      "colorado  3  4  5\n"
     ]
    }
   ],
   "source": [
    "frame=pd.DataFrame(np.arange(12).reshape((4,3)),index=['ohio','colorado','texas','oregon'],\n",
    "                  columns=['b','d','e'])\n",
    "print(frame)\n",
    "#print(frame.loc['colorado',['d','e']])\n",
    "#print(frame.loc[['colorado','ohio'],['e','d']])\n",
    "#print(frame.iloc[1,[0,1]])\n",
    "#print(frame.iloc[[1,2],[2,3]])\n",
    "#print(frame.iloc[:])\n",
    "print(frame.iloc[:,:1])\n",
    "print(frame.iloc[:2])"
   ]
  }
 ],
 "metadata": {
  "kernelspec": {
   "display_name": "Python 3",
   "language": "python",
   "name": "python3"
  },
  "language_info": {
   "codemirror_mode": {
    "name": "ipython",
    "version": 3
   },
   "file_extension": ".py",
   "mimetype": "text/x-python",
   "name": "python",
   "nbconvert_exporter": "python",
   "pygments_lexer": "ipython3",
   "version": "3.7.3"
  }
 },
 "nbformat": 4,
 "nbformat_minor": 2
}
